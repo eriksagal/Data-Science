{
 "cells": [
  {
   "cell_type": "code",
   "execution_count": 1,
   "metadata": {},
   "outputs": [],
   "source": [
    "import pandas as pd"
   ]
  },
  {
   "cell_type": "code",
   "execution_count": 2,
   "metadata": {},
   "outputs": [],
   "source": [
    "nombres= [\"Andrea\",\"Brandon\",\"Cesar\",\"Carlos\"]\n",
    "profesiones = [\"Arquitecta\",\"Estadístico\",\"Administrador\",\"Ingeniero de Sistemas\"]\n",
    "edad = [25, 30, 32, 28]\n",
    "distrito = [\"Lince\", \"Miraflores\", \"Jesús María\", \"Surco\"]"
   ]
  },
  {
   "cell_type": "code",
   "execution_count": 3,
   "metadata": {},
   "outputs": [],
   "source": [
    "datos = {\"nombres\": nombres,\n",
    "        \"profesión\": profesiones,\n",
    "        \"edades\": edad,\n",
    "        \"distrito\": distrito}"
   ]
  },
  {
   "cell_type": "code",
   "execution_count": 4,
   "metadata": {},
   "outputs": [],
   "source": [
    "df = pd.DataFrame(datos)"
   ]
  },
  {
   "cell_type": "code",
   "execution_count": 5,
   "metadata": {},
   "outputs": [
    {
     "name": "stdout",
     "output_type": "stream",
     "text": [
      "<class 'pandas.core.frame.DataFrame'>\n",
      "RangeIndex: 4 entries, 0 to 3\n",
      "Data columns (total 4 columns):\n",
      " #   Column     Non-Null Count  Dtype \n",
      "---  ------     --------------  ----- \n",
      " 0   nombres    4 non-null      object\n",
      " 1   profesión  4 non-null      object\n",
      " 2   edades     4 non-null      int64 \n",
      " 3   distrito   4 non-null      object\n",
      "dtypes: int64(1), object(3)\n",
      "memory usage: 256.0+ bytes\n"
     ]
    }
   ],
   "source": [
    "df.info()"
   ]
  },
  {
   "cell_type": "code",
   "execution_count": 6,
   "metadata": {},
   "outputs": [
    {
     "data": {
      "text/html": [
       "<div>\n",
       "<style scoped>\n",
       "    .dataframe tbody tr th:only-of-type {\n",
       "        vertical-align: middle;\n",
       "    }\n",
       "\n",
       "    .dataframe tbody tr th {\n",
       "        vertical-align: top;\n",
       "    }\n",
       "\n",
       "    .dataframe thead th {\n",
       "        text-align: right;\n",
       "    }\n",
       "</style>\n",
       "<table border=\"1\" class=\"dataframe\">\n",
       "  <thead>\n",
       "    <tr style=\"text-align: right;\">\n",
       "      <th></th>\n",
       "      <th>nombres</th>\n",
       "      <th>profesión</th>\n",
       "      <th>edades</th>\n",
       "      <th>distrito</th>\n",
       "    </tr>\n",
       "  </thead>\n",
       "  <tbody>\n",
       "    <tr>\n",
       "      <th>0</th>\n",
       "      <td>Andrea</td>\n",
       "      <td>Arquitecta</td>\n",
       "      <td>25</td>\n",
       "      <td>Lince</td>\n",
       "    </tr>\n",
       "    <tr>\n",
       "      <th>1</th>\n",
       "      <td>Brandon</td>\n",
       "      <td>Estadístico</td>\n",
       "      <td>30</td>\n",
       "      <td>Miraflores</td>\n",
       "    </tr>\n",
       "    <tr>\n",
       "      <th>2</th>\n",
       "      <td>Cesar</td>\n",
       "      <td>Administrador</td>\n",
       "      <td>32</td>\n",
       "      <td>Jesús María</td>\n",
       "    </tr>\n",
       "    <tr>\n",
       "      <th>3</th>\n",
       "      <td>Carlos</td>\n",
       "      <td>Ingeniero de Sistemas</td>\n",
       "      <td>28</td>\n",
       "      <td>Surco</td>\n",
       "    </tr>\n",
       "  </tbody>\n",
       "</table>\n",
       "</div>"
      ],
      "text/plain": [
       "   nombres              profesión  edades     distrito\n",
       "0   Andrea             Arquitecta      25        Lince\n",
       "1  Brandon            Estadístico      30   Miraflores\n",
       "2    Cesar          Administrador      32  Jesús María\n",
       "3   Carlos  Ingeniero de Sistemas      28        Surco"
      ]
     },
     "execution_count": 6,
     "metadata": {},
     "output_type": "execute_result"
    }
   ],
   "source": [
    "df.head()"
   ]
  },
  {
   "cell_type": "code",
   "execution_count": 8,
   "metadata": {},
   "outputs": [
    {
     "data": {
      "text/plain": [
       "4"
      ]
     },
     "execution_count": 8,
     "metadata": {},
     "output_type": "execute_result"
    }
   ],
   "source": [
    "len(df)"
   ]
  },
  {
   "cell_type": "code",
   "execution_count": 10,
   "metadata": {},
   "outputs": [
    {
     "data": {
      "text/plain": [
       "4"
      ]
     },
     "execution_count": 10,
     "metadata": {},
     "output_type": "execute_result"
    }
   ],
   "source": [
    "#cúantas variables tenemos en nuestro df\n",
    "len(df.columns)"
   ]
  },
  {
   "cell_type": "code",
   "execution_count": 12,
   "metadata": {},
   "outputs": [
    {
     "data": {
      "text/plain": [
       "4"
      ]
     },
     "execution_count": 12,
     "metadata": {},
     "output_type": "execute_result"
    }
   ],
   "source": [
    "#cuántos registros tenemos en nuestro df\n",
    "len(df.index)"
   ]
  },
  {
   "cell_type": "markdown",
   "metadata": {},
   "source": [
    "**Transformar a lista las etiquetas de columna**"
   ]
  },
  {
   "cell_type": "code",
   "execution_count": null,
   "metadata": {},
   "outputs": [],
   "source": [
    "#algunas funciones en python requieren en sus parámetros que se ingresen las etiquetas de variables"
   ]
  },
  {
   "cell_type": "code",
   "execution_count": 15,
   "metadata": {},
   "outputs": [
    {
     "data": {
      "text/plain": [
       "['nombres', 'profesión', 'edades', 'distrito']"
      ]
     },
     "execution_count": 15,
     "metadata": {},
     "output_type": "execute_result"
    }
   ],
   "source": [
    "list(df.columns)"
   ]
  },
  {
   "cell_type": "code",
   "execution_count": 16,
   "metadata": {},
   "outputs": [
    {
     "data": {
      "text/plain": [
       "['nombres', 'profesión', 'edades', 'distrito']"
      ]
     },
     "execution_count": 16,
     "metadata": {},
     "output_type": "execute_result"
    }
   ],
   "source": [
    "df.columns.tolist()"
   ]
  },
  {
   "cell_type": "code",
   "execution_count": null,
   "metadata": {},
   "outputs": [],
   "source": [
    "#porque existen librerías como h2o, por ejemplo, que requiere ingresar las etiquetas de las columnas del df"
   ]
  },
  {
   "cell_type": "markdown",
   "metadata": {},
   "source": [
    "**Extraer valores por etiqueta**"
   ]
  },
  {
   "cell_type": "code",
   "execution_count": 24,
   "metadata": {},
   "outputs": [
    {
     "data": {
      "text/plain": [
       "array([25, 30, 32, 28], dtype=int64)"
      ]
     },
     "execution_count": 24,
     "metadata": {},
     "output_type": "execute_result"
    }
   ],
   "source": [
    "#existen funciones que solicita se ingresen los valores de variables\n",
    "df[\"edades\"].values"
   ]
  },
  {
   "cell_type": "markdown",
   "metadata": {},
   "source": [
    "**Extraer valores por posición**"
   ]
  },
  {
   "cell_type": "code",
   "execution_count": 26,
   "metadata": {},
   "outputs": [
    {
     "data": {
      "text/plain": [
       "array([['Andrea', 'Arquitecta', 25],\n",
       "       ['Brandon', 'Estadístico', 30],\n",
       "       ['Cesar', 'Administrador', 32],\n",
       "       ['Carlos', 'Ingeniero de Sistemas', 28]], dtype=object)"
      ]
     },
     "execution_count": 26,
     "metadata": {},
     "output_type": "execute_result"
    }
   ],
   "source": [
    "df.iloc[:,0:3].values"
   ]
  },
  {
   "cell_type": "markdown",
   "metadata": {},
   "source": [
    "**Selección de columnas por posición**"
   ]
  },
  {
   "cell_type": "code",
   "execution_count": 27,
   "metadata": {},
   "outputs": [
    {
     "data": {
      "text/html": [
       "<div>\n",
       "<style scoped>\n",
       "    .dataframe tbody tr th:only-of-type {\n",
       "        vertical-align: middle;\n",
       "    }\n",
       "\n",
       "    .dataframe tbody tr th {\n",
       "        vertical-align: top;\n",
       "    }\n",
       "\n",
       "    .dataframe thead th {\n",
       "        text-align: right;\n",
       "    }\n",
       "</style>\n",
       "<table border=\"1\" class=\"dataframe\">\n",
       "  <thead>\n",
       "    <tr style=\"text-align: right;\">\n",
       "      <th></th>\n",
       "      <th>nombres</th>\n",
       "      <th>profesión</th>\n",
       "      <th>edades</th>\n",
       "    </tr>\n",
       "  </thead>\n",
       "  <tbody>\n",
       "    <tr>\n",
       "      <th>0</th>\n",
       "      <td>Andrea</td>\n",
       "      <td>Arquitecta</td>\n",
       "      <td>25</td>\n",
       "    </tr>\n",
       "    <tr>\n",
       "      <th>1</th>\n",
       "      <td>Brandon</td>\n",
       "      <td>Estadístico</td>\n",
       "      <td>30</td>\n",
       "    </tr>\n",
       "    <tr>\n",
       "      <th>2</th>\n",
       "      <td>Cesar</td>\n",
       "      <td>Administrador</td>\n",
       "      <td>32</td>\n",
       "    </tr>\n",
       "    <tr>\n",
       "      <th>3</th>\n",
       "      <td>Carlos</td>\n",
       "      <td>Ingeniero de Sistemas</td>\n",
       "      <td>28</td>\n",
       "    </tr>\n",
       "  </tbody>\n",
       "</table>\n",
       "</div>"
      ],
      "text/plain": [
       "   nombres              profesión  edades\n",
       "0   Andrea             Arquitecta      25\n",
       "1  Brandon            Estadístico      30\n",
       "2    Cesar          Administrador      32\n",
       "3   Carlos  Ingeniero de Sistemas      28"
      ]
     },
     "execution_count": 27,
     "metadata": {},
     "output_type": "execute_result"
    }
   ],
   "source": [
    "df.iloc[:,0:3]"
   ]
  },
  {
   "cell_type": "code",
   "execution_count": 29,
   "metadata": {},
   "outputs": [
    {
     "data": {
      "text/html": [
       "<div>\n",
       "<style scoped>\n",
       "    .dataframe tbody tr th:only-of-type {\n",
       "        vertical-align: middle;\n",
       "    }\n",
       "\n",
       "    .dataframe tbody tr th {\n",
       "        vertical-align: top;\n",
       "    }\n",
       "\n",
       "    .dataframe thead th {\n",
       "        text-align: right;\n",
       "    }\n",
       "</style>\n",
       "<table border=\"1\" class=\"dataframe\">\n",
       "  <thead>\n",
       "    <tr style=\"text-align: right;\">\n",
       "      <th></th>\n",
       "      <th>nombres</th>\n",
       "      <th>edades</th>\n",
       "    </tr>\n",
       "  </thead>\n",
       "  <tbody>\n",
       "    <tr>\n",
       "      <th>0</th>\n",
       "      <td>Andrea</td>\n",
       "      <td>25</td>\n",
       "    </tr>\n",
       "    <tr>\n",
       "      <th>1</th>\n",
       "      <td>Brandon</td>\n",
       "      <td>30</td>\n",
       "    </tr>\n",
       "    <tr>\n",
       "      <th>2</th>\n",
       "      <td>Cesar</td>\n",
       "      <td>32</td>\n",
       "    </tr>\n",
       "    <tr>\n",
       "      <th>3</th>\n",
       "      <td>Carlos</td>\n",
       "      <td>28</td>\n",
       "    </tr>\n",
       "  </tbody>\n",
       "</table>\n",
       "</div>"
      ],
      "text/plain": [
       "   nombres  edades\n",
       "0   Andrea      25\n",
       "1  Brandon      30\n",
       "2    Cesar      32\n",
       "3   Carlos      28"
      ]
     },
     "execution_count": 29,
     "metadata": {},
     "output_type": "execute_result"
    }
   ],
   "source": [
    "df.iloc[:,[0,2]]"
   ]
  },
  {
   "cell_type": "markdown",
   "metadata": {},
   "source": [
    "**Selección de columnas por etiqueta**"
   ]
  },
  {
   "cell_type": "code",
   "execution_count": 43,
   "metadata": {},
   "outputs": [
    {
     "data": {
      "text/plain": [
       "array([['Andrea', 'Arquitecta'],\n",
       "       ['Brandon', 'Estadístico'],\n",
       "       ['Cesar', 'Administrador'],\n",
       "       ['Carlos', 'Ingeniero de Sistemas']], dtype=object)"
      ]
     },
     "execution_count": 43,
     "metadata": {},
     "output_type": "execute_result"
    }
   ],
   "source": [
    "df[[\"nombres\",\"profesión\"]].values"
   ]
  },
  {
   "cell_type": "code",
   "execution_count": 42,
   "metadata": {},
   "outputs": [
    {
     "data": {
      "text/plain": [
       "array([25, 30, 32, 28], dtype=int64)"
      ]
     },
     "execution_count": 42,
     "metadata": {},
     "output_type": "execute_result"
    }
   ],
   "source": [
    "df.loc[:,\"edades\"].values"
   ]
  },
  {
   "cell_type": "markdown",
   "metadata": {},
   "source": [
    "**Selección de filas**\n",
    "\n",
    "iloc"
   ]
  },
  {
   "cell_type": "code",
   "execution_count": 30,
   "metadata": {},
   "outputs": [
    {
     "data": {
      "text/html": [
       "<div>\n",
       "<style scoped>\n",
       "    .dataframe tbody tr th:only-of-type {\n",
       "        vertical-align: middle;\n",
       "    }\n",
       "\n",
       "    .dataframe tbody tr th {\n",
       "        vertical-align: top;\n",
       "    }\n",
       "\n",
       "    .dataframe thead th {\n",
       "        text-align: right;\n",
       "    }\n",
       "</style>\n",
       "<table border=\"1\" class=\"dataframe\">\n",
       "  <thead>\n",
       "    <tr style=\"text-align: right;\">\n",
       "      <th></th>\n",
       "      <th>nombres</th>\n",
       "      <th>edades</th>\n",
       "    </tr>\n",
       "  </thead>\n",
       "  <tbody>\n",
       "    <tr>\n",
       "      <th>0</th>\n",
       "      <td>Andrea</td>\n",
       "      <td>25</td>\n",
       "    </tr>\n",
       "    <tr>\n",
       "      <th>1</th>\n",
       "      <td>Brandon</td>\n",
       "      <td>30</td>\n",
       "    </tr>\n",
       "  </tbody>\n",
       "</table>\n",
       "</div>"
      ],
      "text/plain": [
       "   nombres  edades\n",
       "0   Andrea      25\n",
       "1  Brandon      30"
      ]
     },
     "execution_count": 30,
     "metadata": {},
     "output_type": "execute_result"
    }
   ],
   "source": [
    "df.iloc[0:2,[0,2]]"
   ]
  },
  {
   "cell_type": "markdown",
   "metadata": {},
   "source": [
    "**Filtros**"
   ]
  },
  {
   "cell_type": "code",
   "execution_count": 37,
   "metadata": {},
   "outputs": [
    {
     "data": {
      "text/html": [
       "<div>\n",
       "<style scoped>\n",
       "    .dataframe tbody tr th:only-of-type {\n",
       "        vertical-align: middle;\n",
       "    }\n",
       "\n",
       "    .dataframe tbody tr th {\n",
       "        vertical-align: top;\n",
       "    }\n",
       "\n",
       "    .dataframe thead th {\n",
       "        text-align: right;\n",
       "    }\n",
       "</style>\n",
       "<table border=\"1\" class=\"dataframe\">\n",
       "  <thead>\n",
       "    <tr style=\"text-align: right;\">\n",
       "      <th></th>\n",
       "      <th>nombres</th>\n",
       "      <th>profesión</th>\n",
       "      <th>edades</th>\n",
       "      <th>distrito</th>\n",
       "    </tr>\n",
       "  </thead>\n",
       "  <tbody>\n",
       "    <tr>\n",
       "      <th>1</th>\n",
       "      <td>Brandon</td>\n",
       "      <td>Estadístico</td>\n",
       "      <td>30</td>\n",
       "      <td>Miraflores</td>\n",
       "    </tr>\n",
       "  </tbody>\n",
       "</table>\n",
       "</div>"
      ],
      "text/plain": [
       "   nombres    profesión  edades    distrito\n",
       "1  Brandon  Estadístico      30  Miraflores"
      ]
     },
     "execution_count": 37,
     "metadata": {},
     "output_type": "execute_result"
    }
   ],
   "source": [
    "df[(df.profesión==\"Estadístico\") & (df.edades>=30)]"
   ]
  },
  {
   "cell_type": "code",
   "execution_count": 51,
   "metadata": {},
   "outputs": [],
   "source": [
    "df_copia = df.copy()\n",
    "#copy(): tipeado dinámico"
   ]
  },
  {
   "cell_type": "code",
   "execution_count": 46,
   "metadata": {},
   "outputs": [
    {
     "data": {
      "text/html": [
       "<div>\n",
       "<style scoped>\n",
       "    .dataframe tbody tr th:only-of-type {\n",
       "        vertical-align: middle;\n",
       "    }\n",
       "\n",
       "    .dataframe tbody tr th {\n",
       "        vertical-align: top;\n",
       "    }\n",
       "\n",
       "    .dataframe thead th {\n",
       "        text-align: right;\n",
       "    }\n",
       "</style>\n",
       "<table border=\"1\" class=\"dataframe\">\n",
       "  <thead>\n",
       "    <tr style=\"text-align: right;\">\n",
       "      <th></th>\n",
       "      <th>nombres</th>\n",
       "      <th>profesión</th>\n",
       "      <th>edades</th>\n",
       "    </tr>\n",
       "  </thead>\n",
       "  <tbody>\n",
       "    <tr>\n",
       "      <th>0</th>\n",
       "      <td>Andrea</td>\n",
       "      <td>Arquitecta</td>\n",
       "      <td>25</td>\n",
       "    </tr>\n",
       "    <tr>\n",
       "      <th>1</th>\n",
       "      <td>Brandon</td>\n",
       "      <td>Estadístico</td>\n",
       "      <td>30</td>\n",
       "    </tr>\n",
       "    <tr>\n",
       "      <th>2</th>\n",
       "      <td>Cesar</td>\n",
       "      <td>Administrador</td>\n",
       "      <td>32</td>\n",
       "    </tr>\n",
       "    <tr>\n",
       "      <th>3</th>\n",
       "      <td>Carlos</td>\n",
       "      <td>Ingeniero de Sistemas</td>\n",
       "      <td>28</td>\n",
       "    </tr>\n",
       "  </tbody>\n",
       "</table>\n",
       "</div>"
      ],
      "text/plain": [
       "   nombres              profesión  edades\n",
       "0   Andrea             Arquitecta      25\n",
       "1  Brandon            Estadístico      30\n",
       "2    Cesar          Administrador      32\n",
       "3   Carlos  Ingeniero de Sistemas      28"
      ]
     },
     "execution_count": 46,
     "metadata": {},
     "output_type": "execute_result"
    }
   ],
   "source": [
    "df_copia.drop(\"distrito\",\n",
    "             axis=1,\n",
    "             inplace=False)\n",
    "\n",
    "#axis toma dos valores\n",
    "#axis=1 cuando la función va operar por columna\n",
    "#axis=0 cuando la función va operar por fila\n"
   ]
  },
  {
   "cell_type": "code",
   "execution_count": 48,
   "metadata": {},
   "outputs": [],
   "source": [
    "df_copia.drop(\"distrito\",\n",
    "             axis=1,\n",
    "             inplace=True)"
   ]
  },
  {
   "cell_type": "code",
   "execution_count": 50,
   "metadata": {},
   "outputs": [
    {
     "data": {
      "text/html": [
       "<div>\n",
       "<style scoped>\n",
       "    .dataframe tbody tr th:only-of-type {\n",
       "        vertical-align: middle;\n",
       "    }\n",
       "\n",
       "    .dataframe tbody tr th {\n",
       "        vertical-align: top;\n",
       "    }\n",
       "\n",
       "    .dataframe thead th {\n",
       "        text-align: right;\n",
       "    }\n",
       "</style>\n",
       "<table border=\"1\" class=\"dataframe\">\n",
       "  <thead>\n",
       "    <tr style=\"text-align: right;\">\n",
       "      <th></th>\n",
       "      <th>nombres</th>\n",
       "      <th>profesión</th>\n",
       "      <th>edades</th>\n",
       "    </tr>\n",
       "  </thead>\n",
       "  <tbody>\n",
       "    <tr>\n",
       "      <th>1</th>\n",
       "      <td>Brandon</td>\n",
       "      <td>Estadístico</td>\n",
       "      <td>30</td>\n",
       "    </tr>\n",
       "    <tr>\n",
       "      <th>2</th>\n",
       "      <td>Cesar</td>\n",
       "      <td>Administrador</td>\n",
       "      <td>32</td>\n",
       "    </tr>\n",
       "    <tr>\n",
       "      <th>3</th>\n",
       "      <td>Carlos</td>\n",
       "      <td>Ingeniero de Sistemas</td>\n",
       "      <td>28</td>\n",
       "    </tr>\n",
       "  </tbody>\n",
       "</table>\n",
       "</div>"
      ],
      "text/plain": [
       "   nombres              profesión  edades\n",
       "1  Brandon            Estadístico      30\n",
       "2    Cesar          Administrador      32\n",
       "3   Carlos  Ingeniero de Sistemas      28"
      ]
     },
     "execution_count": 50,
     "metadata": {},
     "output_type": "execute_result"
    }
   ],
   "source": [
    "df_copia.drop([0],\n",
    "             axis=0,\n",
    "             inplace=False)"
   ]
  },
  {
   "cell_type": "code",
   "execution_count": 49,
   "metadata": {},
   "outputs": [
    {
     "data": {
      "text/html": [
       "<div>\n",
       "<style scoped>\n",
       "    .dataframe tbody tr th:only-of-type {\n",
       "        vertical-align: middle;\n",
       "    }\n",
       "\n",
       "    .dataframe tbody tr th {\n",
       "        vertical-align: top;\n",
       "    }\n",
       "\n",
       "    .dataframe thead th {\n",
       "        text-align: right;\n",
       "    }\n",
       "</style>\n",
       "<table border=\"1\" class=\"dataframe\">\n",
       "  <thead>\n",
       "    <tr style=\"text-align: right;\">\n",
       "      <th></th>\n",
       "      <th>nombres</th>\n",
       "      <th>profesión</th>\n",
       "      <th>edades</th>\n",
       "    </tr>\n",
       "  </thead>\n",
       "  <tbody>\n",
       "    <tr>\n",
       "      <th>0</th>\n",
       "      <td>Andrea</td>\n",
       "      <td>Arquitecta</td>\n",
       "      <td>25</td>\n",
       "    </tr>\n",
       "    <tr>\n",
       "      <th>1</th>\n",
       "      <td>Brandon</td>\n",
       "      <td>Estadístico</td>\n",
       "      <td>30</td>\n",
       "    </tr>\n",
       "    <tr>\n",
       "      <th>2</th>\n",
       "      <td>Cesar</td>\n",
       "      <td>Administrador</td>\n",
       "      <td>32</td>\n",
       "    </tr>\n",
       "    <tr>\n",
       "      <th>3</th>\n",
       "      <td>Carlos</td>\n",
       "      <td>Ingeniero de Sistemas</td>\n",
       "      <td>28</td>\n",
       "    </tr>\n",
       "  </tbody>\n",
       "</table>\n",
       "</div>"
      ],
      "text/plain": [
       "   nombres              profesión  edades\n",
       "0   Andrea             Arquitecta      25\n",
       "1  Brandon            Estadístico      30\n",
       "2    Cesar          Administrador      32\n",
       "3   Carlos  Ingeniero de Sistemas      28"
      ]
     },
     "execution_count": 49,
     "metadata": {},
     "output_type": "execute_result"
    }
   ],
   "source": [
    "df_copia"
   ]
  },
  {
   "cell_type": "code",
   "execution_count": 52,
   "metadata": {},
   "outputs": [
    {
     "data": {
      "text/html": [
       "<div>\n",
       "<style scoped>\n",
       "    .dataframe tbody tr th:only-of-type {\n",
       "        vertical-align: middle;\n",
       "    }\n",
       "\n",
       "    .dataframe tbody tr th {\n",
       "        vertical-align: top;\n",
       "    }\n",
       "\n",
       "    .dataframe thead th {\n",
       "        text-align: right;\n",
       "    }\n",
       "</style>\n",
       "<table border=\"1\" class=\"dataframe\">\n",
       "  <thead>\n",
       "    <tr style=\"text-align: right;\">\n",
       "      <th></th>\n",
       "      <th>nombres</th>\n",
       "      <th>profesión</th>\n",
       "      <th>edades</th>\n",
       "      <th>distrito</th>\n",
       "    </tr>\n",
       "  </thead>\n",
       "  <tbody>\n",
       "    <tr>\n",
       "      <th>0</th>\n",
       "      <td>Andrea</td>\n",
       "      <td>Arquitecta</td>\n",
       "      <td>25</td>\n",
       "      <td>Lince</td>\n",
       "    </tr>\n",
       "    <tr>\n",
       "      <th>1</th>\n",
       "      <td>Brandon</td>\n",
       "      <td>Estadístico</td>\n",
       "      <td>30</td>\n",
       "      <td>Miraflores</td>\n",
       "    </tr>\n",
       "    <tr>\n",
       "      <th>2</th>\n",
       "      <td>Cesar</td>\n",
       "      <td>Administrador</td>\n",
       "      <td>32</td>\n",
       "      <td>Jesús María</td>\n",
       "    </tr>\n",
       "    <tr>\n",
       "      <th>3</th>\n",
       "      <td>Carlos</td>\n",
       "      <td>Ingeniero de Sistemas</td>\n",
       "      <td>28</td>\n",
       "      <td>Surco</td>\n",
       "    </tr>\n",
       "  </tbody>\n",
       "</table>\n",
       "</div>"
      ],
      "text/plain": [
       "   nombres              profesión  edades     distrito\n",
       "0   Andrea             Arquitecta      25        Lince\n",
       "1  Brandon            Estadístico      30   Miraflores\n",
       "2    Cesar          Administrador      32  Jesús María\n",
       "3   Carlos  Ingeniero de Sistemas      28        Surco"
      ]
     },
     "execution_count": 52,
     "metadata": {},
     "output_type": "execute_result"
    }
   ],
   "source": [
    "df_copia"
   ]
  },
  {
   "cell_type": "code",
   "execution_count": 56,
   "metadata": {},
   "outputs": [
    {
     "data": {
      "text/html": [
       "<div>\n",
       "<style scoped>\n",
       "    .dataframe tbody tr th:only-of-type {\n",
       "        vertical-align: middle;\n",
       "    }\n",
       "\n",
       "    .dataframe tbody tr th {\n",
       "        vertical-align: top;\n",
       "    }\n",
       "\n",
       "    .dataframe thead th {\n",
       "        text-align: right;\n",
       "    }\n",
       "</style>\n",
       "<table border=\"1\" class=\"dataframe\">\n",
       "  <thead>\n",
       "    <tr style=\"text-align: right;\">\n",
       "      <th></th>\n",
       "      <th>nombres</th>\n",
       "      <th>profesión</th>\n",
       "      <th>edades</th>\n",
       "    </tr>\n",
       "  </thead>\n",
       "  <tbody>\n",
       "    <tr>\n",
       "      <th>0</th>\n",
       "      <td>Andrea</td>\n",
       "      <td>Arquitecta</td>\n",
       "      <td>25</td>\n",
       "    </tr>\n",
       "    <tr>\n",
       "      <th>1</th>\n",
       "      <td>Brandon</td>\n",
       "      <td>Estadístico</td>\n",
       "      <td>30</td>\n",
       "    </tr>\n",
       "    <tr>\n",
       "      <th>2</th>\n",
       "      <td>Cesar</td>\n",
       "      <td>Administrador</td>\n",
       "      <td>32</td>\n",
       "    </tr>\n",
       "    <tr>\n",
       "      <th>3</th>\n",
       "      <td>Carlos</td>\n",
       "      <td>Ingeniero de Sistemas</td>\n",
       "      <td>28</td>\n",
       "    </tr>\n",
       "  </tbody>\n",
       "</table>\n",
       "</div>"
      ],
      "text/plain": [
       "   nombres              profesión  edades\n",
       "0   Andrea             Arquitecta      25\n",
       "1  Brandon            Estadístico      30\n",
       "2    Cesar          Administrador      32\n",
       "3   Carlos  Ingeniero de Sistemas      28"
      ]
     },
     "execution_count": 56,
     "metadata": {},
     "output_type": "execute_result"
    }
   ],
   "source": [
    "df_copia.drop(\"distrito\",\n",
    "             axis=1,\n",
    "             inplace=False)"
   ]
  },
  {
   "cell_type": "code",
   "execution_count": 57,
   "metadata": {},
   "outputs": [
    {
     "data": {
      "text/html": [
       "<div>\n",
       "<style scoped>\n",
       "    .dataframe tbody tr th:only-of-type {\n",
       "        vertical-align: middle;\n",
       "    }\n",
       "\n",
       "    .dataframe tbody tr th {\n",
       "        vertical-align: top;\n",
       "    }\n",
       "\n",
       "    .dataframe thead th {\n",
       "        text-align: right;\n",
       "    }\n",
       "</style>\n",
       "<table border=\"1\" class=\"dataframe\">\n",
       "  <thead>\n",
       "    <tr style=\"text-align: right;\">\n",
       "      <th></th>\n",
       "      <th>nombres</th>\n",
       "      <th>profesión</th>\n",
       "      <th>edades</th>\n",
       "      <th>distrito</th>\n",
       "    </tr>\n",
       "  </thead>\n",
       "  <tbody>\n",
       "    <tr>\n",
       "      <th>0</th>\n",
       "      <td>Andrea</td>\n",
       "      <td>Arquitecta</td>\n",
       "      <td>25</td>\n",
       "      <td>Lince</td>\n",
       "    </tr>\n",
       "    <tr>\n",
       "      <th>1</th>\n",
       "      <td>Brandon</td>\n",
       "      <td>Estadístico</td>\n",
       "      <td>30</td>\n",
       "      <td>Miraflores</td>\n",
       "    </tr>\n",
       "    <tr>\n",
       "      <th>2</th>\n",
       "      <td>Cesar</td>\n",
       "      <td>Administrador</td>\n",
       "      <td>32</td>\n",
       "      <td>Jesús María</td>\n",
       "    </tr>\n",
       "    <tr>\n",
       "      <th>3</th>\n",
       "      <td>Carlos</td>\n",
       "      <td>Ingeniero de Sistemas</td>\n",
       "      <td>28</td>\n",
       "      <td>Surco</td>\n",
       "    </tr>\n",
       "  </tbody>\n",
       "</table>\n",
       "</div>"
      ],
      "text/plain": [
       "   nombres              profesión  edades     distrito\n",
       "0   Andrea             Arquitecta      25        Lince\n",
       "1  Brandon            Estadístico      30   Miraflores\n",
       "2    Cesar          Administrador      32  Jesús María\n",
       "3   Carlos  Ingeniero de Sistemas      28        Surco"
      ]
     },
     "execution_count": 57,
     "metadata": {},
     "output_type": "execute_result"
    }
   ],
   "source": [
    "df_copia"
   ]
  },
  {
   "cell_type": "code",
   "execution_count": 58,
   "metadata": {},
   "outputs": [],
   "source": [
    "df_copia.drop(\"distrito\",\n",
    "             axis=1,\n",
    "             inplace=True)"
   ]
  },
  {
   "cell_type": "code",
   "execution_count": 59,
   "metadata": {},
   "outputs": [
    {
     "data": {
      "text/html": [
       "<div>\n",
       "<style scoped>\n",
       "    .dataframe tbody tr th:only-of-type {\n",
       "        vertical-align: middle;\n",
       "    }\n",
       "\n",
       "    .dataframe tbody tr th {\n",
       "        vertical-align: top;\n",
       "    }\n",
       "\n",
       "    .dataframe thead th {\n",
       "        text-align: right;\n",
       "    }\n",
       "</style>\n",
       "<table border=\"1\" class=\"dataframe\">\n",
       "  <thead>\n",
       "    <tr style=\"text-align: right;\">\n",
       "      <th></th>\n",
       "      <th>nombres</th>\n",
       "      <th>profesión</th>\n",
       "      <th>edades</th>\n",
       "    </tr>\n",
       "  </thead>\n",
       "  <tbody>\n",
       "    <tr>\n",
       "      <th>0</th>\n",
       "      <td>Andrea</td>\n",
       "      <td>Arquitecta</td>\n",
       "      <td>25</td>\n",
       "    </tr>\n",
       "    <tr>\n",
       "      <th>1</th>\n",
       "      <td>Brandon</td>\n",
       "      <td>Estadístico</td>\n",
       "      <td>30</td>\n",
       "    </tr>\n",
       "    <tr>\n",
       "      <th>2</th>\n",
       "      <td>Cesar</td>\n",
       "      <td>Administrador</td>\n",
       "      <td>32</td>\n",
       "    </tr>\n",
       "    <tr>\n",
       "      <th>3</th>\n",
       "      <td>Carlos</td>\n",
       "      <td>Ingeniero de Sistemas</td>\n",
       "      <td>28</td>\n",
       "    </tr>\n",
       "  </tbody>\n",
       "</table>\n",
       "</div>"
      ],
      "text/plain": [
       "   nombres              profesión  edades\n",
       "0   Andrea             Arquitecta      25\n",
       "1  Brandon            Estadístico      30\n",
       "2    Cesar          Administrador      32\n",
       "3   Carlos  Ingeniero de Sistemas      28"
      ]
     },
     "execution_count": 59,
     "metadata": {},
     "output_type": "execute_result"
    }
   ],
   "source": [
    "df_copia"
   ]
  },
  {
   "cell_type": "code",
   "execution_count": 60,
   "metadata": {},
   "outputs": [
    {
     "data": {
      "text/html": [
       "<div>\n",
       "<style scoped>\n",
       "    .dataframe tbody tr th:only-of-type {\n",
       "        vertical-align: middle;\n",
       "    }\n",
       "\n",
       "    .dataframe tbody tr th {\n",
       "        vertical-align: top;\n",
       "    }\n",
       "\n",
       "    .dataframe thead th {\n",
       "        text-align: right;\n",
       "    }\n",
       "</style>\n",
       "<table border=\"1\" class=\"dataframe\">\n",
       "  <thead>\n",
       "    <tr style=\"text-align: right;\">\n",
       "      <th></th>\n",
       "      <th>nombres</th>\n",
       "      <th>profesión</th>\n",
       "      <th>edades</th>\n",
       "    </tr>\n",
       "  </thead>\n",
       "  <tbody>\n",
       "    <tr>\n",
       "      <th>0</th>\n",
       "      <td>Andrea</td>\n",
       "      <td>Arquitecta</td>\n",
       "      <td>25</td>\n",
       "    </tr>\n",
       "    <tr>\n",
       "      <th>1</th>\n",
       "      <td>Brandon</td>\n",
       "      <td>Estadístico</td>\n",
       "      <td>30</td>\n",
       "    </tr>\n",
       "    <tr>\n",
       "      <th>3</th>\n",
       "      <td>Carlos</td>\n",
       "      <td>Ingeniero de Sistemas</td>\n",
       "      <td>28</td>\n",
       "    </tr>\n",
       "  </tbody>\n",
       "</table>\n",
       "</div>"
      ],
      "text/plain": [
       "   nombres              profesión  edades\n",
       "0   Andrea             Arquitecta      25\n",
       "1  Brandon            Estadístico      30\n",
       "3   Carlos  Ingeniero de Sistemas      28"
      ]
     },
     "execution_count": 60,
     "metadata": {},
     "output_type": "execute_result"
    }
   ],
   "source": [
    "df_copia[df_copia.nombres!=\"Cesar\"]"
   ]
  },
  {
   "cell_type": "code",
   "execution_count": null,
   "metadata": {},
   "outputs": [],
   "source": []
  },
  {
   "cell_type": "code",
   "execution_count": 61,
   "metadata": {},
   "outputs": [
    {
     "data": {
      "text/plain": [
       "25"
      ]
     },
     "execution_count": 61,
     "metadata": {},
     "output_type": "execute_result"
    }
   ],
   "source": [
    "df_copia.edades.min()"
   ]
  },
  {
   "cell_type": "code",
   "execution_count": 62,
   "metadata": {},
   "outputs": [
    {
     "data": {
      "text/plain": [
       "32"
      ]
     },
     "execution_count": 62,
     "metadata": {},
     "output_type": "execute_result"
    }
   ],
   "source": [
    "df_copia.edades.max()"
   ]
  },
  {
   "cell_type": "code",
   "execution_count": 65,
   "metadata": {},
   "outputs": [],
   "source": [
    "df_copia.iloc[0,2]=27"
   ]
  },
  {
   "cell_type": "code",
   "execution_count": 66,
   "metadata": {},
   "outputs": [
    {
     "data": {
      "text/html": [
       "<div>\n",
       "<style scoped>\n",
       "    .dataframe tbody tr th:only-of-type {\n",
       "        vertical-align: middle;\n",
       "    }\n",
       "\n",
       "    .dataframe tbody tr th {\n",
       "        vertical-align: top;\n",
       "    }\n",
       "\n",
       "    .dataframe thead th {\n",
       "        text-align: right;\n",
       "    }\n",
       "</style>\n",
       "<table border=\"1\" class=\"dataframe\">\n",
       "  <thead>\n",
       "    <tr style=\"text-align: right;\">\n",
       "      <th></th>\n",
       "      <th>nombres</th>\n",
       "      <th>profesión</th>\n",
       "      <th>edades</th>\n",
       "    </tr>\n",
       "  </thead>\n",
       "  <tbody>\n",
       "    <tr>\n",
       "      <th>0</th>\n",
       "      <td>Andrea</td>\n",
       "      <td>Arquitecta</td>\n",
       "      <td>27</td>\n",
       "    </tr>\n",
       "    <tr>\n",
       "      <th>1</th>\n",
       "      <td>Brandon</td>\n",
       "      <td>Estadístico</td>\n",
       "      <td>30</td>\n",
       "    </tr>\n",
       "    <tr>\n",
       "      <th>2</th>\n",
       "      <td>Cesar</td>\n",
       "      <td>Administrador</td>\n",
       "      <td>32</td>\n",
       "    </tr>\n",
       "    <tr>\n",
       "      <th>3</th>\n",
       "      <td>Carlos</td>\n",
       "      <td>Ingeniero de Sistemas</td>\n",
       "      <td>28</td>\n",
       "    </tr>\n",
       "  </tbody>\n",
       "</table>\n",
       "</div>"
      ],
      "text/plain": [
       "   nombres              profesión  edades\n",
       "0   Andrea             Arquitecta      27\n",
       "1  Brandon            Estadístico      30\n",
       "2    Cesar          Administrador      32\n",
       "3   Carlos  Ingeniero de Sistemas      28"
      ]
     },
     "execution_count": 66,
     "metadata": {},
     "output_type": "execute_result"
    }
   ],
   "source": [
    "df_copia"
   ]
  },
  {
   "cell_type": "markdown",
   "metadata": {},
   "source": [
    "**Importación de ficheros**"
   ]
  },
  {
   "cell_type": "code",
   "execution_count": 76,
   "metadata": {},
   "outputs": [],
   "source": [
    "import json5\n",
    "import json #importación de ficheros json\n",
    "import pandas as pd #varios tipos de importación, por ejemplo csv\n",
    "import xlrd #importar ficheros de excel\n",
    "import pyreadstat #importar ficheros de spss\n",
    "import numpy as np #operaciones\n",
    "import os #cuenta con funciones para consultar o modificar el directorio de trabajo"
   ]
  },
  {
   "cell_type": "code",
   "execution_count": 78,
   "metadata": {},
   "outputs": [],
   "source": [
    "os.chdir(\"D:/Python/1. Nivel I/3/datos\")"
   ]
  },
  {
   "cell_type": "code",
   "execution_count": 79,
   "metadata": {},
   "outputs": [
    {
     "data": {
      "text/plain": [
       "'D:\\\\Python\\\\1. Nivel I\\\\3\\\\datos'"
      ]
     },
     "execution_count": 79,
     "metadata": {},
     "output_type": "execute_result"
    }
   ],
   "source": [
    "os.getcwd()"
   ]
  },
  {
   "cell_type": "markdown",
   "metadata": {},
   "source": [
    "**JSON**"
   ]
  },
  {
   "cell_type": "code",
   "execution_count": 80,
   "metadata": {},
   "outputs": [],
   "source": [
    "#subvenciones.json\n",
    "with open(\"subvenciones.json\", encoding=\"utf-8\") as fichero:\n",
    "    datos = json.load(fichero)"
   ]
  },
  {
   "cell_type": "code",
   "execution_count": 81,
   "metadata": {},
   "outputs": [
    {
     "data": {
      "text/plain": [
       "list"
      ]
     },
     "execution_count": 81,
     "metadata": {},
     "output_type": "execute_result"
    }
   ],
   "source": [
    "type(datos)"
   ]
  },
  {
   "cell_type": "code",
   "execution_count": 83,
   "metadata": {},
   "outputs": [
    {
     "data": {
      "text/plain": [
       "dict"
      ]
     },
     "execution_count": 83,
     "metadata": {},
     "output_type": "execute_result"
    }
   ],
   "source": [
    "type(datos[0])"
   ]
  },
  {
   "cell_type": "code",
   "execution_count": 84,
   "metadata": {},
   "outputs": [
    {
     "data": {
      "text/plain": [
       "[{'Asociación': 'AMPA ANTONIO MACHADO',\n",
       "  'Actividad Subvencionada': 'TALLER FIESTA DE CARNAVAL',\n",
       "  'Importe en euros': '94.56'},\n",
       " {'Asociación': 'AMPA ANTONIO MACHADO',\n",
       "  'Actividad Subvencionada': 'TALLER DIA DEL PADRE',\n",
       "  'Importe en euros': '39.04 '},\n",
       " {'Asociación': 'AMPA ANTONIO MACHADO',\n",
       "  'Actividad Subvencionada': 'TALLER DIA DE LA MADRE',\n",
       "  'Importe en euros': '43.64 '},\n",
       " {'Asociación': 'AMPA ANTONIO MACHADO',\n",
       "  'Actividad Subvencionada': 'FIESTA FIN DE CURSO',\n",
       "  'Importe en euros': '921.00 '},\n",
       " {'Asociación': 'AMPA ANTONIO MACHADO',\n",
       "  'Actividad Subvencionada': 'CONCURSO LOGOTIPO AMPA',\n",
       "  'Importe en euros': '56.57 '},\n",
       " {'Asociación': 'AMPA ANTONIO MACHADO',\n",
       "  'Actividad Subvencionada': 'ASOCIACION FAPA ALCOBENDAS',\n",
       "  'Importe en euros': '80.00 '},\n",
       " {'Asociación': 'AMPA ANTONIO MACHADO',\n",
       "  'Actividad Subvencionada': 'ASOCIACION FAPA GINER DE LOS RIOS',\n",
       "  'Importe en euros': '86.79 '},\n",
       " {'Asociación': 'AMPA ANTONIO MACHADO',\n",
       "  'Actividad Subvencionada': 'FIESTA DE NAVIDAD',\n",
       "  'Importe en euros': '660.00 '},\n",
       " {'Asociación': 'AMPA ANTONIO MACHADO',\n",
       "  'Actividad Subvencionada': 'HALLOWEEN',\n",
       "  'Importe en euros': '168.39 '},\n",
       " {'Asociación': 'AMPA ANTONIO MACHADO',\n",
       "  'Actividad Subvencionada': 'SAN ISIDRO',\n",
       "  'Importe en euros': '195.00 '},\n",
       " {'Asociación': 'AMPA BACHILLER ALONSO LOPEZ',\n",
       "  'Actividad Subvencionada': 'MATEMATICAS MANIPULATIVAS',\n",
       "  'Importe en euros': '480.00 '},\n",
       " {'Asociación': 'AMPA BACHILLER ALONSO LOPEZ',\n",
       "  'Actividad Subvencionada': 'PROYECTO DE INGLES',\n",
       "  'Importe en euros': '480.00 '},\n",
       " {'Asociación': 'AMPA BACHILLER ALONSO LOPEZ',\n",
       "  'Actividad Subvencionada': 'EXCURSIONES PRIMARIA',\n",
       "  'Importe en euros': '928.00 '},\n",
       " {'Asociación': 'AMPA BACHILLER ALONSO LOPEZ',\n",
       "  'Actividad Subvencionada': 'GRADUACIÓN INFANTIL',\n",
       "  'Importe en euros': '360.00 '},\n",
       " {'Asociación': 'AMPA BACHILLER ALONSO LOPEZ',\n",
       "  'Actividad Subvencionada': 'GRADUACIÓN 6 PRIM',\n",
       "  'Importe en euros': '240.00 '},\n",
       " {'Asociación': 'AMPA BACHILLER ALONSO LOPEZ',\n",
       "  'Actividad Subvencionada': 'REVISTA COLEGIO ENTRETIZAS',\n",
       "  'Importe en euros': '220.00 '},\n",
       " {'Asociación': 'AMPA BACHILLER ALONSO LOPEZ',\n",
       "  'Actividad Subvencionada': 'FIESTA INTERCULTURAL',\n",
       "  'Importe en euros': '492.00 '},\n",
       " {'Asociación': 'AMPA CASTILLA',\n",
       "  'Actividad Subvencionada': 'CONCURSO TARJETAS NAVIDEÑAS',\n",
       "  'Importe en euros': '124.00 '},\n",
       " {'Asociación': 'AMPA CASTILLA',\n",
       "  'Actividad Subvencionada': 'TALLER COMO MEJORAR LA AUTOESTIMA DE NUESTROS HIJOS',\n",
       "  'Importe en euros': '160.00 '},\n",
       " {'Asociación': 'AMPA CASTILLA',\n",
       "  'Actividad Subvencionada': 'FIESTA FIN DE CURSO',\n",
       "  'Importe en euros': '840.00 '},\n",
       " {'Asociación': 'AMPA CASTILLA',\n",
       "  'Actividad Subvencionada': 'PROPUESTA DE ACTIV EXTRAESCOLARES,INSCRIPCIONES. INTERCAMBIO LIBROS',\n",
       "  'Importe en euros': '150.00'},\n",
       " {'Asociación': 'AMPA CASTILLA',\n",
       "  'Actividad Subvencionada': 'FEDERACION',\n",
       "  'Importe en euros': '64.00 '},\n",
       " {'Asociación': 'AMPA CASTILLA',\n",
       "  'Actividad Subvencionada': 'FIESTA REYES MAGOS',\n",
       "  'Importe en euros': '460.00 '},\n",
       " {'Asociación': 'AMPA CASTILLA',\n",
       "  'Actividad Subvencionada': 'CHOCOLATADA',\n",
       "  'Importe en euros': '336.00 '},\n",
       " {'Asociación': 'AMPA CASTILLA',\n",
       "  'Actividad Subvencionada': 'SAN ISIDRO',\n",
       "  'Importe en euros': '163.00 '},\n",
       " {'Asociación': 'AMPA CASTILLA',\n",
       "  'Actividad Subvencionada': 'HALLOWEEN',\n",
       "  'Importe en euros': '160.00 '},\n",
       " {'Asociación': 'AMPA CASTILLA',\n",
       "  'Actividad Subvencionada': 'CARNAVAL EN LA AULAS',\n",
       "  'Importe en euros': '147.44 '},\n",
       " {'Asociación': 'AMPA DAOIZ Y VELARDE',\n",
       "  'Actividad Subvencionada': 'PLAN LECTOR',\n",
       "  'Importe en euros': '370.00 '},\n",
       " {'Asociación': 'AMPA DAOIZ Y VELARDE',\n",
       "  'Actividad Subvencionada': 'CONCIERTO MUSICA DIVERTIDA',\n",
       "  'Importe en euros': '575.74 '},\n",
       " {'Asociación': 'AMPA DAOIZ Y VELARDE',\n",
       "  'Actividad Subvencionada': 'TALLER HABILIDADES SOCIALES O TECNICAS DE ESTUDIO',\n",
       "  'Importe en euros': '220.00 '},\n",
       " {'Asociación': 'AMPA DAOIZ Y VELARDE',\n",
       "  'Actividad Subvencionada': 'FIESTA FIN DE CURSO',\n",
       "  'Importe en euros': '600.00 '},\n",
       " {'Asociación': 'AMPA DAOIZ Y VELARDE',\n",
       "  'Actividad Subvencionada': 'GRADUACIONES INFANTIL Y SEXTO',\n",
       "  'Importe en euros': '160.00 '},\n",
       " {'Asociación': 'AMPA DAOIZ Y VELARDE',\n",
       "  'Actividad Subvencionada': 'AGENDAS',\n",
       "  'Importe en euros': '340.00 '},\n",
       " {'Asociación': 'AMPA DAOIZ Y VELARDE',\n",
       "  'Actividad Subvencionada': 'EXPOSICION FOTOGRAFICA',\n",
       "  'Importe en euros': '198.00 '},\n",
       " {'Asociación': 'AMPA DAOIZ Y VELARDE',\n",
       "  'Actividad Subvencionada': 'NAVIDAD',\n",
       "  'Importe en euros': '689.00 '},\n",
       " {'Asociación': 'AMPA EMILIO CASADO',\n",
       "  'Actividad Subvencionada': 'DIA DE LA MUSICA',\n",
       "  'Importe en euros': '295.67 '},\n",
       " {'Asociación': 'AMPA EMILIO CASADO',\n",
       "  'Actividad Subvencionada': 'SALIDA CULTURAL AL TEATRO',\n",
       "  'Importe en euros': '196.00 '},\n",
       " {'Asociación': 'AMPA EMILIO CASADO',\n",
       "  'Actividad Subvencionada': 'FESTIVAL FIN DE CURSO',\n",
       "  'Importe en euros': '247.00 '},\n",
       " {'Asociación': 'AMPA EMILIO CASADO',\n",
       "  'Actividad Subvencionada': 'FIESTA FIN DE CURSO',\n",
       "  'Importe en euros': '1.000.00 '},\n",
       " {'Asociación': 'AMPA EMILIO CASADO',\n",
       "  'Actividad Subvencionada': 'ASOCIACION FAPA GINER DE LOS RIOS',\n",
       "  'Importe en euros': '175.00 '},\n",
       " {'Asociación': 'AMPA EMILIO CASADO',\n",
       "  'Actividad Subvencionada': 'ASOCIACION FAPA ALCOBENDAS',\n",
       "  'Importe en euros': '77.00 '},\n",
       " {'Asociación': 'AMPA EMILIO CASADO',\n",
       "  'Actividad Subvencionada': 'FIESTA NAVIDAD',\n",
       "  'Importe en euros': '850.00 '},\n",
       " {'Asociación': 'AMPA EMILIO CASADO',\n",
       "  'Actividad Subvencionada': 'INTERCENTROS ATLETISMO',\n",
       "  'Importe en euros': '175.00 '},\n",
       " {'Asociación': 'AMPA FEDERICO GARCIA LORCA',\n",
       "  'Actividad Subvencionada': 'DIA DEL LIBRO',\n",
       "  'Importe en euros': '1.400.00 '},\n",
       " {'Asociación': 'AMPA FEDERICO GARCIA LORCA',\n",
       "  'Actividad Subvencionada': 'TALLERES DE HALLOWEEN Y ADORNOS NAVIDAD',\n",
       "  'Importe en euros': '85.00 '},\n",
       " {'Asociación': 'AMPA FEDERICO GARCIA LORCA',\n",
       "  'Actividad Subvencionada': 'FIESTA FIN DE CURSO',\n",
       "  'Importe en euros': '434.06 '},\n",
       " {'Asociación': 'AMPA GABRIEL Y GALAN',\n",
       "  'Actividad Subvencionada': 'EXCURSIONES',\n",
       "  'Importe en euros': '1.151.51 '},\n",
       " {'Asociación': 'AMPA GABRIEL Y GALAN',\n",
       "  'Actividad Subvencionada': 'HUERTO ESCOLAR',\n",
       "  'Importe en euros': '80.00 '},\n",
       " {'Asociación': 'AMPA GABRIEL Y GALAN',\n",
       "  'Actividad Subvencionada': 'CUENTACUENTOS',\n",
       "  'Importe en euros': '200.00 '},\n",
       " {'Asociación': 'AMPA GABRIEL Y GALAN',\n",
       "  'Actividad Subvencionada': 'TALLER NAVIDEÑO',\n",
       "  'Importe en euros': '120.00 '},\n",
       " {'Asociación': 'AMPA GABRIEL Y GALAN',\n",
       "  'Actividad Subvencionada': 'FIESTA FIN DE CURSO',\n",
       "  'Importe en euros': '480.00 '},\n",
       " {'Asociación': 'AMPA GABRIEL Y GALAN',\n",
       "  'Actividad Subvencionada': 'PERIODICO',\n",
       "  'Importe en euros': '160.00 '},\n",
       " {'Asociación': 'AMPA GABRIEL Y GALAN',\n",
       "  'Actividad Subvencionada': 'CARNAVAL',\n",
       "  'Importe en euros': '350.00 '},\n",
       " {'Asociación': 'AMPA GABRIEL Y GALAN',\n",
       "  'Actividad Subvencionada': 'SAN ISIDRO',\n",
       "  'Importe en euros': '200.00 '},\n",
       " {'Asociación': 'AMPA LUIS BUÑUEL',\n",
       "  'Actividad Subvencionada': 'CONCURSO FELICITACIONES DE NAVIDAD',\n",
       "  'Importe en euros': '90.00 '},\n",
       " {'Asociación': 'AMPA LUIS BUÑUEL',\n",
       "  'Actividad Subvencionada': 'MERCADILLO NAVIDEÑO',\n",
       "  'Importe en euros': '90.00 '},\n",
       " {'Asociación': 'AMPA LUIS BUÑUEL',\n",
       "  'Actividad Subvencionada': 'GRADUACION',\n",
       "  'Importe en euros': '440.00 '},\n",
       " {'Asociación': 'AMPA LUIS BUÑUEL',\n",
       "  'Actividad Subvencionada': 'FIESTA FIN DE CURSO',\n",
       "  'Importe en euros': '55.00 '},\n",
       " {'Asociación': 'AMPA LUIS BUÑUEL',\n",
       "  'Actividad Subvencionada': 'PARTICIPACION FAPA ALCOBENDAS Y FAPA GINER DE LOS RIOS',\n",
       "  'Importe en euros': '227.00 '},\n",
       " {'Asociación': 'AMPA LUIS BUÑUEL',\n",
       "  'Actividad Subvencionada': 'FIESTA NAVIDAD',\n",
       "  'Importe en euros': '625.00 '},\n",
       " {'Asociación': 'AMPA LUIS BUÑUEL',\n",
       "  'Actividad Subvencionada': 'SAN ISIDRO',\n",
       "  'Importe en euros': '200.00 '},\n",
       " {'Asociación': 'AMPA LUIS BUÑUEL',\n",
       "  'Actividad Subvencionada': 'FIESTA DE HALLOWEEN',\n",
       "  'Importe en euros': '80.00 '},\n",
       " {'Asociación': 'AMPA LUIS BUÑUEL',\n",
       "  'Actividad Subvencionada': 'CASTAÑADA',\n",
       "  'Importe en euros': '65.00 '},\n",
       " {'Asociación': 'AMPA LUIS BUÑUEL',\n",
       "  'Actividad Subvencionada': 'CARNAVAL EN LAS AULAS: MERCADILLO MEDIEVAL',\n",
       "  'Importe en euros': '209.00 '},\n",
       " {'Asociación': 'AMPA MIGUEL HERNANDEZ',\n",
       "  'Actividad Subvencionada': 'CERTAMEN LITERARIO Y DE DIBUJO',\n",
       "  'Importe en euros': '300.00 '},\n",
       " {'Asociación': 'AMPA MIGUEL HERNANDEZ',\n",
       "  'Actividad Subvencionada': 'SEMANA CULTURAL',\n",
       "  'Importe en euros': '153.00 '},\n",
       " {'Asociación': 'AMPA MIGUEL HERNANDEZ',\n",
       "  'Actividad Subvencionada': 'EXCURSION A MADRID',\n",
       "  'Importe en euros': '504.00 '},\n",
       " {'Asociación': 'AMPA MIGUEL HERNANDEZ',\n",
       "  'Actividad Subvencionada': 'EXCURSION A SIERRA DE GUADARRAMA',\n",
       "  'Importe en euros': '293.00 '},\n",
       " {'Asociación': 'AMPA MIGUEL HERNANDEZ',\n",
       "  'Actividad Subvencionada': 'CONCURSO DE TARJETAS NAVIDEÑAS',\n",
       "  'Importe en euros': '150.00 '},\n",
       " {'Asociación': 'AMPA MIGUEL HERNANDEZ',\n",
       "  'Actividad Subvencionada': 'PARTICIPACION FESTIVAL FAPA',\n",
       "  'Importe en euros': '12.00 '},\n",
       " {'Asociación': 'AMPA MIGUEL HERNANDEZ',\n",
       "  'Actividad Subvencionada': 'FESTIVAL FIN CURSO',\n",
       "  'Importe en euros': '287.00 '},\n",
       " {'Asociación': 'AMPA MIGUEL HERNANDEZ',\n",
       "  'Actividad Subvencionada': 'ENTREGA DE ORLAS 3º INFANTIL',\n",
       "  'Importe en euros': '100.00 '},\n",
       " {'Asociación': 'AMPA MIGUEL HERNANDEZ',\n",
       "  'Actividad Subvencionada': 'PARTICIPACION EN FEDERACIONES',\n",
       "  'Importe en euros': '80.00 '},\n",
       " {'Asociación': 'AMPA MIGUEL HERNANDEZ',\n",
       "  'Actividad Subvencionada': 'VISITA REYES MAGOS',\n",
       "  'Importe en euros': '530.00 '},\n",
       " {'Asociación': 'AMPA MIGUEL HERNANDEZ',\n",
       "  'Actividad Subvencionada': 'FIESTA NAVIDAD',\n",
       "  'Importe en euros': '475.00 '},\n",
       " {'Asociación': 'AMPA MIGUEL HERNANDEZ',\n",
       "  'Actividad Subvencionada': 'TORNEOS DEPORTIVOS',\n",
       "  'Importe en euros': '39.35 '},\n",
       " {'Asociación': 'AMPA MIRAFLORES',\n",
       "  'Actividad Subvencionada': 'SALIDA CULTURAL SAFARI',\n",
       "  'Importe en euros': '1.500.00 '},\n",
       " {'Asociación': 'AMPA MIRAFLORES',\n",
       "  'Actividad Subvencionada': 'FIESTA FIN DE CURSO',\n",
       "  'Importe en euros': '560.00 '},\n",
       " {'Asociación': 'AMPA MIRAFLORES',\n",
       "  'Actividad Subvencionada': 'CUENTOS EN MIRAFLORES',\n",
       "  'Importe en euros': '400.00 '},\n",
       " {'Asociación': 'AMPA MIRAFLORES',\n",
       "  'Actividad Subvencionada': 'FIESTA DE NAVIDAD',\n",
       "  'Importe en euros': '327.21 '},\n",
       " {'Asociación': 'AMPA PARQUE CATALUÑA',\n",
       "  'Actividad Subvencionada': 'CONCURSO DE TARJETAS NAVIDEÑAS',\n",
       "  'Importe en euros': '290.00 '},\n",
       " {'Asociación': 'AMPA PARQUE CATALUÑA',\n",
       "  'Actividad Subvencionada': 'FUTBOL',\n",
       "  'Importe en euros': '95.00 '},\n",
       " {'Asociación': 'AMPA PARQUE CATALUÑA',\n",
       "  'Actividad Subvencionada': 'MULTIDEPORTE',\n",
       "  'Importe en euros': '400.00 '},\n",
       " {'Asociación': 'AMPA PARQUE CATALUÑA',\n",
       "  'Actividad Subvencionada': 'GRADUACIÓN',\n",
       "  'Importe en euros': '130.00 '},\n",
       " {'Asociación': 'AMPA PARQUE CATALUÑA',\n",
       "  'Actividad Subvencionada': 'FIESTA FIN DE CURSO',\n",
       "  'Importe en euros': '995.00 '},\n",
       " {'Asociación': 'AMPA PARQUE CATALUÑA',\n",
       "  'Actividad Subvencionada': 'PARTICIPACIÓN FAPA',\n",
       "  'Importe en euros': '64.00 '},\n",
       " {'Asociación': 'AMPA PARQUE CATALUÑA',\n",
       "  'Actividad Subvencionada': 'NAVIDAD',\n",
       "  'Importe en euros': '455.00 '},\n",
       " {'Asociación': 'AMPA PARQUE CATALUÑA',\n",
       "  'Actividad Subvencionada': 'DIA DEL LIBRO',\n",
       "  'Importe en euros': '175.44 '},\n",
       " {'Asociación': 'AMPA PROFESOR TIERNO GALVÁN',\n",
       "  'Actividad Subvencionada': 'FIESTA FIN DE CURSO',\n",
       "  'Importe en euros': '300.00 '},\n",
       " {'Asociación': 'AMPA PROFESOR TIERNO GALVÁN',\n",
       "  'Actividad Subvencionada': 'FAPA',\n",
       "  'Importe en euros': '80.00 '},\n",
       " {'Asociación': 'AMPA PROFESOR TIERNO GALVÁN',\n",
       "  'Actividad Subvencionada': 'DIA DEL LIBRO',\n",
       "  'Importe en euros': '306.00 '},\n",
       " {'Asociación': 'AMPA PROFESOR TIERNO GALVÁN',\n",
       "  'Actividad Subvencionada': 'DIA DE SAN ISIDRO',\n",
       "  'Importe en euros': '100.00 '},\n",
       " {'Asociación': 'AMPA PROFESOR TIERNO GALVÁN',\n",
       "  'Actividad Subvencionada': 'CONCURSO DE CHRISTMAS',\n",
       "  'Importe en euros': '250.00 '},\n",
       " {'Asociación': 'AMPA PROFESOR TIERNO GALVÁN',\n",
       "  'Actividad Subvencionada': 'FIESTA NAVIDAD',\n",
       "  'Importe en euros': '250.00 '},\n",
       " {'Asociación': 'AMPA SEIS DE DICIEMBRE',\n",
       "  'Actividad Subvencionada': 'EXCURSION GRANJA TALAMANCA',\n",
       "  'Importe en euros': '476.00 '},\n",
       " {'Asociación': 'AMPA SEIS DE DICIEMBRE',\n",
       "  'Actividad Subvencionada': 'NAVIDAD',\n",
       "  'Importe en euros': '320.00 '},\n",
       " {'Asociación': 'AMPA SEIS DE DICIEMBRE',\n",
       "  'Actividad Subvencionada': 'CUENTACUENTOS AMBIENTALES',\n",
       "  'Importe en euros': '280.00 '},\n",
       " {'Asociación': 'AMPA SEIS DE DICIEMBRE',\n",
       "  'Actividad Subvencionada': 'FIN DE CURSO',\n",
       "  'Importe en euros': '256.00 '},\n",
       " {'Asociación': 'AMPA SEIS DE DICIEMBRE',\n",
       "  'Actividad Subvencionada': 'FESTIVAL FIN DE CURSO',\n",
       "  'Importe en euros': '100.00 '},\n",
       " {'Asociación': 'AMPA SEIS DE DICIEMBRE',\n",
       "  'Actividad Subvencionada': 'AGENDA ESCOLAR',\n",
       "  'Importe en euros': '518.00 '},\n",
       " {'Asociación': 'AMPA VALDEPALITOS',\n",
       "  'Actividad Subvencionada': 'VISITA MUSEO DEL VIDRIO',\n",
       "  'Importe en euros': '385.50 '},\n",
       " {'Asociación': 'AMPA VALDEPALITOS',\n",
       "  'Actividad Subvencionada': 'SALIDAS CULTURALES EN FAMILIA',\n",
       "  'Importe en euros': '490.00 '},\n",
       " {'Asociación': 'AMPA VALDEPALITOS',\n",
       "  'Actividad Subvencionada': 'TALLER EXTRAESCOLAR DISFRACES',\n",
       "  'Importe en euros': '190.00 '},\n",
       " {'Asociación': 'AMPA VALDEPALITOS',\n",
       "  'Actividad Subvencionada': 'TALLER EXTRAESCOLAR DANZA ESPAÑOLA',\n",
       "  'Importe en euros': '190.00 '},\n",
       " {'Asociación': 'AMPA VALDEPALITOS',\n",
       "  'Actividad Subvencionada': 'TALLER EXTRAESCOLAR DANZA MODERNA',\n",
       "  'Importe en euros': '90.00 '},\n",
       " {'Asociación': 'AMPA VALDEPALITOS',\n",
       "  'Actividad Subvencionada': 'FIESTA FIN DE CURSO',\n",
       "  'Importe en euros': '690.00 '},\n",
       " {'Asociación': 'AMPA VALDEPALITOS',\n",
       "  'Actividad Subvencionada': 'FESTIVAL DANZA Y TEATRO',\n",
       "  'Importe en euros': '210.00 '},\n",
       " {'Asociación': 'AMPA VALDEPALITOS',\n",
       "  'Actividad Subvencionada': 'CEREMONIA GRADUACION 6º PRIMARIA',\n",
       "  'Importe en euros': '170.00 '},\n",
       " {'Asociación': 'AMPA VALDEPALITOS',\n",
       "  'Actividad Subvencionada': 'ORLA PARA 6º PRIMARIA',\n",
       "  'Importe en euros': '110.00 '},\n",
       " {'Asociación': 'AMPA VALDEPALITOS',\n",
       "  'Actividad Subvencionada': 'CEREMONIA GRADUACION INFANTIL',\n",
       "  'Importe en euros': '180.00 '},\n",
       " {'Asociación': 'AMPA VALDEPALITOS',\n",
       "  'Actividad Subvencionada': 'BOLETIN APA',\n",
       "  'Importe en euros': '260.00 '},\n",
       " {'Asociación': 'AMPA VALDEPALITOS',\n",
       "  'Actividad Subvencionada': 'PARTICIPACION FAPA ALCOBENDAS',\n",
       "  'Importe en euros': '64.00 '},\n",
       " {'Asociación': 'AMPA VALDEPALITOS',\n",
       "  'Actividad Subvencionada': 'PARTICIPACION FESTIVAL FAPA',\n",
       "  'Importe en euros': '260.00 '},\n",
       " {'Asociación': 'AMPA VALDEPALITOS',\n",
       "  'Actividad Subvencionada': 'PARTICIPACION FAPA GINER DE LOS RIOS',\n",
       "  'Importe en euros': '160.00 '},\n",
       " {'Asociación': 'AMPA VALDEPALITOS',\n",
       "  'Actividad Subvencionada': 'FIESTA DE NAVIDAD',\n",
       "  'Importe en euros': '180.00 '},\n",
       " {'Asociación': 'AMPA VALDEPALITOS',\n",
       "  'Actividad Subvencionada': 'TORNEO MULTIDEPORTE',\n",
       "  'Importe en euros': '120.00 '},\n",
       " {'Asociación': 'AMPA VALDEPALITOS',\n",
       "  'Actividad Subvencionada': 'SEMANA CULTURAL',\n",
       "  'Importe en euros': '180.00 '},\n",
       " {'Asociación': 'AMPA LA CHOPERA',\n",
       "  'Actividad Subvencionada': 'SEMANA DEL LIBRO',\n",
       "  'Importe en euros': '990.00 '},\n",
       " {'Asociación': 'AMPA LA CHOPERA',\n",
       "  'Actividad Subvencionada': 'TALLER DE MUSICA',\n",
       "  'Importe en euros': '120.00 '},\n",
       " {'Asociación': 'AMPA LA CHOPERA',\n",
       "  'Actividad Subvencionada': 'FIESTA GRADUACION',\n",
       "  'Importe en euros': '320.00 '},\n",
       " {'Asociación': 'AMPA EL CUQUILLO',\n",
       "  'Actividad Subvencionada': 'SEMANA DEL LIBRO',\n",
       "  'Importe en euros': '610.00 '},\n",
       " {'Asociación': 'AMPA EL CUQUILLO',\n",
       "  'Actividad Subvencionada': 'DIA DE LA INFANCIA',\n",
       "  'Importe en euros': '150.00 '},\n",
       " {'Asociación': 'AMPA EL CUQUILLO',\n",
       "  'Actividad Subvencionada': 'FIESTA FIN DE CURSO Y GRADUACION',\n",
       "  'Importe en euros': '368.00 '},\n",
       " {'Asociación': 'AMPA EL CUQUILLO',\n",
       "  'Actividad Subvencionada': 'FIESTA NAVIDAD',\n",
       "  'Importe en euros': '379.83 '},\n",
       " {'Asociación': 'AMPA VALDELAPARRA',\n",
       "  'Actividad Subvencionada': 'SEMANA DEL LIBRO Y FERIA DEL LIBRO',\n",
       "  'Importe en euros': '685.00 '},\n",
       " {'Asociación': 'AMPA VALDELAPARRA',\n",
       "  'Actividad Subvencionada': 'EL HUERTO',\n",
       "  'Importe en euros': '70.00 '},\n",
       " {'Asociación': 'AMPA VALDELAPARRA',\n",
       "  'Actividad Subvencionada': 'TALLER DEL NIDO',\n",
       "  'Importe en euros': '95.00 '},\n",
       " {'Asociación': 'AMPA VALDELAPARRA',\n",
       "  'Actividad Subvencionada': 'FIESTA GRADUACION',\n",
       "  'Importe en euros': '670.00 '},\n",
       " {'Asociación': 'AMPA VALDELAPARRA',\n",
       "  'Actividad Subvencionada': 'QUERIDOS REYES MAGOS',\n",
       "  'Importe en euros': '590.00 '},\n",
       " {'Asociación': 'AMPA VALDELAPARRA',\n",
       "  'Actividad Subvencionada': 'FERIA DE LAS ASOCIACIONES',\n",
       "  'Importe en euros': '150.00 '},\n",
       " {'Asociación': 'AMPA VALDELAPARRA',\n",
       "  'Actividad Subvencionada': 'SAN ISIDRO',\n",
       "  'Importe en euros': '205.00 '},\n",
       " {'Asociación': 'AMPA RIVENDEL',\n",
       "  'Actividad Subvencionada': 'DIA DE LA PAZ',\n",
       "  'Importe en euros': '230.00 '},\n",
       " {'Asociación': 'AMPA RIVENDEL',\n",
       "  'Actividad Subvencionada': 'SEMANA CULTURAL Y DIA DEL LIBRO',\n",
       "  'Importe en euros': '794.00 '},\n",
       " {'Asociación': 'AMPA RIVENDEL',\n",
       "  'Actividad Subvencionada': 'VISITA GRANJA ESCUELA',\n",
       "  'Importe en euros': '115.00 '},\n",
       " {'Asociación': 'AMPA RIVENDEL',\n",
       "  'Actividad Subvencionada': 'FIESTA FIN DE CURSO',\n",
       "  'Importe en euros': '700.00 '},\n",
       " {'Asociación': 'AMPA RIVENDEL',\n",
       "  'Actividad Subvencionada': 'PERTENENCIA A LA FAPA',\n",
       "  'Importe en euros': '64.00 '},\n",
       " {'Asociación': 'AMPA RIVENDEL',\n",
       "  'Actividad Subvencionada': 'CARNAVAL',\n",
       "  'Importe en euros': '157.00 '},\n",
       " {'Asociación': 'AMPA RIVENDEL',\n",
       "  'Actividad Subvencionada': 'BELEN NAVIDEÑO',\n",
       "  'Importe en euros': '40.00 '},\n",
       " {'Asociación': 'AMPA RIVENDEL',\n",
       "  'Actividad Subvencionada': 'FIESTA DE NAVIDAD',\n",
       "  'Importe en euros': '100.00 '},\n",
       " {'Asociación': 'AMPA AGORA',\n",
       "  'Actividad Subvencionada': 'PREMIOS AL RENDIMIENTO. SUPERACIÓN Y CONVICENCIA',\n",
       "  'Importe en euros': '501.67 '},\n",
       " {'Asociación': 'AMPA AGORA',\n",
       "  'Actividad Subvencionada': 'ANIMACION A LA LECTURA',\n",
       "  'Importe en euros': '560.00 '},\n",
       " {'Asociación': 'AMPA AGORA',\n",
       "  'Actividad Subvencionada': 'SALIDA AL TEATRO',\n",
       "  'Importe en euros': '240.00 '},\n",
       " {'Asociación': 'AMPA AGORA',\n",
       "  'Actividad Subvencionada': 'EXCURSION CULTURAL VISITA CORRALAS DE MADRID',\n",
       "  'Importe en euros': '120.00 '},\n",
       " {'Asociación': 'AMPA AGORA',\n",
       "  'Actividad Subvencionada': 'CONCURSO FOTOGRAFICO CONSTITUCION',\n",
       "  'Importe en euros': '160.00 '},\n",
       " {'Asociación': 'AMPA AGORA',\n",
       "  'Actividad Subvencionada': 'ACTO DE GRADUACIÓN',\n",
       "  'Importe en euros': '300.00 '},\n",
       " {'Asociación': 'AMPA AGORA',\n",
       "  'Actividad Subvencionada': 'INTERCAMBIO DE LIBROS DE TEXTO',\n",
       "  'Importe en euros': '80.00 '},\n",
       " {'Asociación': 'AMPA AGORA',\n",
       "  'Actividad Subvencionada': 'JORNADA DE CONVIVENCIA',\n",
       "  'Importe en euros': '250.00 '},\n",
       " {'Asociación': 'AMPA AGORA',\n",
       "  'Actividad Subvencionada': 'MILLA ESCOLAR',\n",
       "  'Importe en euros': '210.00 '},\n",
       " {'Asociación': 'AMPA ALDEBARAN',\n",
       "  'Actividad Subvencionada': 'PREMIOS AL RENDIMIENTO. SUPERACIÓN Y CONVIVENCIA',\n",
       "  'Importe en euros': '980.05 '},\n",
       " {'Asociación': 'AMPA ALDEBARAN',\n",
       "  'Actividad Subvencionada': 'ANIMACION A LA LECTURA',\n",
       "  'Importe en euros': '302.00 '},\n",
       " {'Asociación': 'AMPA ALDEBARAN',\n",
       "  'Actividad Subvencionada': 'PRACTICANDO IDIOMAS',\n",
       "  'Importe en euros': '278.00 '},\n",
       " {'Asociación': 'AMPA ALDEBARAN',\n",
       "  'Actividad Subvencionada': 'CONCURSO DE TARJETAS NAVIDEÑAS',\n",
       "  'Importe en euros': '190.00 '},\n",
       " {'Asociación': 'AMPA ALDEBARAN',\n",
       "  'Actividad Subvencionada': 'GRADUACION ALUMNOS BACHILLER',\n",
       "  'Importe en euros': '220.00 '},\n",
       " {'Asociación': 'AMPA ALDEBARAN',\n",
       "  'Actividad Subvencionada': 'BOLETIN INFORMATIVO',\n",
       "  'Importe en euros': '587.00 '},\n",
       " {'Asociación': 'AMPA ALDEBARAN',\n",
       "  'Actividad Subvencionada': 'PARTICIPACION EN FAPAS',\n",
       "  'Importe en euros': '260.00 '},\n",
       " {'Asociación': 'AMPA ALDEBARAN',\n",
       "  'Actividad Subvencionada': 'TALLER CHAPAS E IMANES',\n",
       "  'Importe en euros': '290.00 '},\n",
       " {'Asociación': 'AMPA GINER DE LOS RIOS',\n",
       "  'Actividad Subvencionada': 'CERTAMEN TARJETA NAVIDAD',\n",
       "  'Importe en euros': '673.00 '},\n",
       " {'Asociación': 'AMPA GINER DE LOS RIOS',\n",
       "  'Actividad Subvencionada': 'CERTAMEN DE RELATO Y POESIA',\n",
       "  'Importe en euros': '320.00 '},\n",
       " {'Asociación': 'AMPA GINER DE LOS RIOS',\n",
       "  'Actividad Subvencionada': 'CERTAMEN RECREANDO EL JARDIN DEL GINER',\n",
       "  'Importe en euros': '160.00 '},\n",
       " {'Asociación': 'AMPA GINER DE LOS RIOS',\n",
       "  'Actividad Subvencionada': 'CERTAMEN ENSAYO FILOSOFICO RAQUEL PUSZKIN',\n",
       "  'Importe en euros': '120.00 '},\n",
       " {'Asociación': 'AMPA GINER DE LOS RIOS',\n",
       "  'Actividad Subvencionada': 'CEREMONIA GRADUACION BACHILLERATO',\n",
       "  'Importe en euros': '270.00 '},\n",
       " {'Asociación': 'AMPA GINER DE LOS RIOS',\n",
       "  'Actividad Subvencionada': 'LIBRO DE RELATO Y POESIAS LA PLUMA LITERARIA',\n",
       "  'Importe en euros': '290.00 '},\n",
       " {'Asociación': 'AMPA GINER DE LOS RIOS',\n",
       "  'Actividad Subvencionada': 'PARTICIPACION FAPA ALCOBENDAS Y FAPA MADRID',\n",
       "  'Importe en euros': '225.00 '},\n",
       " {'Asociación': 'AMPA SEVERO OCHOA',\n",
       "  'Actividad Subvencionada': 'TALLER DE MOTIVACION Y AUTOESTIMA',\n",
       "  'Importe en euros': '981.97 '},\n",
       " {'Asociación': 'AMPA SEVERO OCHOA',\n",
       "  'Actividad Subvencionada': 'TALLER DE TECNICAS DE ESTUDIO',\n",
       "  'Importe en euros': '600.00 '},\n",
       " {'Asociación': 'AMPA SEVERO OCHOA',\n",
       "  'Actividad Subvencionada': 'CONFERENCIA COLOQUIO SOBRE PREVENCION DEL FRACASO ESCOLAR',\n",
       "  'Importe en euros': '450.00 '},\n",
       " {'Asociación': 'AMPA SEVERO OCHOA',\n",
       "  'Actividad Subvencionada': 'EXPOSICION Y EDICION ALBUM FOTOGRAFICO INTERCAMBIO EEUU',\n",
       "  'Importe en euros': '340.00 '},\n",
       " {'Asociación': 'AMPA SEVERO OCHOA',\n",
       "  'Actividad Subvencionada': 'EXCURSION FIN DE CURO A PARQUE ECO-AVENTURA',\n",
       "  'Importe en euros': '480.00 '},\n",
       " {'Asociación': 'AMPA SEVERO OCHOA',\n",
       "  'Actividad Subvencionada': 'GRADUACION CICLOS Y BACHILLERATOS',\n",
       "  'Importe en euros': '240.00 '},\n",
       " {'Asociación': 'AMPA SEVERO OCHOA',\n",
       "  'Actividad Subvencionada': 'FERIA DE ASOCIACIONES DE ALCOBENDAS',\n",
       "  'Importe en euros': '40.00 '},\n",
       " {'Asociación': 'AMPA SEVERO OCHOA',\n",
       "  'Actividad Subvencionada': 'PERTENENCIA A FAPA ALCOBENDAS',\n",
       "  'Importe en euros': '64.00 '},\n",
       " {'Asociación': 'AMPA SEVERO OCHOA',\n",
       "  'Actividad Subvencionada': 'TORNEO DE AJEDREZ',\n",
       "  'Importe en euros': '48.00 '},\n",
       " {'Asociación': 'AMPA SEVERO OCHOA',\n",
       "  'Actividad Subvencionada': 'FIESTA DE NAVIDAD',\n",
       "  'Importe en euros': '320.00 '},\n",
       " {'Asociación': 'AMPA VIRGEN DE LA PAZ',\n",
       "  'Actividad Subvencionada': 'JORNADA LUDICO DEPORTIVA FIN DE CURSO',\n",
       "  'Importe en euros': '927.45 '},\n",
       " {'Asociación': 'AMPA VIRGEN DE LA PAZ',\n",
       "  'Actividad Subvencionada': 'PARTICIPACION FAPA ALCOBENDAS Y GINER DE LOS RIOS',\n",
       "  'Importe en euros': '176.00 '},\n",
       " {'Asociación': 'AMPA VIRGEN DE LA PAZ',\n",
       "  'Actividad Subvencionada': 'ACTO DE GRADUACIÓN',\n",
       "  'Importe en euros': '121.00 '},\n",
       " {'Asociación': 'AMPA VIRGEN DE LA PAZ',\n",
       "  'Actividad Subvencionada': 'PARTICIPACION EN FERIA DE LAS ASOCIACIONES',\n",
       "  'Importe en euros': '40.00 '},\n",
       " {'Asociación': 'AMPA VIRGEN DE LA PAZ',\n",
       "  'Actividad Subvencionada': 'TORNEO DEPORTIVO FUTBOL SALA',\n",
       "  'Importe en euros': '152.00 '},\n",
       " {'Asociación': 'AMPA JUAN XXIII',\n",
       "  'Actividad Subvencionada': 'TALLER DE MANUALIDADES',\n",
       "  'Importe en euros': '800.00 '},\n",
       " {'Asociación': 'AMPA JUAN XXIII',\n",
       "  'Actividad Subvencionada': 'TALLER DE JUEGOS DIDACTICOS',\n",
       "  'Importe en euros': '448.00 '},\n",
       " {'Asociación': 'AMPA JUAN XXIII',\n",
       "  'Actividad Subvencionada': 'TALLER DE MAGIA',\n",
       "  'Importe en euros': '533.98 '},\n",
       " {'Asociación': 'AMPA SAN ANTONIO',\n",
       "  'Actividad Subvencionada': 'GRANJA ESCUELA',\n",
       "  'Importe en euros': '895.00 '},\n",
       " {'Asociación': 'AMPA SAN ANTONIO',\n",
       "  'Actividad Subvencionada': 'VISITA AL PARQUE DE AVENTURAS AMAZONIA',\n",
       "  'Importe en euros': '576.00 '},\n",
       " {'Asociación': 'AMPA SAN ANTONIO',\n",
       "  'Actividad Subvencionada': 'ASISTENCIA AL CIRCO MUNDIAL',\n",
       "  'Importe en euros': '630.83 '},\n",
       " {'Asociación': 'AMPA PADRE  MANYANET',\n",
       "  'Actividad Subvencionada': 'FERIA DE LA SEMANA CULTURAL',\n",
       "  'Importe en euros': '800.00 '},\n",
       " {'Asociación': 'AMPA PADRE  MANYANET',\n",
       "  'Actividad Subvencionada': 'BIBLIOTECA DE EDUCACION PRIMARIA DE LA APA',\n",
       "  'Importe en euros': '803.82 '},\n",
       " {'Asociación': 'AMPA PADRE  MANYANET',\n",
       "  'Actividad Subvencionada': 'FERIA DE ROBOTICA',\n",
       "  'Importe en euros': '720.00 '},\n",
       " {'Asociación': 'AMPA PADRE  MANYANET',\n",
       "  'Actividad Subvencionada': 'LUDOTECA FIESTA FIN DE CURSO',\n",
       "  'Importe en euros': '372.00 '},\n",
       " {'Asociación': 'AMPA FAPA',\n",
       "  'Actividad Subvencionada': 'JORNADA FAPA-APAS: ENCUENTROS DE PARTICIPACION',\n",
       "  'Importe en euros': '720.00 '},\n",
       " {'Asociación': 'AMPA FAPA',\n",
       "  'Actividad Subvencionada': '25 ANIVERSARIO FAPA ALCOBENDAS',\n",
       "  'Importe en euros': '1.515.00 '},\n",
       " {'Asociación': 'AMPA FAPA',\n",
       "  'Actividad Subvencionada': 'REVISTA DE LA FEDERACION LA ESCUELA EN ALCOBENDAS',\n",
       "  'Importe en euros': '963.43 '}]"
      ]
     },
     "execution_count": 84,
     "metadata": {},
     "output_type": "execute_result"
    }
   ],
   "source": [
    "datos"
   ]
  },
  {
   "cell_type": "code",
   "execution_count": 85,
   "metadata": {},
   "outputs": [],
   "source": [
    "df_json=pd.DataFrame(datos)"
   ]
  },
  {
   "cell_type": "code",
   "execution_count": 86,
   "metadata": {},
   "outputs": [
    {
     "data": {
      "text/html": [
       "<div>\n",
       "<style scoped>\n",
       "    .dataframe tbody tr th:only-of-type {\n",
       "        vertical-align: middle;\n",
       "    }\n",
       "\n",
       "    .dataframe tbody tr th {\n",
       "        vertical-align: top;\n",
       "    }\n",
       "\n",
       "    .dataframe thead th {\n",
       "        text-align: right;\n",
       "    }\n",
       "</style>\n",
       "<table border=\"1\" class=\"dataframe\">\n",
       "  <thead>\n",
       "    <tr style=\"text-align: right;\">\n",
       "      <th></th>\n",
       "      <th>Asociación</th>\n",
       "      <th>Actividad Subvencionada</th>\n",
       "      <th>Importe en euros</th>\n",
       "    </tr>\n",
       "  </thead>\n",
       "  <tbody>\n",
       "    <tr>\n",
       "      <th>0</th>\n",
       "      <td>AMPA ANTONIO MACHADO</td>\n",
       "      <td>TALLER FIESTA DE CARNAVAL</td>\n",
       "      <td>94.56</td>\n",
       "    </tr>\n",
       "    <tr>\n",
       "      <th>1</th>\n",
       "      <td>AMPA ANTONIO MACHADO</td>\n",
       "      <td>TALLER DIA DEL PADRE</td>\n",
       "      <td>39.04</td>\n",
       "    </tr>\n",
       "    <tr>\n",
       "      <th>2</th>\n",
       "      <td>AMPA ANTONIO MACHADO</td>\n",
       "      <td>TALLER DIA DE LA MADRE</td>\n",
       "      <td>43.64</td>\n",
       "    </tr>\n",
       "    <tr>\n",
       "      <th>3</th>\n",
       "      <td>AMPA ANTONIO MACHADO</td>\n",
       "      <td>FIESTA FIN DE CURSO</td>\n",
       "      <td>921.00</td>\n",
       "    </tr>\n",
       "    <tr>\n",
       "      <th>4</th>\n",
       "      <td>AMPA ANTONIO MACHADO</td>\n",
       "      <td>CONCURSO LOGOTIPO AMPA</td>\n",
       "      <td>56.57</td>\n",
       "    </tr>\n",
       "  </tbody>\n",
       "</table>\n",
       "</div>"
      ],
      "text/plain": [
       "             Asociación    Actividad Subvencionada Importe en euros\n",
       "0  AMPA ANTONIO MACHADO  TALLER FIESTA DE CARNAVAL            94.56\n",
       "1  AMPA ANTONIO MACHADO       TALLER DIA DEL PADRE           39.04 \n",
       "2  AMPA ANTONIO MACHADO     TALLER DIA DE LA MADRE           43.64 \n",
       "3  AMPA ANTONIO MACHADO        FIESTA FIN DE CURSO          921.00 \n",
       "4  AMPA ANTONIO MACHADO     CONCURSO LOGOTIPO AMPA           56.57 "
      ]
     },
     "execution_count": 86,
     "metadata": {},
     "output_type": "execute_result"
    }
   ],
   "source": [
    "df_json.head()"
   ]
  },
  {
   "cell_type": "markdown",
   "metadata": {},
   "source": [
    "**Excel**"
   ]
  },
  {
   "cell_type": "code",
   "execution_count": 88,
   "metadata": {},
   "outputs": [],
   "source": [
    "df_excel = pd.read_excel(\"subvenciones_df.xls\",\n",
    "                        sheet_name=\"Hoja1\")"
   ]
  },
  {
   "cell_type": "code",
   "execution_count": 89,
   "metadata": {},
   "outputs": [
    {
     "data": {
      "text/html": [
       "<div>\n",
       "<style scoped>\n",
       "    .dataframe tbody tr th:only-of-type {\n",
       "        vertical-align: middle;\n",
       "    }\n",
       "\n",
       "    .dataframe tbody tr th {\n",
       "        vertical-align: top;\n",
       "    }\n",
       "\n",
       "    .dataframe thead th {\n",
       "        text-align: right;\n",
       "    }\n",
       "</style>\n",
       "<table border=\"1\" class=\"dataframe\">\n",
       "  <thead>\n",
       "    <tr style=\"text-align: right;\">\n",
       "      <th></th>\n",
       "      <th>Unnamed: 0</th>\n",
       "      <th>Asociación</th>\n",
       "      <th>Actividad Subvencionada</th>\n",
       "      <th>Importe</th>\n",
       "    </tr>\n",
       "  </thead>\n",
       "  <tbody>\n",
       "    <tr>\n",
       "      <th>0</th>\n",
       "      <td>0</td>\n",
       "      <td>AMPA ANTONIO MACHADO</td>\n",
       "      <td>TALLER FIESTA DE CARNAVAL</td>\n",
       "      <td>94.56</td>\n",
       "    </tr>\n",
       "    <tr>\n",
       "      <th>1</th>\n",
       "      <td>1</td>\n",
       "      <td>AMPA ANTONIO MACHADO</td>\n",
       "      <td>TALLER DIA DEL PADRE</td>\n",
       "      <td>39.04</td>\n",
       "    </tr>\n",
       "    <tr>\n",
       "      <th>2</th>\n",
       "      <td>2</td>\n",
       "      <td>AMPA ANTONIO MACHADO</td>\n",
       "      <td>TALLER DIA DE LA MADRE</td>\n",
       "      <td>43.64</td>\n",
       "    </tr>\n",
       "    <tr>\n",
       "      <th>3</th>\n",
       "      <td>3</td>\n",
       "      <td>AMPA ANTONIO MACHADO</td>\n",
       "      <td>FIESTA FIN DE CURSO</td>\n",
       "      <td>921.00</td>\n",
       "    </tr>\n",
       "    <tr>\n",
       "      <th>4</th>\n",
       "      <td>4</td>\n",
       "      <td>AMPA ANTONIO MACHADO</td>\n",
       "      <td>CONCURSO LOGOTIPO AMPA</td>\n",
       "      <td>56.57</td>\n",
       "    </tr>\n",
       "  </tbody>\n",
       "</table>\n",
       "</div>"
      ],
      "text/plain": [
       "   Unnamed: 0            Asociación   Actividad Subvencionada   Importe\n",
       "0           0  AMPA ANTONIO MACHADO  TALLER FIESTA DE CARNAVAL    94.56\n",
       "1           1  AMPA ANTONIO MACHADO       TALLER DIA DEL PADRE    39.04\n",
       "2           2  AMPA ANTONIO MACHADO     TALLER DIA DE LA MADRE    43.64\n",
       "3           3  AMPA ANTONIO MACHADO        FIESTA FIN DE CURSO   921.00\n",
       "4           4  AMPA ANTONIO MACHADO     CONCURSO LOGOTIPO AMPA    56.57"
      ]
     },
     "execution_count": 89,
     "metadata": {},
     "output_type": "execute_result"
    }
   ],
   "source": [
    "df_excel.head()"
   ]
  },
  {
   "cell_type": "markdown",
   "metadata": {},
   "source": [
    "**SPSS**"
   ]
  },
  {
   "cell_type": "code",
   "execution_count": 90,
   "metadata": {},
   "outputs": [],
   "source": [
    "df_spss, meta=pyreadstat.read_sav(\"distritos.sav\")"
   ]
  },
  {
   "cell_type": "code",
   "execution_count": 92,
   "metadata": {},
   "outputs": [
    {
     "data": {
      "text/html": [
       "<div>\n",
       "<style scoped>\n",
       "    .dataframe tbody tr th:only-of-type {\n",
       "        vertical-align: middle;\n",
       "    }\n",
       "\n",
       "    .dataframe tbody tr th {\n",
       "        vertical-align: top;\n",
       "    }\n",
       "\n",
       "    .dataframe thead th {\n",
       "        text-align: right;\n",
       "    }\n",
       "</style>\n",
       "<table border=\"1\" class=\"dataframe\">\n",
       "  <thead>\n",
       "    <tr style=\"text-align: right;\">\n",
       "      <th></th>\n",
       "      <th>distrito</th>\n",
       "      <th>ocu_vivi</th>\n",
       "      <th>pobpjov</th>\n",
       "      <th>sinelect</th>\n",
       "      <th>sinagua</th>\n",
       "      <th>pea1619</th>\n",
       "      <th>pocprin</th>\n",
       "      <th>peam15</th>\n",
       "    </tr>\n",
       "  </thead>\n",
       "  <tbody>\n",
       "    <tr>\n",
       "      <th>0</th>\n",
       "      <td>Ate</td>\n",
       "      <td>1.15</td>\n",
       "      <td>5.3</td>\n",
       "      <td>27.60</td>\n",
       "      <td>51.10</td>\n",
       "      <td>3.9</td>\n",
       "      <td>1.1</td>\n",
       "      <td>63.48</td>\n",
       "    </tr>\n",
       "    <tr>\n",
       "      <th>1</th>\n",
       "      <td>Barranco</td>\n",
       "      <td>1.09</td>\n",
       "      <td>4.5</td>\n",
       "      <td>1.59</td>\n",
       "      <td>8.32</td>\n",
       "      <td>0.8</td>\n",
       "      <td>3.9</td>\n",
       "      <td>33.48</td>\n",
       "    </tr>\n",
       "    <tr>\n",
       "      <th>2</th>\n",
       "      <td>Breña</td>\n",
       "      <td>1.08</td>\n",
       "      <td>4.4</td>\n",
       "      <td>2.20</td>\n",
       "      <td>23.15</td>\n",
       "      <td>0.9</td>\n",
       "      <td>4.0</td>\n",
       "      <td>37.89</td>\n",
       "    </tr>\n",
       "    <tr>\n",
       "      <th>3</th>\n",
       "      <td>Carabayllo</td>\n",
       "      <td>1.10</td>\n",
       "      <td>5.1</td>\n",
       "      <td>30.13</td>\n",
       "      <td>38.09</td>\n",
       "      <td>4.5</td>\n",
       "      <td>12.6</td>\n",
       "      <td>63.65</td>\n",
       "    </tr>\n",
       "    <tr>\n",
       "      <th>4</th>\n",
       "      <td>Comas</td>\n",
       "      <td>1.20</td>\n",
       "      <td>5.9</td>\n",
       "      <td>10.92</td>\n",
       "      <td>24.27</td>\n",
       "      <td>3.8</td>\n",
       "      <td>9.4</td>\n",
       "      <td>60.37</td>\n",
       "    </tr>\n",
       "    <tr>\n",
       "      <th>5</th>\n",
       "      <td>Chorrillos</td>\n",
       "      <td>1.15</td>\n",
       "      <td>5.5</td>\n",
       "      <td>16.77</td>\n",
       "      <td>37.11</td>\n",
       "      <td>3.2</td>\n",
       "      <td>10.6</td>\n",
       "      <td>18.78</td>\n",
       "    </tr>\n",
       "    <tr>\n",
       "      <th>6</th>\n",
       "      <td>Agustino</td>\n",
       "      <td>1.22</td>\n",
       "      <td>6.0</td>\n",
       "      <td>16.42</td>\n",
       "      <td>41.16</td>\n",
       "      <td>4.5</td>\n",
       "      <td>13.5</td>\n",
       "      <td>55.84</td>\n",
       "    </tr>\n",
       "    <tr>\n",
       "      <th>7</th>\n",
       "      <td>Independencia</td>\n",
       "      <td>1.19</td>\n",
       "      <td>5.9</td>\n",
       "      <td>9.61</td>\n",
       "      <td>21.58</td>\n",
       "      <td>4.0</td>\n",
       "      <td>10.5</td>\n",
       "      <td>60.16</td>\n",
       "    </tr>\n",
       "    <tr>\n",
       "      <th>8</th>\n",
       "      <td>Jesús María</td>\n",
       "      <td>1.03</td>\n",
       "      <td>4.2</td>\n",
       "      <td>0.57</td>\n",
       "      <td>14.78</td>\n",
       "      <td>0.3</td>\n",
       "      <td>3.1</td>\n",
       "      <td>23.52</td>\n",
       "    </tr>\n",
       "    <tr>\n",
       "      <th>9</th>\n",
       "      <td>La Victoria</td>\n",
       "      <td>1.06</td>\n",
       "      <td>4.7</td>\n",
       "      <td>3.09</td>\n",
       "      <td>25.79</td>\n",
       "      <td>1.7</td>\n",
       "      <td>7.8</td>\n",
       "      <td>49.21</td>\n",
       "    </tr>\n",
       "  </tbody>\n",
       "</table>\n",
       "</div>"
      ],
      "text/plain": [
       "        distrito  ocu_vivi  pobpjov  sinelect  sinagua  pea1619  pocprin  \\\n",
       "0            Ate      1.15      5.3     27.60    51.10      3.9      1.1   \n",
       "1       Barranco      1.09      4.5      1.59     8.32      0.8      3.9   \n",
       "2          Breña      1.08      4.4      2.20    23.15      0.9      4.0   \n",
       "3     Carabayllo      1.10      5.1     30.13    38.09      4.5     12.6   \n",
       "4          Comas      1.20      5.9     10.92    24.27      3.8      9.4   \n",
       "5     Chorrillos      1.15      5.5     16.77    37.11      3.2     10.6   \n",
       "6       Agustino      1.22      6.0     16.42    41.16      4.5     13.5   \n",
       "7  Independencia      1.19      5.9      9.61    21.58      4.0     10.5   \n",
       "8    Jesús María      1.03      4.2      0.57    14.78      0.3      3.1   \n",
       "9    La Victoria      1.06      4.7      3.09    25.79      1.7      7.8   \n",
       "\n",
       "   peam15  \n",
       "0   63.48  \n",
       "1   33.48  \n",
       "2   37.89  \n",
       "3   63.65  \n",
       "4   60.37  \n",
       "5   18.78  \n",
       "6   55.84  \n",
       "7   60.16  \n",
       "8   23.52  \n",
       "9   49.21  "
      ]
     },
     "execution_count": 92,
     "metadata": {},
     "output_type": "execute_result"
    }
   ],
   "source": [
    "df_spss.head(10)"
   ]
  },
  {
   "cell_type": "markdown",
   "metadata": {},
   "source": [
    "**STATA**"
   ]
  },
  {
   "cell_type": "code",
   "execution_count": 93,
   "metadata": {},
   "outputs": [],
   "source": [
    "df_stata = pd.read_stata(\"anes_timeseries_2012.dta\")"
   ]
  },
  {
   "cell_type": "code",
   "execution_count": 94,
   "metadata": {},
   "outputs": [
    {
     "data": {
      "text/plain": [
       "5914"
      ]
     },
     "execution_count": 94,
     "metadata": {},
     "output_type": "execute_result"
    }
   ],
   "source": [
    "len(df_stata)"
   ]
  },
  {
   "cell_type": "code",
   "execution_count": 95,
   "metadata": {},
   "outputs": [
    {
     "data": {
      "text/html": [
       "<div>\n",
       "<style scoped>\n",
       "    .dataframe tbody tr th:only-of-type {\n",
       "        vertical-align: middle;\n",
       "    }\n",
       "\n",
       "    .dataframe tbody tr th {\n",
       "        vertical-align: top;\n",
       "    }\n",
       "\n",
       "    .dataframe thead th {\n",
       "        text-align: right;\n",
       "    }\n",
       "</style>\n",
       "<table border=\"1\" class=\"dataframe\">\n",
       "  <thead>\n",
       "    <tr style=\"text-align: right;\">\n",
       "      <th></th>\n",
       "      <th>version</th>\n",
       "      <th>caseid</th>\n",
       "      <th>weight_ftf</th>\n",
       "      <th>weight_web</th>\n",
       "      <th>weight_full</th>\n",
       "      <th>psu_full</th>\n",
       "      <th>psu_ftf</th>\n",
       "      <th>strata_full</th>\n",
       "      <th>strata_ftf</th>\n",
       "      <th>ftf_oversample</th>\n",
       "      <th>...</th>\n",
       "      <th>randordq_casitherm_illegal</th>\n",
       "      <th>randordq_casitherm_white</th>\n",
       "      <th>randordq_stereogroups</th>\n",
       "      <th>randordq_discrim_black</th>\n",
       "      <th>randordq_discrim_hisp</th>\n",
       "      <th>randordq_discrim_white</th>\n",
       "      <th>randordq_discrim_gay</th>\n",
       "      <th>randordq_discrim_women</th>\n",
       "      <th>randordq_stereorelig</th>\n",
       "      <th>invited_inetrecontact2013</th>\n",
       "    </tr>\n",
       "  </thead>\n",
       "  <tbody>\n",
       "    <tr>\n",
       "      <th>0</th>\n",
       "      <td>ANES2012TimeSeries_version20150528</td>\n",
       "      <td>1.0</td>\n",
       "      <td>0.3802</td>\n",
       "      <td>0.0</td>\n",
       "      <td>0.3802</td>\n",
       "      <td>1.0</td>\n",
       "      <td>1.0</td>\n",
       "      <td>6.0</td>\n",
       "      <td>6.0</td>\n",
       "      <td>0. No oversample</td>\n",
       "      <td>...</td>\n",
       "      <td>-6. Not asked, unit nonresponse (no post-elect...</td>\n",
       "      <td>-6. Not asked, unit nonresponse (no post-elect...</td>\n",
       "      <td>-6. Not asked, unit nonresponse (no post-elect...</td>\n",
       "      <td>-6. Not asked, unit nonresponse (no post-elect...</td>\n",
       "      <td>-6. Not asked, unit nonresponse (no post-elect...</td>\n",
       "      <td>-6. Not asked, unit nonresponse (no post-elect...</td>\n",
       "      <td>-6. Not asked, unit nonresponse (no post-elect...</td>\n",
       "      <td>-6. Not asked, unit nonresponse (no post-elect...</td>\n",
       "      <td>-1. Inap, FTF (face-to-face) interview</td>\n",
       "      <td>-1. Inap, FTF</td>\n",
       "    </tr>\n",
       "    <tr>\n",
       "      <th>1</th>\n",
       "      <td>ANES2012TimeSeries_version20150528</td>\n",
       "      <td>2.0</td>\n",
       "      <td>0.5470</td>\n",
       "      <td>0.0</td>\n",
       "      <td>0.5470</td>\n",
       "      <td>1.0</td>\n",
       "      <td>1.0</td>\n",
       "      <td>6.0</td>\n",
       "      <td>6.0</td>\n",
       "      <td>0. No oversample</td>\n",
       "      <td>...</td>\n",
       "      <td>5. 5th CASI/Web group thermometer</td>\n",
       "      <td>3. 3rd CASI/Web group thermometer</td>\n",
       "      <td>231. Order: 2 (Hispanics), 3 (Asians), 1 (Blacks)</td>\n",
       "      <td>3. 3rd discrimination group</td>\n",
       "      <td>1. 1st discrimination group</td>\n",
       "      <td>5. 5th discrimination group</td>\n",
       "      <td>2. 2nd discrimination group</td>\n",
       "      <td>4. 4th discrimination group</td>\n",
       "      <td>-1. Inap, FTF (face-to-face) interview</td>\n",
       "      <td>-1. Inap, FTF</td>\n",
       "    </tr>\n",
       "    <tr>\n",
       "      <th>2</th>\n",
       "      <td>ANES2012TimeSeries_version20150528</td>\n",
       "      <td>3.0</td>\n",
       "      <td>0.4975</td>\n",
       "      <td>0.0</td>\n",
       "      <td>0.4975</td>\n",
       "      <td>1.0</td>\n",
       "      <td>1.0</td>\n",
       "      <td>6.0</td>\n",
       "      <td>6.0</td>\n",
       "      <td>0. No oversample</td>\n",
       "      <td>...</td>\n",
       "      <td>5. 5th CASI/Web group thermometer</td>\n",
       "      <td>4. 4th CASI/Web group thermometer</td>\n",
       "      <td>132. Order: 1 (Blacks), 3 (Asians), 2 (Hispanics)</td>\n",
       "      <td>-2. Missing</td>\n",
       "      <td>-2. Missing</td>\n",
       "      <td>-2. Missing</td>\n",
       "      <td>-2. Missing</td>\n",
       "      <td>-2. Missing</td>\n",
       "      <td>-1. Inap, FTF (face-to-face) interview</td>\n",
       "      <td>-1. Inap, FTF</td>\n",
       "    </tr>\n",
       "    <tr>\n",
       "      <th>3</th>\n",
       "      <td>ANES2012TimeSeries_version20150528</td>\n",
       "      <td>4.0</td>\n",
       "      <td>0.2549</td>\n",
       "      <td>0.0</td>\n",
       "      <td>0.2549</td>\n",
       "      <td>1.0</td>\n",
       "      <td>1.0</td>\n",
       "      <td>6.0</td>\n",
       "      <td>6.0</td>\n",
       "      <td>0. No oversample</td>\n",
       "      <td>...</td>\n",
       "      <td>5. 5th CASI/Web group thermometer</td>\n",
       "      <td>3. 3rd CASI/Web group thermometer</td>\n",
       "      <td>213. Order: 2 (Hispanics), 1 (Blacks), 3 (Asians)</td>\n",
       "      <td>3. 3rd discrimination group</td>\n",
       "      <td>2. 2nd discrimination group</td>\n",
       "      <td>5. 5th discrimination group</td>\n",
       "      <td>1. 1st discrimination group</td>\n",
       "      <td>4. 4th discrimination group</td>\n",
       "      <td>-1. Inap, FTF (face-to-face) interview</td>\n",
       "      <td>-1. Inap, FTF</td>\n",
       "    </tr>\n",
       "    <tr>\n",
       "      <th>4</th>\n",
       "      <td>ANES2012TimeSeries_version20150528</td>\n",
       "      <td>5.0</td>\n",
       "      <td>0.6028</td>\n",
       "      <td>0.0</td>\n",
       "      <td>0.6028</td>\n",
       "      <td>1.0</td>\n",
       "      <td>1.0</td>\n",
       "      <td>6.0</td>\n",
       "      <td>6.0</td>\n",
       "      <td>0. No oversample</td>\n",
       "      <td>...</td>\n",
       "      <td>5. 5th CASI/Web group thermometer</td>\n",
       "      <td>1. 1st CASI/Web group thermometer</td>\n",
       "      <td>312. Order: 3 (Asians), 1 (Blacks), 2 (Hispanics)</td>\n",
       "      <td>-2. Missing</td>\n",
       "      <td>-2. Missing</td>\n",
       "      <td>-2. Missing</td>\n",
       "      <td>-2. Missing</td>\n",
       "      <td>-2. Missing</td>\n",
       "      <td>-1. Inap, FTF (face-to-face) interview</td>\n",
       "      <td>-1. Inap, FTF</td>\n",
       "    </tr>\n",
       "  </tbody>\n",
       "</table>\n",
       "<p>5 rows × 2241 columns</p>\n",
       "</div>"
      ],
      "text/plain": [
       "                              version  caseid  weight_ftf  weight_web  \\\n",
       "0  ANES2012TimeSeries_version20150528     1.0      0.3802         0.0   \n",
       "1  ANES2012TimeSeries_version20150528     2.0      0.5470         0.0   \n",
       "2  ANES2012TimeSeries_version20150528     3.0      0.4975         0.0   \n",
       "3  ANES2012TimeSeries_version20150528     4.0      0.2549         0.0   \n",
       "4  ANES2012TimeSeries_version20150528     5.0      0.6028         0.0   \n",
       "\n",
       "   weight_full  psu_full  psu_ftf  strata_full  strata_ftf    ftf_oversample  \\\n",
       "0       0.3802       1.0      1.0          6.0         6.0  0. No oversample   \n",
       "1       0.5470       1.0      1.0          6.0         6.0  0. No oversample   \n",
       "2       0.4975       1.0      1.0          6.0         6.0  0. No oversample   \n",
       "3       0.2549       1.0      1.0          6.0         6.0  0. No oversample   \n",
       "4       0.6028       1.0      1.0          6.0         6.0  0. No oversample   \n",
       "\n",
       "   ...                         randordq_casitherm_illegal  \\\n",
       "0  ...  -6. Not asked, unit nonresponse (no post-elect...   \n",
       "1  ...                  5. 5th CASI/Web group thermometer   \n",
       "2  ...                  5. 5th CASI/Web group thermometer   \n",
       "3  ...                  5. 5th CASI/Web group thermometer   \n",
       "4  ...                  5. 5th CASI/Web group thermometer   \n",
       "\n",
       "                            randordq_casitherm_white  \\\n",
       "0  -6. Not asked, unit nonresponse (no post-elect...   \n",
       "1                  3. 3rd CASI/Web group thermometer   \n",
       "2                  4. 4th CASI/Web group thermometer   \n",
       "3                  3. 3rd CASI/Web group thermometer   \n",
       "4                  1. 1st CASI/Web group thermometer   \n",
       "\n",
       "                               randordq_stereogroups  \\\n",
       "0  -6. Not asked, unit nonresponse (no post-elect...   \n",
       "1  231. Order: 2 (Hispanics), 3 (Asians), 1 (Blacks)   \n",
       "2  132. Order: 1 (Blacks), 3 (Asians), 2 (Hispanics)   \n",
       "3  213. Order: 2 (Hispanics), 1 (Blacks), 3 (Asians)   \n",
       "4  312. Order: 3 (Asians), 1 (Blacks), 2 (Hispanics)   \n",
       "\n",
       "                              randordq_discrim_black  \\\n",
       "0  -6. Not asked, unit nonresponse (no post-elect...   \n",
       "1                        3. 3rd discrimination group   \n",
       "2                                        -2. Missing   \n",
       "3                        3. 3rd discrimination group   \n",
       "4                                        -2. Missing   \n",
       "\n",
       "                               randordq_discrim_hisp  \\\n",
       "0  -6. Not asked, unit nonresponse (no post-elect...   \n",
       "1                        1. 1st discrimination group   \n",
       "2                                        -2. Missing   \n",
       "3                        2. 2nd discrimination group   \n",
       "4                                        -2. Missing   \n",
       "\n",
       "                              randordq_discrim_white  \\\n",
       "0  -6. Not asked, unit nonresponse (no post-elect...   \n",
       "1                        5. 5th discrimination group   \n",
       "2                                        -2. Missing   \n",
       "3                        5. 5th discrimination group   \n",
       "4                                        -2. Missing   \n",
       "\n",
       "                                randordq_discrim_gay  \\\n",
       "0  -6. Not asked, unit nonresponse (no post-elect...   \n",
       "1                        2. 2nd discrimination group   \n",
       "2                                        -2. Missing   \n",
       "3                        1. 1st discrimination group   \n",
       "4                                        -2. Missing   \n",
       "\n",
       "                              randordq_discrim_women  \\\n",
       "0  -6. Not asked, unit nonresponse (no post-elect...   \n",
       "1                        4. 4th discrimination group   \n",
       "2                                        -2. Missing   \n",
       "3                        4. 4th discrimination group   \n",
       "4                                        -2. Missing   \n",
       "\n",
       "                     randordq_stereorelig invited_inetrecontact2013  \n",
       "0  -1. Inap, FTF (face-to-face) interview             -1. Inap, FTF  \n",
       "1  -1. Inap, FTF (face-to-face) interview             -1. Inap, FTF  \n",
       "2  -1. Inap, FTF (face-to-face) interview             -1. Inap, FTF  \n",
       "3  -1. Inap, FTF (face-to-face) interview             -1. Inap, FTF  \n",
       "4  -1. Inap, FTF (face-to-face) interview             -1. Inap, FTF  \n",
       "\n",
       "[5 rows x 2241 columns]"
      ]
     },
     "execution_count": 95,
     "metadata": {},
     "output_type": "execute_result"
    }
   ],
   "source": [
    "df_stata.head()"
   ]
  },
  {
   "cell_type": "markdown",
   "metadata": {},
   "source": [
    "**CSV**"
   ]
  },
  {
   "cell_type": "code",
   "execution_count": 103,
   "metadata": {},
   "outputs": [],
   "source": [
    "df_csv = pd.read_csv(\"subvenciones.csv\", \n",
    "                     sep=\",\",\n",
    "                    encoding=\"latin1\")"
   ]
  },
  {
   "cell_type": "code",
   "execution_count": 104,
   "metadata": {},
   "outputs": [
    {
     "data": {
      "text/html": [
       "<div>\n",
       "<style scoped>\n",
       "    .dataframe tbody tr th:only-of-type {\n",
       "        vertical-align: middle;\n",
       "    }\n",
       "\n",
       "    .dataframe tbody tr th {\n",
       "        vertical-align: top;\n",
       "    }\n",
       "\n",
       "    .dataframe thead th {\n",
       "        text-align: right;\n",
       "    }\n",
       "</style>\n",
       "<table border=\"1\" class=\"dataframe\">\n",
       "  <thead>\n",
       "    <tr style=\"text-align: right;\">\n",
       "      <th></th>\n",
       "      <th>Asociación</th>\n",
       "      <th>Actividad Subvencionada</th>\n",
       "      <th>Importe</th>\n",
       "    </tr>\n",
       "  </thead>\n",
       "  <tbody>\n",
       "    <tr>\n",
       "      <th>0</th>\n",
       "      <td>AMPA ANTONIO MACHADO</td>\n",
       "      <td>TALLER FIESTA DE CARNAVAL</td>\n",
       "      <td>94.56</td>\n",
       "    </tr>\n",
       "    <tr>\n",
       "      <th>1</th>\n",
       "      <td>AMPA ANTONIO MACHADO</td>\n",
       "      <td>TALLER DIA DEL PADRE</td>\n",
       "      <td>39.04</td>\n",
       "    </tr>\n",
       "    <tr>\n",
       "      <th>2</th>\n",
       "      <td>AMPA ANTONIO MACHADO</td>\n",
       "      <td>TALLER DIA DE LA MADRE</td>\n",
       "      <td>43.64</td>\n",
       "    </tr>\n",
       "    <tr>\n",
       "      <th>3</th>\n",
       "      <td>AMPA ANTONIO MACHADO</td>\n",
       "      <td>FIESTA FIN DE CURSO</td>\n",
       "      <td>921.00</td>\n",
       "    </tr>\n",
       "    <tr>\n",
       "      <th>4</th>\n",
       "      <td>AMPA ANTONIO MACHADO</td>\n",
       "      <td>CONCURSO LOGOTIPO AMPA</td>\n",
       "      <td>56.57</td>\n",
       "    </tr>\n",
       "    <tr>\n",
       "      <th>...</th>\n",
       "      <td>...</td>\n",
       "      <td>...</td>\n",
       "      <td>...</td>\n",
       "    </tr>\n",
       "    <tr>\n",
       "      <th>186</th>\n",
       "      <td>AMPA PADRE  MANYANET</td>\n",
       "      <td>FERIA DE ROBOTICA</td>\n",
       "      <td>720.00</td>\n",
       "    </tr>\n",
       "    <tr>\n",
       "      <th>187</th>\n",
       "      <td>AMPA PADRE  MANYANET</td>\n",
       "      <td>LUDOTECA FIESTA FIN DE CURSO</td>\n",
       "      <td>372.00</td>\n",
       "    </tr>\n",
       "    <tr>\n",
       "      <th>188</th>\n",
       "      <td>AMPA FAPA</td>\n",
       "      <td>JORNADA FAPA-APAS: ENCUENTROS DE PARTICIPACION</td>\n",
       "      <td>720.00</td>\n",
       "    </tr>\n",
       "    <tr>\n",
       "      <th>189</th>\n",
       "      <td>AMPA FAPA</td>\n",
       "      <td>25 ANIVERSARIO FAPA ALCOBENDAS</td>\n",
       "      <td>1515.00</td>\n",
       "    </tr>\n",
       "    <tr>\n",
       "      <th>190</th>\n",
       "      <td>AMPA FAPA</td>\n",
       "      <td>REVISTA DE LA FEDERACION \"LA ESCUELA EN ALCOBE...</td>\n",
       "      <td>963.43</td>\n",
       "    </tr>\n",
       "  </tbody>\n",
       "</table>\n",
       "<p>191 rows × 3 columns</p>\n",
       "</div>"
      ],
      "text/plain": [
       "               Asociación                           Actividad Subvencionada   \\\n",
       "0    AMPA ANTONIO MACHADO                          TALLER FIESTA DE CARNAVAL   \n",
       "1    AMPA ANTONIO MACHADO                               TALLER DIA DEL PADRE   \n",
       "2    AMPA ANTONIO MACHADO                             TALLER DIA DE LA MADRE   \n",
       "3    AMPA ANTONIO MACHADO                                FIESTA FIN DE CURSO   \n",
       "4    AMPA ANTONIO MACHADO                             CONCURSO LOGOTIPO AMPA   \n",
       "..                    ...                                                ...   \n",
       "186  AMPA PADRE  MANYANET                                  FERIA DE ROBOTICA   \n",
       "187  AMPA PADRE  MANYANET                       LUDOTECA FIESTA FIN DE CURSO   \n",
       "188             AMPA FAPA     JORNADA FAPA-APAS: ENCUENTROS DE PARTICIPACION   \n",
       "189             AMPA FAPA                     25 ANIVERSARIO FAPA ALCOBENDAS   \n",
       "190             AMPA FAPA  REVISTA DE LA FEDERACION \"LA ESCUELA EN ALCOBE...   \n",
       "\n",
       "     Importe  \n",
       "0      94.56  \n",
       "1      39.04  \n",
       "2      43.64  \n",
       "3     921.00  \n",
       "4      56.57  \n",
       "..       ...  \n",
       "186   720.00  \n",
       "187   372.00  \n",
       "188   720.00  \n",
       "189  1515.00  \n",
       "190   963.43  \n",
       "\n",
       "[191 rows x 3 columns]"
      ]
     },
     "execution_count": 104,
     "metadata": {},
     "output_type": "execute_result"
    }
   ],
   "source": [
    "df_csv"
   ]
  },
  {
   "cell_type": "markdown",
   "metadata": {},
   "source": [
    "**TXT**"
   ]
  },
  {
   "cell_type": "code",
   "execution_count": 105,
   "metadata": {},
   "outputs": [],
   "source": [
    "df_txt = pd.read_csv(\"housing.data.txt\",\n",
    "                     header=None\n",
    "                    sep=\"\\s+\")"
   ]
  },
  {
   "cell_type": "code",
   "execution_count": 106,
   "metadata": {},
   "outputs": [
    {
     "data": {
      "text/html": [
       "<div>\n",
       "<style scoped>\n",
       "    .dataframe tbody tr th:only-of-type {\n",
       "        vertical-align: middle;\n",
       "    }\n",
       "\n",
       "    .dataframe tbody tr th {\n",
       "        vertical-align: top;\n",
       "    }\n",
       "\n",
       "    .dataframe thead th {\n",
       "        text-align: right;\n",
       "    }\n",
       "</style>\n",
       "<table border=\"1\" class=\"dataframe\">\n",
       "  <thead>\n",
       "    <tr style=\"text-align: right;\">\n",
       "      <th></th>\n",
       "      <th>0.00632</th>\n",
       "      <th>18.00</th>\n",
       "      <th>2.310</th>\n",
       "      <th>0</th>\n",
       "      <th>0.5380</th>\n",
       "      <th>6.5750</th>\n",
       "      <th>65.20</th>\n",
       "      <th>4.0900</th>\n",
       "      <th>1</th>\n",
       "      <th>296.0</th>\n",
       "      <th>15.30</th>\n",
       "      <th>396.90</th>\n",
       "      <th>4.98</th>\n",
       "      <th>24.00</th>\n",
       "    </tr>\n",
       "  </thead>\n",
       "  <tbody>\n",
       "    <tr>\n",
       "      <th>0</th>\n",
       "      <td>0.02731</td>\n",
       "      <td>0.0</td>\n",
       "      <td>7.07</td>\n",
       "      <td>0</td>\n",
       "      <td>0.469</td>\n",
       "      <td>6.421</td>\n",
       "      <td>78.9</td>\n",
       "      <td>4.9671</td>\n",
       "      <td>2</td>\n",
       "      <td>242.0</td>\n",
       "      <td>17.8</td>\n",
       "      <td>396.90</td>\n",
       "      <td>9.14</td>\n",
       "      <td>21.6</td>\n",
       "    </tr>\n",
       "    <tr>\n",
       "      <th>1</th>\n",
       "      <td>0.02729</td>\n",
       "      <td>0.0</td>\n",
       "      <td>7.07</td>\n",
       "      <td>0</td>\n",
       "      <td>0.469</td>\n",
       "      <td>7.185</td>\n",
       "      <td>61.1</td>\n",
       "      <td>4.9671</td>\n",
       "      <td>2</td>\n",
       "      <td>242.0</td>\n",
       "      <td>17.8</td>\n",
       "      <td>392.83</td>\n",
       "      <td>4.03</td>\n",
       "      <td>34.7</td>\n",
       "    </tr>\n",
       "    <tr>\n",
       "      <th>2</th>\n",
       "      <td>0.03237</td>\n",
       "      <td>0.0</td>\n",
       "      <td>2.18</td>\n",
       "      <td>0</td>\n",
       "      <td>0.458</td>\n",
       "      <td>6.998</td>\n",
       "      <td>45.8</td>\n",
       "      <td>6.0622</td>\n",
       "      <td>3</td>\n",
       "      <td>222.0</td>\n",
       "      <td>18.7</td>\n",
       "      <td>394.63</td>\n",
       "      <td>2.94</td>\n",
       "      <td>33.4</td>\n",
       "    </tr>\n",
       "    <tr>\n",
       "      <th>3</th>\n",
       "      <td>0.06905</td>\n",
       "      <td>0.0</td>\n",
       "      <td>2.18</td>\n",
       "      <td>0</td>\n",
       "      <td>0.458</td>\n",
       "      <td>7.147</td>\n",
       "      <td>54.2</td>\n",
       "      <td>6.0622</td>\n",
       "      <td>3</td>\n",
       "      <td>222.0</td>\n",
       "      <td>18.7</td>\n",
       "      <td>396.90</td>\n",
       "      <td>5.33</td>\n",
       "      <td>36.2</td>\n",
       "    </tr>\n",
       "    <tr>\n",
       "      <th>4</th>\n",
       "      <td>0.02985</td>\n",
       "      <td>0.0</td>\n",
       "      <td>2.18</td>\n",
       "      <td>0</td>\n",
       "      <td>0.458</td>\n",
       "      <td>6.430</td>\n",
       "      <td>58.7</td>\n",
       "      <td>6.0622</td>\n",
       "      <td>3</td>\n",
       "      <td>222.0</td>\n",
       "      <td>18.7</td>\n",
       "      <td>394.12</td>\n",
       "      <td>5.21</td>\n",
       "      <td>28.7</td>\n",
       "    </tr>\n",
       "  </tbody>\n",
       "</table>\n",
       "</div>"
      ],
      "text/plain": [
       "   0.00632  18.00  2.310  0  0.5380  6.5750  65.20  4.0900  1  296.0  15.30  \\\n",
       "0  0.02731    0.0   7.07  0   0.469   6.421   78.9  4.9671  2  242.0   17.8   \n",
       "1  0.02729    0.0   7.07  0   0.469   7.185   61.1  4.9671  2  242.0   17.8   \n",
       "2  0.03237    0.0   2.18  0   0.458   6.998   45.8  6.0622  3  222.0   18.7   \n",
       "3  0.06905    0.0   2.18  0   0.458   7.147   54.2  6.0622  3  222.0   18.7   \n",
       "4  0.02985    0.0   2.18  0   0.458   6.430   58.7  6.0622  3  222.0   18.7   \n",
       "\n",
       "   396.90  4.98  24.00  \n",
       "0  396.90  9.14   21.6  \n",
       "1  392.83  4.03   34.7  \n",
       "2  394.63  2.94   33.4  \n",
       "3  396.90  5.33   36.2  \n",
       "4  394.12  5.21   28.7  "
      ]
     },
     "execution_count": 106,
     "metadata": {},
     "output_type": "execute_result"
    }
   ],
   "source": [
    "df_txt.head()"
   ]
  },
  {
   "cell_type": "code",
   "execution_count": null,
   "metadata": {},
   "outputs": [],
   "source": []
  },
  {
   "cell_type": "markdown",
   "metadata": {},
   "source": [
    "**Conexión a motores de bases de datos**"
   ]
  },
  {
   "cell_type": "code",
   "execution_count": 74,
   "metadata": {},
   "outputs": [],
   "source": [
    "import pandas.io.sql\n",
    "import pyodbc # conexión a SQL Server por odbc\n",
    "import psycopg2 #conexión a PostgreSQL\n"
   ]
  },
  {
   "cell_type": "code",
   "execution_count": null,
   "metadata": {},
   "outputs": [],
   "source": []
  },
  {
   "cell_type": "markdown",
   "metadata": {},
   "source": [
    "**SQL Server**"
   ]
  },
  {
   "cell_type": "code",
   "execution_count": null,
   "metadata": {},
   "outputs": [],
   "source": []
  },
  {
   "cell_type": "markdown",
   "metadata": {},
   "source": [
    "**PostgreSQL**"
   ]
  },
  {
   "cell_type": "code",
   "execution_count": null,
   "metadata": {},
   "outputs": [],
   "source": []
  },
  {
   "cell_type": "code",
   "execution_count": null,
   "metadata": {},
   "outputs": [],
   "source": []
  },
  {
   "cell_type": "code",
   "execution_count": null,
   "metadata": {},
   "outputs": [],
   "source": []
  },
  {
   "cell_type": "markdown",
   "metadata": {},
   "source": [
    "**Web Scraping**"
   ]
  },
  {
   "cell_type": "markdown",
   "metadata": {},
   "source": [
    "**Conexión mediante API**"
   ]
  },
  {
   "cell_type": "code",
   "execution_count": null,
   "metadata": {},
   "outputs": [],
   "source": []
  }
 ],
 "metadata": {
  "kernelspec": {
   "display_name": "Python 3",
   "language": "python",
   "name": "python3"
  },
  "language_info": {
   "codemirror_mode": {
    "name": "ipython",
    "version": 3
   },
   "file_extension": ".py",
   "mimetype": "text/x-python",
   "name": "python",
   "nbconvert_exporter": "python",
   "pygments_lexer": "ipython3",
   "version": "3.8.5"
  }
 },
 "nbformat": 4,
 "nbformat_minor": 4
}
