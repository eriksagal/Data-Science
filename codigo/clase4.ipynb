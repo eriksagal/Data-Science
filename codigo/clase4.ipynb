{
 "cells": [
  {
   "cell_type": "markdown",
   "metadata": {},
   "source": [
    "**TXT**"
   ]
  },
  {
   "cell_type": "code",
   "execution_count": 10,
   "metadata": {},
   "outputs": [],
   "source": [
    "import numpy as np\n",
    "import pandas as pd\n",
    "import os"
   ]
  },
  {
   "cell_type": "code",
   "execution_count": 11,
   "metadata": {},
   "outputs": [
    {
     "data": {
      "text/plain": [
       "b'/home/erik/Documentos/cursos/Data-Science/Data'"
      ]
     },
     "execution_count": 11,
     "metadata": {},
     "output_type": "execute_result"
    }
   ],
   "source": [
    "os.chdir('/home/erik/Documentos/cursos/Data-Science/Data')\n",
    "os.getcwdb()"
   ]
  },
  {
   "cell_type": "code",
   "execution_count": 12,
   "metadata": {},
   "outputs": [
    {
     "ename": "AttributeError",
     "evalue": "module 'numpy' has no attribute 'read_csv'",
     "output_type": "error",
     "traceback": [
      "\u001b[0;31m---------------------------------------------------------------------------\u001b[0m",
      "\u001b[0;31mAttributeError\u001b[0m                            Traceback (most recent call last)",
      "\u001b[1;32m/home/erik/Documentos/cursos/Data-Science/codigo/clase4.ipynb Cell 4'\u001b[0m in \u001b[0;36m<cell line: 1>\u001b[0;34m()\u001b[0m\n\u001b[0;32m----> <a href='vscode-notebook-cell:/home/erik/Documentos/cursos/Data-Science/codigo/clase4.ipynb#ch0000001?line=0'>1</a>\u001b[0m df_txt \u001b[39m=\u001b[39m pd\u001b[39m.\u001b[39;49mread_csv(\u001b[39m\"\u001b[39m\u001b[39mhousing.data.txt\u001b[39m\u001b[39m\"\u001b[39m,\n\u001b[1;32m      <a href='vscode-notebook-cell:/home/erik/Documentos/cursos/Data-Science/codigo/clase4.ipynb#ch0000001?line=1'>2</a>\u001b[0m                      header\u001b[39m=\u001b[39m\u001b[39mNone\u001b[39;00m,\n\u001b[1;32m      <a href='vscode-notebook-cell:/home/erik/Documentos/cursos/Data-Science/codigo/clase4.ipynb#ch0000001?line=2'>3</a>\u001b[0m                     sep\u001b[39m=\u001b[39m\u001b[39m\"\u001b[39m\u001b[39m\\\u001b[39m\u001b[39ms+\u001b[39m\u001b[39m\"\u001b[39m)\n",
      "File \u001b[0;32m~/anaconda3/lib/python3.9/site-packages/numpy/__init__.py:313\u001b[0m, in \u001b[0;36m__getattr__\u001b[0;34m(attr)\u001b[0m\n\u001b[1;32m    310\u001b[0m     \u001b[39mfrom\u001b[39;00m \u001b[39m.\u001b[39;00m\u001b[39mtesting\u001b[39;00m \u001b[39mimport\u001b[39;00m Tester\n\u001b[1;32m    311\u001b[0m     \u001b[39mreturn\u001b[39;00m Tester\n\u001b[0;32m--> 313\u001b[0m \u001b[39mraise\u001b[39;00m \u001b[39mAttributeError\u001b[39;00m(\u001b[39m\"\u001b[39m\u001b[39mmodule \u001b[39m\u001b[39m{!r}\u001b[39;00m\u001b[39m has no attribute \u001b[39m\u001b[39m\"\u001b[39m\n\u001b[1;32m    314\u001b[0m                      \u001b[39m\"\u001b[39m\u001b[39m{!r}\u001b[39;00m\u001b[39m\"\u001b[39m\u001b[39m.\u001b[39mformat(\u001b[39m__name__\u001b[39m, attr))\n",
      "\u001b[0;31mAttributeError\u001b[0m: module 'numpy' has no attribute 'read_csv'"
     ]
    }
   ],
   "source": [
    "df_txt = pd.read_csv(\"housing.data.txt\",\n",
    "                     header=None,\n",
    "                    sep=\"\\s+\")"
   ]
  },
  {
   "cell_type": "code",
   "execution_count": null,
   "metadata": {},
   "outputs": [
    {
     "data": {
      "text/html": [
       "<div>\n",
       "<style scoped>\n",
       "    .dataframe tbody tr th:only-of-type {\n",
       "        vertical-align: middle;\n",
       "    }\n",
       "\n",
       "    .dataframe tbody tr th {\n",
       "        vertical-align: top;\n",
       "    }\n",
       "\n",
       "    .dataframe thead th {\n",
       "        text-align: right;\n",
       "    }\n",
       "</style>\n",
       "<table border=\"1\" class=\"dataframe\">\n",
       "  <thead>\n",
       "    <tr style=\"text-align: right;\">\n",
       "      <th></th>\n",
       "      <th>0</th>\n",
       "      <th>1</th>\n",
       "      <th>2</th>\n",
       "      <th>3</th>\n",
       "      <th>4</th>\n",
       "      <th>5</th>\n",
       "      <th>6</th>\n",
       "      <th>7</th>\n",
       "      <th>8</th>\n",
       "      <th>9</th>\n",
       "      <th>10</th>\n",
       "      <th>11</th>\n",
       "      <th>12</th>\n",
       "      <th>13</th>\n",
       "    </tr>\n",
       "  </thead>\n",
       "  <tbody>\n",
       "    <tr>\n",
       "      <th>0</th>\n",
       "      <td>0.00632</td>\n",
       "      <td>18.0</td>\n",
       "      <td>2.31</td>\n",
       "      <td>0</td>\n",
       "      <td>0.538</td>\n",
       "      <td>6.575</td>\n",
       "      <td>65.2</td>\n",
       "      <td>4.0900</td>\n",
       "      <td>1</td>\n",
       "      <td>296.0</td>\n",
       "      <td>15.3</td>\n",
       "      <td>396.90</td>\n",
       "      <td>4.98</td>\n",
       "      <td>24.0</td>\n",
       "    </tr>\n",
       "    <tr>\n",
       "      <th>1</th>\n",
       "      <td>0.02731</td>\n",
       "      <td>0.0</td>\n",
       "      <td>7.07</td>\n",
       "      <td>0</td>\n",
       "      <td>0.469</td>\n",
       "      <td>6.421</td>\n",
       "      <td>78.9</td>\n",
       "      <td>4.9671</td>\n",
       "      <td>2</td>\n",
       "      <td>242.0</td>\n",
       "      <td>17.8</td>\n",
       "      <td>396.90</td>\n",
       "      <td>9.14</td>\n",
       "      <td>21.6</td>\n",
       "    </tr>\n",
       "    <tr>\n",
       "      <th>2</th>\n",
       "      <td>0.02729</td>\n",
       "      <td>0.0</td>\n",
       "      <td>7.07</td>\n",
       "      <td>0</td>\n",
       "      <td>0.469</td>\n",
       "      <td>7.185</td>\n",
       "      <td>61.1</td>\n",
       "      <td>4.9671</td>\n",
       "      <td>2</td>\n",
       "      <td>242.0</td>\n",
       "      <td>17.8</td>\n",
       "      <td>392.83</td>\n",
       "      <td>4.03</td>\n",
       "      <td>34.7</td>\n",
       "    </tr>\n",
       "    <tr>\n",
       "      <th>3</th>\n",
       "      <td>0.03237</td>\n",
       "      <td>0.0</td>\n",
       "      <td>2.18</td>\n",
       "      <td>0</td>\n",
       "      <td>0.458</td>\n",
       "      <td>6.998</td>\n",
       "      <td>45.8</td>\n",
       "      <td>6.0622</td>\n",
       "      <td>3</td>\n",
       "      <td>222.0</td>\n",
       "      <td>18.7</td>\n",
       "      <td>394.63</td>\n",
       "      <td>2.94</td>\n",
       "      <td>33.4</td>\n",
       "    </tr>\n",
       "    <tr>\n",
       "      <th>4</th>\n",
       "      <td>0.06905</td>\n",
       "      <td>0.0</td>\n",
       "      <td>2.18</td>\n",
       "      <td>0</td>\n",
       "      <td>0.458</td>\n",
       "      <td>7.147</td>\n",
       "      <td>54.2</td>\n",
       "      <td>6.0622</td>\n",
       "      <td>3</td>\n",
       "      <td>222.0</td>\n",
       "      <td>18.7</td>\n",
       "      <td>396.90</td>\n",
       "      <td>5.33</td>\n",
       "      <td>36.2</td>\n",
       "    </tr>\n",
       "  </tbody>\n",
       "</table>\n",
       "</div>"
      ],
      "text/plain": [
       "        0     1     2   3      4      5     6       7   8      9     10  \\\n",
       "0  0.00632  18.0  2.31   0  0.538  6.575  65.2  4.0900   1  296.0  15.3   \n",
       "1  0.02731   0.0  7.07   0  0.469  6.421  78.9  4.9671   2  242.0  17.8   \n",
       "2  0.02729   0.0  7.07   0  0.469  7.185  61.1  4.9671   2  242.0  17.8   \n",
       "3  0.03237   0.0  2.18   0  0.458  6.998  45.8  6.0622   3  222.0  18.7   \n",
       "4  0.06905   0.0  2.18   0  0.458  7.147  54.2  6.0622   3  222.0  18.7   \n",
       "\n",
       "       11    12    13  \n",
       "0  396.90  4.98  24.0  \n",
       "1  396.90  9.14  21.6  \n",
       "2  392.83  4.03  34.7  \n",
       "3  394.63  2.94  33.4  \n",
       "4  396.90  5.33  36.2  "
      ]
     },
     "execution_count": 7,
     "metadata": {},
     "output_type": "execute_result"
    }
   ],
   "source": [
    "df_txt.head()"
   ]
  },
  {
   "cell_type": "code",
   "execution_count": null,
   "metadata": {},
   "outputs": [],
   "source": [
    "etiquetas=['CRIM', 'ZN', 'INDUS', 'CHAS','NOX','RM', 'AGE', 'DIS', 'RAD', 'TAX', 'PTRATIO', 'B', 'LSTAT', 'MEDV']"
   ]
  },
  {
   "cell_type": "code",
   "execution_count": null,
   "metadata": {},
   "outputs": [],
   "source": [
    "df_txt.columns =etiquetas"
   ]
  },
  {
   "cell_type": "code",
   "execution_count": null,
   "metadata": {},
   "outputs": [
    {
     "data": {
      "text/plain": [
       "Index(['CRIM', 'ZN', 'INDUS', 'CHAS', 'NOX', 'RM', 'AGE', 'DIS', 'RAD', 'TAX',\n",
       "       'PTRATIO', 'B', 'LSTAT', 'MEDV'],\n",
       "      dtype='object')"
      ]
     },
     "execution_count": 11,
     "metadata": {},
     "output_type": "execute_result"
    }
   ],
   "source": [
    "df_txt.columns"
   ]
  },
  {
   "cell_type": "code",
   "execution_count": null,
   "metadata": {},
   "outputs": [
    {
     "data": {
      "text/html": [
       "<div>\n",
       "<style scoped>\n",
       "    .dataframe tbody tr th:only-of-type {\n",
       "        vertical-align: middle;\n",
       "    }\n",
       "\n",
       "    .dataframe tbody tr th {\n",
       "        vertical-align: top;\n",
       "    }\n",
       "\n",
       "    .dataframe thead th {\n",
       "        text-align: right;\n",
       "    }\n",
       "</style>\n",
       "<table border=\"1\" class=\"dataframe\">\n",
       "  <thead>\n",
       "    <tr style=\"text-align: right;\">\n",
       "      <th></th>\n",
       "      <th>CRIM</th>\n",
       "      <th>ZN</th>\n",
       "      <th>INDUS</th>\n",
       "      <th>CHAS</th>\n",
       "      <th>NOX</th>\n",
       "      <th>RM</th>\n",
       "      <th>AGE</th>\n",
       "      <th>DIS</th>\n",
       "      <th>RAD</th>\n",
       "      <th>TAX</th>\n",
       "      <th>PTRATIO</th>\n",
       "      <th>B</th>\n",
       "      <th>LSTAT</th>\n",
       "      <th>MEDV</th>\n",
       "    </tr>\n",
       "  </thead>\n",
       "  <tbody>\n",
       "    <tr>\n",
       "      <th>0</th>\n",
       "      <td>0.00632</td>\n",
       "      <td>18.0</td>\n",
       "      <td>2.31</td>\n",
       "      <td>0</td>\n",
       "      <td>0.538</td>\n",
       "      <td>6.575</td>\n",
       "      <td>65.2</td>\n",
       "      <td>4.0900</td>\n",
       "      <td>1</td>\n",
       "      <td>296.0</td>\n",
       "      <td>15.3</td>\n",
       "      <td>396.90</td>\n",
       "      <td>4.98</td>\n",
       "      <td>24.0</td>\n",
       "    </tr>\n",
       "    <tr>\n",
       "      <th>1</th>\n",
       "      <td>0.02731</td>\n",
       "      <td>0.0</td>\n",
       "      <td>7.07</td>\n",
       "      <td>0</td>\n",
       "      <td>0.469</td>\n",
       "      <td>6.421</td>\n",
       "      <td>78.9</td>\n",
       "      <td>4.9671</td>\n",
       "      <td>2</td>\n",
       "      <td>242.0</td>\n",
       "      <td>17.8</td>\n",
       "      <td>396.90</td>\n",
       "      <td>9.14</td>\n",
       "      <td>21.6</td>\n",
       "    </tr>\n",
       "    <tr>\n",
       "      <th>2</th>\n",
       "      <td>0.02729</td>\n",
       "      <td>0.0</td>\n",
       "      <td>7.07</td>\n",
       "      <td>0</td>\n",
       "      <td>0.469</td>\n",
       "      <td>7.185</td>\n",
       "      <td>61.1</td>\n",
       "      <td>4.9671</td>\n",
       "      <td>2</td>\n",
       "      <td>242.0</td>\n",
       "      <td>17.8</td>\n",
       "      <td>392.83</td>\n",
       "      <td>4.03</td>\n",
       "      <td>34.7</td>\n",
       "    </tr>\n",
       "    <tr>\n",
       "      <th>3</th>\n",
       "      <td>0.03237</td>\n",
       "      <td>0.0</td>\n",
       "      <td>2.18</td>\n",
       "      <td>0</td>\n",
       "      <td>0.458</td>\n",
       "      <td>6.998</td>\n",
       "      <td>45.8</td>\n",
       "      <td>6.0622</td>\n",
       "      <td>3</td>\n",
       "      <td>222.0</td>\n",
       "      <td>18.7</td>\n",
       "      <td>394.63</td>\n",
       "      <td>2.94</td>\n",
       "      <td>33.4</td>\n",
       "    </tr>\n",
       "    <tr>\n",
       "      <th>4</th>\n",
       "      <td>0.06905</td>\n",
       "      <td>0.0</td>\n",
       "      <td>2.18</td>\n",
       "      <td>0</td>\n",
       "      <td>0.458</td>\n",
       "      <td>7.147</td>\n",
       "      <td>54.2</td>\n",
       "      <td>6.0622</td>\n",
       "      <td>3</td>\n",
       "      <td>222.0</td>\n",
       "      <td>18.7</td>\n",
       "      <td>396.90</td>\n",
       "      <td>5.33</td>\n",
       "      <td>36.2</td>\n",
       "    </tr>\n",
       "  </tbody>\n",
       "</table>\n",
       "</div>"
      ],
      "text/plain": [
       "      CRIM    ZN  INDUS  CHAS    NOX     RM   AGE     DIS  RAD    TAX  \\\n",
       "0  0.00632  18.0   2.31     0  0.538  6.575  65.2  4.0900    1  296.0   \n",
       "1  0.02731   0.0   7.07     0  0.469  6.421  78.9  4.9671    2  242.0   \n",
       "2  0.02729   0.0   7.07     0  0.469  7.185  61.1  4.9671    2  242.0   \n",
       "3  0.03237   0.0   2.18     0  0.458  6.998  45.8  6.0622    3  222.0   \n",
       "4  0.06905   0.0   2.18     0  0.458  7.147  54.2  6.0622    3  222.0   \n",
       "\n",
       "   PTRATIO       B  LSTAT  MEDV  \n",
       "0     15.3  396.90   4.98  24.0  \n",
       "1     17.8  396.90   9.14  21.6  \n",
       "2     17.8  392.83   4.03  34.7  \n",
       "3     18.7  394.63   2.94  33.4  \n",
       "4     18.7  396.90   5.33  36.2  "
      ]
     },
     "execution_count": 12,
     "metadata": {},
     "output_type": "execute_result"
    }
   ],
   "source": [
    "df_txt.head()"
   ]
  },
  {
   "cell_type": "markdown",
   "metadata": {},
   "source": [
    "**Conexión a motores de bases de datos**"
   ]
  },
  {
   "cell_type": "code",
   "execution_count": null,
   "metadata": {},
   "outputs": [],
   "source": [
    "import pandas.io.sql\n",
    "import pyodbc # conexión a SQL Server por odbc\n",
    "import psycopg2 #conexión a PostgreSQL"
   ]
  },
  {
   "cell_type": "code",
   "execution_count": null,
   "metadata": {},
   "outputs": [],
   "source": [
    "#Rol: DBA (Administrador de Bases de Datos)\n",
    "#nos proporciona las credenciales para conectar a la base de datos y realizar consultas\n",
    "\n",
    "\n",
    "#Server: 69.164.192.245\n",
    "#Usuario: sdc_read\n",
    "#Contraseña: #sDc_Read#21\n",
    "#Database: alumno\n",
    "#tabla: anexo6"
   ]
  },
  {
   "cell_type": "markdown",
   "metadata": {},
   "source": [
    "**SQL Server**"
   ]
  },
  {
   "cell_type": "code",
   "execution_count": null,
   "metadata": {},
   "outputs": [],
   "source": [
    "import pandas.io.sql\n",
    "import pyodbc # conexión a SQL Server por odbc\n",
    "import psycopg2 #conexión a PostgreSQL"
   ]
  },
  {
   "cell_type": "code",
   "execution_count": null,
   "metadata": {},
   "outputs": [],
   "source": [
    "#Rol: DBA (Administrador de Bases de Datos)\n",
    "#nos proporciona las credenciales para conectar a la base de datos y realizar consultas\n",
    "\n",
    "\n",
    "#Server: 69.164.192.245\n",
    "#Usuario: sdc_read\n",
    "#Contraseña: #sDc_Read#21\n",
    "#Database: alumno\n"
   ]
  },
  {
   "cell_type": "code",
   "execution_count": null,
   "metadata": {},
   "outputs": [],
   "source": [
    "conexion = pyodbc.connect(\"DRIVER={SQL Server}; SERVER=69.164.192.245; DATABASE=alumno; UID=sdc_read; PWD=#sDc_Read#21\")"
   ]
  },
  {
   "cell_type": "code",
   "execution_count": null,
   "metadata": {},
   "outputs": [],
   "source": [
    "cursor=conexion.cursor()\n",
    "#cursor() ejecutar código SQL"
   ]
  },
  {
   "cell_type": "code",
   "execution_count": null,
   "metadata": {
    "scrolled": true
   },
   "outputs": [
    {
     "data": {
      "text/plain": [
       "<pyodbc.Cursor at 0x1e1462d8230>"
      ]
     },
     "execution_count": 21,
     "metadata": {},
     "output_type": "execute_result"
    }
   ],
   "source": [
    "cursor.execute(\"SELECT * FROM student.anexo6\")"
   ]
  },
  {
   "cell_type": "code",
   "execution_count": null,
   "metadata": {},
   "outputs": [],
   "source": [
    "rows=cursor.fetchall()"
   ]
  },
  {
   "cell_type": "code",
   "execution_count": null,
   "metadata": {},
   "outputs": [],
   "source": [
    "#fetchall(): función permite consultar todas las filas de la tabla\n",
    "#fetchmany(): función que permite consultar determinadas filas de la tabla"
   ]
  },
  {
   "cell_type": "code",
   "execution_count": null,
   "metadata": {},
   "outputs": [],
   "source": [
    "et_columns = [\"ncl\",\"fnaci\",\"genero\",\"est_civil\",\"csocio\",\"part_reg\",\"tid\",\"nid\",\"tpers\",\"domici\",\"rel_lab\",\"cal\",\"calint\",\"cage\",\n",
    "              \"mon\",\"ccr\",\"tcr\",\"tspr\",\"fot\",\"morg\",\"tea\",\"skcr\",\"cuenta\",\"kvi\",\"kre\",\"krf\",\"kve\",\"kju\",\"kco\",\"dak\",\n",
    "              \"gar_pref\",\"gar_auto\",\"prv_req\",\"prv_cons\",\"kcas\",\"sin\",\"sis\",\"sid\",\"tpr\",\"ncpr\",\"ncpa\",\"pcuo\",\"pgra\",\"fven_org\",\"fven_act\"]"
   ]
  },
  {
   "cell_type": "code",
   "execution_count": null,
   "metadata": {},
   "outputs": [],
   "source": [
    "df_sql_server = pd.DataFrame(np.array(rows),\n",
    "                            columns=et_columns)"
   ]
  },
  {
   "cell_type": "code",
   "execution_count": null,
   "metadata": {},
   "outputs": [
    {
     "data": {
      "text/html": [
       "<div>\n",
       "<style scoped>\n",
       "    .dataframe tbody tr th:only-of-type {\n",
       "        vertical-align: middle;\n",
       "    }\n",
       "\n",
       "    .dataframe tbody tr th {\n",
       "        vertical-align: top;\n",
       "    }\n",
       "\n",
       "    .dataframe thead th {\n",
       "        text-align: right;\n",
       "    }\n",
       "</style>\n",
       "<table border=\"1\" class=\"dataframe\">\n",
       "  <thead>\n",
       "    <tr style=\"text-align: right;\">\n",
       "      <th></th>\n",
       "      <th>ncl</th>\n",
       "      <th>fnaci</th>\n",
       "      <th>genero</th>\n",
       "      <th>est_civil</th>\n",
       "      <th>csocio</th>\n",
       "      <th>part_reg</th>\n",
       "      <th>tid</th>\n",
       "      <th>nid</th>\n",
       "      <th>tpers</th>\n",
       "      <th>domici</th>\n",
       "      <th>...</th>\n",
       "      <th>sin</th>\n",
       "      <th>sis</th>\n",
       "      <th>sid</th>\n",
       "      <th>tpr</th>\n",
       "      <th>ncpr</th>\n",
       "      <th>ncpa</th>\n",
       "      <th>pcuo</th>\n",
       "      <th>pgra</th>\n",
       "      <th>fven_org</th>\n",
       "      <th>fven_act</th>\n",
       "    </tr>\n",
       "  </thead>\n",
       "  <tbody>\n",
       "    <tr>\n",
       "      <th>0</th>\n",
       "      <td>abc1</td>\n",
       "      <td>30914</td>\n",
       "      <td>F</td>\n",
       "      <td>S</td>\n",
       "      <td>AP1255172XTH</td>\n",
       "      <td>None</td>\n",
       "      <td>DNI</td>\n",
       "      <td>2.68551e+08</td>\n",
       "      <td>1</td>\n",
       "      <td>Calle MZ. F LOTE 14 PARQUE RESIDENCIAL MONTEVE...</td>\n",
       "      <td>...</td>\n",
       "      <td>None</td>\n",
       "      <td>420.56</td>\n",
       "      <td>None</td>\n",
       "      <td>PCM-PRESTAMO COMPRA VEHICULO</td>\n",
       "      <td>42</td>\n",
       "      <td>1</td>\n",
       "      <td>30</td>\n",
       "      <td>None</td>\n",
       "      <td>45019</td>\n",
       "      <td>45019</td>\n",
       "    </tr>\n",
       "    <tr>\n",
       "      <th>1</th>\n",
       "      <td>abc2</td>\n",
       "      <td>33763</td>\n",
       "      <td>M</td>\n",
       "      <td>S</td>\n",
       "      <td>AP1000769XTH</td>\n",
       "      <td>None</td>\n",
       "      <td>DNI</td>\n",
       "      <td>7.05556e+08</td>\n",
       "      <td>1</td>\n",
       "      <td>Calle NICARAGUA   Mz. H1 Lt. 3 Referencia AH L...</td>\n",
       "      <td>...</td>\n",
       "      <td>6.84</td>\n",
       "      <td>None</td>\n",
       "      <td>None</td>\n",
       "      <td>PEX-PRESTAMO EXTRAORDINARIO</td>\n",
       "      <td>6</td>\n",
       "      <td>3</td>\n",
       "      <td>30</td>\n",
       "      <td>None</td>\n",
       "      <td>43902</td>\n",
       "      <td>43902</td>\n",
       "    </tr>\n",
       "    <tr>\n",
       "      <th>2</th>\n",
       "      <td>abc3</td>\n",
       "      <td>25944</td>\n",
       "      <td>M</td>\n",
       "      <td>S</td>\n",
       "      <td>AP1255369XTH</td>\n",
       "      <td>None</td>\n",
       "      <td>DNI</td>\n",
       "      <td>4.62281e+07</td>\n",
       "      <td>1</td>\n",
       "      <td>Calle CA. J F 38 URB. PACHACAMAC BARRIO 1 SECT...</td>\n",
       "      <td>...</td>\n",
       "      <td>167.3</td>\n",
       "      <td>None</td>\n",
       "      <td>None</td>\n",
       "      <td>PCC-PRESTAMO COMPRA DE CARTERA</td>\n",
       "      <td>55</td>\n",
       "      <td>2</td>\n",
       "      <td>30</td>\n",
       "      <td>None</td>\n",
       "      <td>45436</td>\n",
       "      <td>45436</td>\n",
       "    </tr>\n",
       "    <tr>\n",
       "      <th>3</th>\n",
       "      <td>abc4</td>\n",
       "      <td>24602</td>\n",
       "      <td>M</td>\n",
       "      <td>S</td>\n",
       "      <td>AP1254225XTH</td>\n",
       "      <td>None</td>\n",
       "      <td>DNI</td>\n",
       "      <td>2.5201e+08</td>\n",
       "      <td>1</td>\n",
       "      <td>Calle CA HERMANOS AYAR 405 C2-10 URB LOS CHANC...</td>\n",
       "      <td>...</td>\n",
       "      <td>3799.7</td>\n",
       "      <td>None</td>\n",
       "      <td>None</td>\n",
       "      <td>PCM-PRESTAMO COMPRA VEHICULO</td>\n",
       "      <td>46</td>\n",
       "      <td>None</td>\n",
       "      <td>30</td>\n",
       "      <td>171</td>\n",
       "      <td>45201</td>\n",
       "      <td>45201</td>\n",
       "    </tr>\n",
       "    <tr>\n",
       "      <th>4</th>\n",
       "      <td>abc5</td>\n",
       "      <td>34059</td>\n",
       "      <td>M</td>\n",
       "      <td>S</td>\n",
       "      <td>AP1254240XTH</td>\n",
       "      <td>None</td>\n",
       "      <td>DNI</td>\n",
       "      <td>8.72776e+08</td>\n",
       "      <td>1</td>\n",
       "      <td>Calle SALAVERRY 375 CASA A  Nro..   Referencia...</td>\n",
       "      <td>...</td>\n",
       "      <td>None</td>\n",
       "      <td>None</td>\n",
       "      <td>None</td>\n",
       "      <td>PCM-PRESTAMO COMPRA VEHICULO</td>\n",
       "      <td>45</td>\n",
       "      <td>None</td>\n",
       "      <td>30</td>\n",
       "      <td>75</td>\n",
       "      <td>45201</td>\n",
       "      <td>45201</td>\n",
       "    </tr>\n",
       "  </tbody>\n",
       "</table>\n",
       "<p>5 rows × 45 columns</p>\n",
       "</div>"
      ],
      "text/plain": [
       "    ncl  fnaci genero est_civil        csocio part_reg  tid          nid  \\\n",
       "0  abc1  30914      F         S  AP1255172XTH     None  DNI  2.68551e+08   \n",
       "1  abc2  33763      M         S  AP1000769XTH     None  DNI  7.05556e+08   \n",
       "2  abc3  25944      M         S  AP1255369XTH     None  DNI  4.62281e+07   \n",
       "3  abc4  24602      M         S  AP1254225XTH     None  DNI   2.5201e+08   \n",
       "4  abc5  34059      M         S  AP1254240XTH     None  DNI  8.72776e+08   \n",
       "\n",
       "  tpers                                             domici  ...     sin  \\\n",
       "0     1  Calle MZ. F LOTE 14 PARQUE RESIDENCIAL MONTEVE...  ...    None   \n",
       "1     1  Calle NICARAGUA   Mz. H1 Lt. 3 Referencia AH L...  ...    6.84   \n",
       "2     1  Calle CA. J F 38 URB. PACHACAMAC BARRIO 1 SECT...  ...   167.3   \n",
       "3     1  Calle CA HERMANOS AYAR 405 C2-10 URB LOS CHANC...  ...  3799.7   \n",
       "4     1  Calle SALAVERRY 375 CASA A  Nro..   Referencia...  ...    None   \n",
       "\n",
       "      sis   sid                             tpr ncpr  ncpa pcuo  pgra  \\\n",
       "0  420.56  None    PCM-PRESTAMO COMPRA VEHICULO   42     1   30  None   \n",
       "1    None  None     PEX-PRESTAMO EXTRAORDINARIO    6     3   30  None   \n",
       "2    None  None  PCC-PRESTAMO COMPRA DE CARTERA   55     2   30  None   \n",
       "3    None  None    PCM-PRESTAMO COMPRA VEHICULO   46  None   30   171   \n",
       "4    None  None    PCM-PRESTAMO COMPRA VEHICULO   45  None   30    75   \n",
       "\n",
       "  fven_org fven_act  \n",
       "0    45019    45019  \n",
       "1    43902    43902  \n",
       "2    45436    45436  \n",
       "3    45201    45201  \n",
       "4    45201    45201  \n",
       "\n",
       "[5 rows x 45 columns]"
      ]
     },
     "execution_count": 30,
     "metadata": {},
     "output_type": "execute_result"
    }
   ],
   "source": [
    "df_sql_server.head()"
   ]
  },
  {
   "cell_type": "code",
   "execution_count": null,
   "metadata": {},
   "outputs": [
    {
     "name": "stdout",
     "output_type": "stream",
     "text": [
      "<class 'pandas.core.frame.DataFrame'>\n",
      "RangeIndex: 16185 entries, 0 to 16184\n",
      "Data columns (total 45 columns):\n",
      " #   Column     Non-Null Count  Dtype \n",
      "---  ------     --------------  ----- \n",
      " 0   ncl        16185 non-null  object\n",
      " 1   fnaci      16076 non-null  object\n",
      " 2   genero     16185 non-null  object\n",
      " 3   est_civil  16185 non-null  object\n",
      " 4   csocio     16185 non-null  object\n",
      " 5   part_reg   0 non-null      object\n",
      " 6   tid        16185 non-null  object\n",
      " 7   nid        16183 non-null  object\n",
      " 8   tpers      16185 non-null  object\n",
      " 9   domici     16185 non-null  object\n",
      " 10  rel_lab    16185 non-null  object\n",
      " 11  cal        16185 non-null  object\n",
      " 12  calint     16185 non-null  object\n",
      " 13  cage       16185 non-null  object\n",
      " 14  mon        16185 non-null  object\n",
      " 15  ccr        16165 non-null  object\n",
      " 16  tcr        16185 non-null  object\n",
      " 17  tspr       0 non-null      object\n",
      " 18  fot        16185 non-null  object\n",
      " 19  morg       16176 non-null  object\n",
      " 20  tea        16118 non-null  object\n",
      " 21  skcr       16026 non-null  object\n",
      " 22  cuenta     16185 non-null  object\n",
      " 23  kvi        15466 non-null  object\n",
      " 24  kre        0 non-null      object\n",
      " 25  krf        0 non-null      object\n",
      " 26  kve        0 non-null      object\n",
      " 27  kju        0 non-null      object\n",
      " 28  kco        0 non-null      object\n",
      " 29  dak        6877 non-null   object\n",
      " 30  gar_pref   0 non-null      object\n",
      " 31  gar_auto   0 non-null      object\n",
      " 32  prv_req    16063 non-null  object\n",
      " 33  prv_cons   16063 non-null  object\n",
      " 34  kcas       0 non-null      object\n",
      " 35  sin        10953 non-null  object\n",
      " 36  sis        3685 non-null   object\n",
      " 37  sid        0 non-null      object\n",
      " 38  tpr        16185 non-null  object\n",
      " 39  ncpr       15831 non-null  object\n",
      " 40  ncpa       14130 non-null  object\n",
      " 41  pcuo       15984 non-null  object\n",
      " 42  pgra       8046 non-null   object\n",
      " 43  fven_org   16185 non-null  object\n",
      " 44  fven_act   16185 non-null  object\n",
      "dtypes: object(45)\n",
      "memory usage: 5.6+ MB\n"
     ]
    }
   ],
   "source": [
    "df_sql_server.info()"
   ]
  },
  {
   "cell_type": "markdown",
   "metadata": {},
   "source": [
    "**PostgreSQL**"
   ]
  },
  {
   "cell_type": "code",
   "execution_count": null,
   "metadata": {},
   "outputs": [],
   "source": [
    "#Permisos y/o credenciales:\n",
    "#Nombre del usuario: postgres\n",
    "#Contraseña del usuario: sdc2019PERU\n",
    "#IP público: 69.164.192.245\n",
    "#Nombre de base de datos: profesor\n",
    "#Nombre de la tabla: bupa\n",
    "\n",
    "#Diccionario de variables:"
   ]
  },
  {
   "cell_type": "code",
   "execution_count": null,
   "metadata": {},
   "outputs": [],
   "source": [
    "conn = psycopg2.connect(\"dbname=profesor user=postgres password=sdc2019PERU host=69.164.192.245\")"
   ]
  },
  {
   "cell_type": "code",
   "execution_count": null,
   "metadata": {},
   "outputs": [],
   "source": [
    "cursor=conn.cursor()"
   ]
  },
  {
   "cell_type": "code",
   "execution_count": null,
   "metadata": {},
   "outputs": [],
   "source": [
    "cursor.execute(\"SELECT * FROM departamento\")"
   ]
  },
  {
   "cell_type": "code",
   "execution_count": null,
   "metadata": {},
   "outputs": [],
   "source": [
    "data_select = cursor.fetchmany(10)"
   ]
  },
  {
   "cell_type": "code",
   "execution_count": null,
   "metadata": {},
   "outputs": [
    {
     "data": {
      "text/plain": [
       "[('Alquilo Exclusivo Departamento en Jesús Maria', '74 m²', 'S/ 2,100'),\n",
       " ('Alquilo Lindo Departamento Sin Amoblar de 65 m² en Miraflores',\n",
       "  '65 m²',\n",
       "  'S/ 2,437'),\n",
       " ('Lindo y Moderno Dpto Amoblado y Equipado', '40 m²', 'S/ 2,300'),\n",
       " ('Excelente Departamento en Chacarilla', '100 m²', 'S/ 2,900'),\n",
       " ('Excelente Dpto en Alquiler', '90 m²', 'S/ 2,450'),\n",
       " ('Alquilo Departamento Full Amoblado de 85 m² en Miraflores',\n",
       "  '85 m²',\n",
       "  'S/ 3,750'),\n",
       " ('Alquilo Bello Departamento de Estreno/silvia/', '60 m²', 'S/ 2,100'),\n",
       " ('Dpto. con Precio de Ocasión en Club Golf Los Incas, Surco',\n",
       "  '205 m²',\n",
       "  'S/ 4,800'),\n",
       " ('Excelente Departamento en Alquiler Cerca a La Plaza Butters',\n",
       "  '70 m²',\n",
       "  'S/ 1,800'),\n",
       " ('Alquiler de Departamento Dúplex Vista Top en San Isidro 9 5 4 7 7 7 1 1 5',\n",
       "  '155 m²',\n",
       "  'S/ 4,680')]"
      ]
     },
     "execution_count": 41,
     "metadata": {},
     "output_type": "execute_result"
    }
   ],
   "source": [
    "data_select"
   ]
  },
  {
   "cell_type": "code",
   "execution_count": null,
   "metadata": {},
   "outputs": [],
   "source": [
    "data_m2 = cursor.fetchall()"
   ]
  },
  {
   "cell_type": "code",
   "execution_count": null,
   "metadata": {},
   "outputs": [],
   "source": [
    "df_postgreSQL = pd.DataFrame(data_m2, columns= [\"nombres\",\"metros2\", \"precio\"])"
   ]
  },
  {
   "cell_type": "code",
   "execution_count": null,
   "metadata": {},
   "outputs": [
    {
     "data": {
      "text/html": [
       "<div>\n",
       "<style scoped>\n",
       "    .dataframe tbody tr th:only-of-type {\n",
       "        vertical-align: middle;\n",
       "    }\n",
       "\n",
       "    .dataframe tbody tr th {\n",
       "        vertical-align: top;\n",
       "    }\n",
       "\n",
       "    .dataframe thead th {\n",
       "        text-align: right;\n",
       "    }\n",
       "</style>\n",
       "<table border=\"1\" class=\"dataframe\">\n",
       "  <thead>\n",
       "    <tr style=\"text-align: right;\">\n",
       "      <th></th>\n",
       "      <th>nombres</th>\n",
       "      <th>metros2</th>\n",
       "      <th>precio</th>\n",
       "    </tr>\n",
       "  </thead>\n",
       "  <tbody>\n",
       "    <tr>\n",
       "      <th>0</th>\n",
       "      <td>Alquiler de Departamento en Av Las Artes Norte...</td>\n",
       "      <td>100 m²</td>\n",
       "      <td>S/ 2,600</td>\n",
       "    </tr>\n",
       "    <tr>\n",
       "      <th>1</th>\n",
       "      <td>Dpto a 2 Cdras Pentagonito</td>\n",
       "      <td>198 m²</td>\n",
       "      <td>S/ 4,440</td>\n",
       "    </tr>\n",
       "    <tr>\n",
       "      <th>2</th>\n",
       "      <td>Exclusivo Departamento en Las Magnolias Barranco</td>\n",
       "      <td>105 m²</td>\n",
       "      <td>USD 1,000</td>\n",
       "    </tr>\n",
       "    <tr>\n",
       "      <th>3</th>\n",
       "      <td>Alquilo Dppto. Amoblado. Cochera. 2 Dorm. Mira...</td>\n",
       "      <td>95 m²</td>\n",
       "      <td>S/ 3,290</td>\n",
       "    </tr>\n",
       "    <tr>\n",
       "      <th>4</th>\n",
       "      <td>Flat en Condominio Shamrock de Monterrico.</td>\n",
       "      <td>144 m²</td>\n",
       "      <td>S/ 4,405</td>\n",
       "    </tr>\n",
       "  </tbody>\n",
       "</table>\n",
       "</div>"
      ],
      "text/plain": [
       "                                             nombres metros2     precio\n",
       "0  Alquiler de Departamento en Av Las Artes Norte...  100 m²   S/ 2,600\n",
       "1                         Dpto a 2 Cdras Pentagonito  198 m²   S/ 4,440\n",
       "2   Exclusivo Departamento en Las Magnolias Barranco  105 m²  USD 1,000\n",
       "3  Alquilo Dppto. Amoblado. Cochera. 2 Dorm. Mira...   95 m²   S/ 3,290\n",
       "4         Flat en Condominio Shamrock de Monterrico.  144 m²   S/ 4,405"
      ]
     },
     "execution_count": 46,
     "metadata": {},
     "output_type": "execute_result"
    }
   ],
   "source": [
    "df_postgreSQL.head()"
   ]
  },
  {
   "cell_type": "code",
   "execution_count": null,
   "metadata": {},
   "outputs": [
    {
     "data": {
      "text/plain": [
       "62"
      ]
     },
     "execution_count": 47,
     "metadata": {},
     "output_type": "execute_result"
    }
   ],
   "source": [
    "len(df_postgreSQL)"
   ]
  },
  {
   "cell_type": "markdown",
   "metadata": {},
   "source": [
    "**Web Scraping**"
   ]
  },
  {
   "cell_type": "code",
   "execution_count": null,
   "metadata": {},
   "outputs": [],
   "source": [
    "#ficheros contenidos en una web\n",
    "#elementos de una web\n",
    "#que requieren interacción\n",
    "#conexión mediante API"
   ]
  },
  {
   "cell_type": "markdown",
   "metadata": {},
   "source": [
    "**Conexión mediante API**"
   ]
  },
  {
   "cell_type": "markdown",
   "metadata": {},
   "source": [
    "**Twitter**"
   ]
  },
  {
   "cell_type": "code",
   "execution_count": null,
   "metadata": {},
   "outputs": [],
   "source": [
    "pip install tweepy"
   ]
  },
  {
   "cell_type": "code",
   "execution_count": null,
   "metadata": {},
   "outputs": [],
   "source": [
    "import tweepy\n",
    "from tweepy import OAuthHandler"
   ]
  },
  {
   "cell_type": "code",
   "execution_count": null,
   "metadata": {},
   "outputs": [],
   "source": [
    "consumer_key = 'eMcnfrsrAgghHJCCBdP8QStYj'\n",
    "consumer_secret = 'M2FwH7ARB8MK6hq0n8HTrVErWanAsTST0nkmw11VfvuMjn8fel'\n",
    "access_token = '587863980-j6aJNJaXotnCuYF5rBZ8myUYF8kCet61E5sgWWHC'\n",
    "access_token_secret = 'TbSQ6OVufSk0LH6iiRpSAJBwffggEOR2Ah1ToXRQghRIV'"
   ]
  },
  {
   "cell_type": "code",
   "execution_count": null,
   "metadata": {},
   "outputs": [],
   "source": [
    "oauth = tweepy.OAuthHandler(consumer_key,consumer_secret)\n",
    "oauth.set_access_token(access_token,access_token_secret)"
   ]
  },
  {
   "cell_type": "code",
   "execution_count": null,
   "metadata": {},
   "outputs": [],
   "source": [
    "api = tweepy.API(oauth,\n",
    "                parser=tweepy.parsers.JSONParser()) #formato JSON"
   ]
  },
  {
   "cell_type": "code",
   "execution_count": null,
   "metadata": {},
   "outputs": [],
   "source": [
    "tweets = api.user_timeline(screen_name=\"G_Lapadula\",\n",
    "                          count=150,\n",
    "                          include_rts=False)"
   ]
  },
  {
   "cell_type": "code",
   "execution_count": null,
   "metadata": {},
   "outputs": [
    {
     "data": {
      "text/plain": [
       "149"
      ]
     },
     "execution_count": 87,
     "metadata": {},
     "output_type": "execute_result"
    }
   ],
   "source": [
    "len(tweets)"
   ]
  },
  {
   "cell_type": "code",
   "execution_count": null,
   "metadata": {},
   "outputs": [
    {
     "data": {
      "text/plain": [
       "list"
      ]
     },
     "execution_count": 56,
     "metadata": {},
     "output_type": "execute_result"
    }
   ],
   "source": [
    "type(tweets)"
   ]
  },
  {
   "cell_type": "code",
   "execution_count": null,
   "metadata": {},
   "outputs": [
    {
     "data": {
      "text/plain": [
       "dict"
      ]
     },
     "execution_count": 58,
     "metadata": {},
     "output_type": "execute_result"
    }
   ],
   "source": [
    "type(tweets[0])"
   ]
  },
  {
   "cell_type": "code",
   "execution_count": null,
   "metadata": {},
   "outputs": [
    {
     "data": {
      "text/plain": [
       "dict_keys(['created_at', 'id', 'id_str', 'text', 'truncated', 'entities', 'source', 'in_reply_to_status_id', 'in_reply_to_status_id_str', 'in_reply_to_user_id', 'in_reply_to_user_id_str', 'in_reply_to_screen_name', 'user', 'geo', 'coordinates', 'place', 'contributors', 'is_quote_status', 'retweet_count', 'favorite_count', 'favorited', 'retweeted', 'possibly_sensitive', 'lang'])"
      ]
     },
     "execution_count": 60,
     "metadata": {},
     "output_type": "execute_result"
    }
   ],
   "source": [
    "tweets[0].keys()"
   ]
  },
  {
   "cell_type": "code",
   "execution_count": null,
   "metadata": {},
   "outputs": [
    {
     "name": "stdout",
     "output_type": "stream",
     "text": [
      "created_at\n",
      "id\n",
      "id_str\n",
      "text\n",
      "truncated\n",
      "entities\n",
      "source\n",
      "in_reply_to_status_id\n",
      "in_reply_to_status_id_str\n",
      "in_reply_to_user_id\n",
      "in_reply_to_user_id_str\n",
      "in_reply_to_screen_name\n",
      "user\n",
      "geo\n",
      "coordinates\n",
      "place\n",
      "contributors\n",
      "is_quote_status\n",
      "retweet_count\n",
      "favorite_count\n",
      "favorited\n",
      "retweeted\n",
      "possibly_sensitive\n",
      "lang\n"
     ]
    }
   ],
   "source": [
    "for keys_tweet in tweets[0].keys():\n",
    "    print(keys_tweet)"
   ]
  },
  {
   "cell_type": "code",
   "execution_count": null,
   "metadata": {},
   "outputs": [
    {
     "data": {
      "text/plain": [
       "'¡ CLASIFICAMOS! 💪🏻🇵🇪\\n¡ Sigamos asì!\\n@SeleccionPeru \\n#CopaAmerica \\n#unidossomosmásfuertes \\n#ArribaPerú https://t.co/4CNu1qrzfL'"
      ]
     },
     "execution_count": 75,
     "metadata": {},
     "output_type": "execute_result"
    }
   ],
   "source": [
    "tweets[4][\"text\"]"
   ]
  },
  {
   "cell_type": "code",
   "execution_count": null,
   "metadata": {},
   "outputs": [],
   "source": [
    "df_GLapadula=pd.DataFrame({\"contenido\":[t[\"text\"] for t in tweets],\n",
    "             \"favorite\":[t[\"favorite_count\"] for t in tweets],\n",
    "             \"Fecha de publicación\":[t[\"created_at\"] for t in tweets]})"
   ]
  },
  {
   "cell_type": "code",
   "execution_count": null,
   "metadata": {},
   "outputs": [
    {
     "data": {
      "text/html": [
       "<div>\n",
       "<style scoped>\n",
       "    .dataframe tbody tr th:only-of-type {\n",
       "        vertical-align: middle;\n",
       "    }\n",
       "\n",
       "    .dataframe tbody tr th {\n",
       "        vertical-align: top;\n",
       "    }\n",
       "\n",
       "    .dataframe thead th {\n",
       "        text-align: right;\n",
       "    }\n",
       "</style>\n",
       "<table border=\"1\" class=\"dataframe\">\n",
       "  <thead>\n",
       "    <tr style=\"text-align: right;\">\n",
       "      <th></th>\n",
       "      <th>contenido</th>\n",
       "      <th>favorite</th>\n",
       "      <th>Fecha de publicación</th>\n",
       "    </tr>\n",
       "  </thead>\n",
       "  <tbody>\n",
       "    <tr>\n",
       "      <th>0</th>\n",
       "      <td>Mi madre salió del Perú muy joven, pero el Per...</td>\n",
       "      <td>54608</td>\n",
       "      <td>Wed Jul 28 12:04:00 +0000 2021</td>\n",
       "    </tr>\n",
       "    <tr>\n",
       "      <th>1</th>\n",
       "      <td>🇵🇪 https://t.co/ZFK25W57nM</td>\n",
       "      <td>24670</td>\n",
       "      <td>Thu Jul 15 19:04:02 +0000 2021</td>\n",
       "    </tr>\n",
       "    <tr>\n",
       "      <th>2</th>\n",
       "      <td>Volveremos más fuertes. \\nSiempre unidos y sie...</td>\n",
       "      <td>26897</td>\n",
       "      <td>Sat Jul 10 08:05:16 +0000 2021</td>\n",
       "    </tr>\n",
       "    <tr>\n",
       "      <th>3</th>\n",
       "      <td>Me siento muy orgulloso de ser parte de esta s...</td>\n",
       "      <td>45352</td>\n",
       "      <td>Tue Jul 06 13:10:12 +0000 2021</td>\n",
       "    </tr>\n",
       "    <tr>\n",
       "      <th>4</th>\n",
       "      <td>¡ CLASIFICAMOS! 💪🏻🇵🇪\\n¡ Sigamos asì!\\n@Selecci...</td>\n",
       "      <td>17534</td>\n",
       "      <td>Mon Jun 28 12:22:24 +0000 2021</td>\n",
       "    </tr>\n",
       "  </tbody>\n",
       "</table>\n",
       "</div>"
      ],
      "text/plain": [
       "                                           contenido  favorite  \\\n",
       "0  Mi madre salió del Perú muy joven, pero el Per...     54608   \n",
       "1                         🇵🇪 https://t.co/ZFK25W57nM     24670   \n",
       "2  Volveremos más fuertes. \\nSiempre unidos y sie...     26897   \n",
       "3  Me siento muy orgulloso de ser parte de esta s...     45352   \n",
       "4  ¡ CLASIFICAMOS! 💪🏻🇵🇪\\n¡ Sigamos asì!\\n@Selecci...     17534   \n",
       "\n",
       "             Fecha de publicación  \n",
       "0  Wed Jul 28 12:04:00 +0000 2021  \n",
       "1  Thu Jul 15 19:04:02 +0000 2021  \n",
       "2  Sat Jul 10 08:05:16 +0000 2021  \n",
       "3  Tue Jul 06 13:10:12 +0000 2021  \n",
       "4  Mon Jun 28 12:22:24 +0000 2021  "
      ]
     },
     "execution_count": 85,
     "metadata": {},
     "output_type": "execute_result"
    }
   ],
   "source": [
    "df_GLapadula.head()"
   ]
  },
  {
   "cell_type": "markdown",
   "metadata": {},
   "source": [
    "**Facebook**"
   ]
  },
  {
   "cell_type": "code",
   "execution_count": null,
   "metadata": {},
   "outputs": [],
   "source": [
    "pip install facebook-sdk"
   ]
  },
  {
   "cell_type": "code",
   "execution_count": null,
   "metadata": {},
   "outputs": [],
   "source": [
    "import facebook\n",
    "import pandas as pd"
   ]
  },
  {
   "cell_type": "code",
   "execution_count": null,
   "metadata": {},
   "outputs": [],
   "source": [
    "token_dec = 'EAAHr6rMZAZC3gBAOPpLHCJNOQHoa4DwVQVscQ804c1k4XlbC9axHiP5AXKDW83fLQK1YX44ttQX3BxmsOV15o19kXqSDsWm7jkIZBZC4b29CvZBxRY4QQim9Roydgh69ARWQY6gwZAKXDsOGRYgvBsWhZAn1ijcpSrPtPays2jWJn1ZB7J7gofNXZCj08ODpiB6Ir56Jpe8cJKH9EG93iOwSJ'\n",
    "version_api = '3.1' \n",
    "page_id = '522721131191656'\n",
    "page_name = 'SDC Learning'\n",
    "graph=facebook.GraphAPI(access_token=token_dec, \n",
    "                        version=version_api)\n",
    "\n",
    "\n",
    "posts = graph.get_connections(page_id,\n",
    "                              'posts',\n",
    "                              limit='99',\n",
    "                              since='2019-07-01',\n",
    "                              until='2019-08-15',\n",
    "                              fields='message,caption,story,created_time,id.as(post_id),description,type,icon,link,permalink_url,picture,full_picture,shares,source,reactions.type(LIKE).limit(0).summary(total_count).as(like),reactions.type(WOW).limit(0).summary(total_count).as(wow),reactions.type(SAD).limit(0).summary(total_count).as(sad),reactions.type(ANGRY).limit(0).summary(total_count).as(angry),reactions.type(LOVE).limit(0).summary(total_count).as(love),reactions.type(HAHA).limit(0).summary(total_count).as(haha),comments.limit(0).summary(total_count)')\n",
    "posts = posts['data']\n",
    "post_bench=pd.DataFrame(posts, \n",
    "                        columns=['message','created_time','post_id','type','icon','link','permalink_url','picture','full_picture','shares','like','wow','sad','angry','love','haha','comments'])"
   ]
  },
  {
   "cell_type": "markdown",
   "metadata": {},
   "source": [
    "**Web Scraping**"
   ]
  },
  {
   "cell_type": "code",
   "execution_count": null,
   "metadata": {},
   "outputs": [],
   "source": [
    "import requests\n",
    "import pandas as pd\n",
    "import bs4\n",
    "from bs4 import BeautifulSoup"
   ]
  },
  {
   "cell_type": "code",
   "execution_count": null,
   "metadata": {},
   "outputs": [],
   "source": [
    "pip install bs4"
   ]
  },
  {
   "cell_type": "code",
   "execution_count": null,
   "metadata": {},
   "outputs": [],
   "source": []
  }
 ],
 "metadata": {
  "kernelspec": {
   "display_name": "Python 3.9.12 ('base')",
   "language": "python",
   "name": "python3"
  },
  "language_info": {
   "codemirror_mode": {
    "name": "ipython",
    "version": 3
   },
   "file_extension": ".py",
   "mimetype": "text/x-python",
   "name": "python",
   "nbconvert_exporter": "python",
   "pygments_lexer": "ipython3",
   "version": "3.9.12"
  },
  "vscode": {
   "interpreter": {
    "hash": "8c4c8510ef8ebf92c71b12674dd4c6e46a22be7143d6d92cf0443214191cf3c1"
   }
  }
 },
 "nbformat": 4,
 "nbformat_minor": 4
}
