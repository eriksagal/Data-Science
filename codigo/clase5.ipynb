{
 "cells": [
  {
   "cell_type": "markdown",
   "metadata": {},
   "source": [
    "Analisis exploratorio de Datos "
   ]
  },
  {
   "cell_type": "code",
   "execution_count": 1,
   "metadata": {},
   "outputs": [],
   "source": [
    "import pandas as pd\n",
    "import numpy as np\n",
    "import matplotlib.pyplot as plt\n",
    "import seaborn as sns\n",
    "import os"
   ]
  },
  {
   "cell_type": "code",
   "execution_count": 2,
   "metadata": {},
   "outputs": [],
   "source": [
    "os.chdir('/home/erik/Documentos/cursos/Data-Science/Data')"
   ]
  },
  {
   "cell_type": "code",
   "execution_count": 3,
   "metadata": {},
   "outputs": [
    {
     "data": {
      "text/plain": [
       "b'/home/erik/Documentos/cursos/Data-Science/Data'"
      ]
     },
     "execution_count": 3,
     "metadata": {},
     "output_type": "execute_result"
    }
   ],
   "source": [
    "os.getcwdb()"
   ]
  },
  {
   "cell_type": "code",
   "execution_count": 4,
   "metadata": {},
   "outputs": [],
   "source": [
    "mark = pd.read_csv(\"MarketingDirecto.csv\",\n",
    "                    sep=\",\")"
   ]
  },
  {
   "cell_type": "code",
   "execution_count": 5,
   "metadata": {},
   "outputs": [
    {
     "name": "stdout",
     "output_type": "stream",
     "text": [
      "<class 'pandas.core.frame.DataFrame'>\n",
      "RangeIndex: 1000 entries, 0 to 999\n",
      "Data columns (total 10 columns):\n",
      " #   Column     Non-Null Count  Dtype \n",
      "---  ------     --------------  ----- \n",
      " 0   Edad       1000 non-null   object\n",
      " 1   Genero     1000 non-null   object\n",
      " 2   Vivienda   1000 non-null   object\n",
      " 3   Ecivil     1000 non-null   object\n",
      " 4   Ubicacion  1000 non-null   object\n",
      " 5   Salario    1000 non-null   int64 \n",
      " 6   Hijos      1000 non-null   int64 \n",
      " 7   Historial  697 non-null    object\n",
      " 8   Catalogos  1000 non-null   int64 \n",
      " 9   Monto      1000 non-null   int64 \n",
      "dtypes: int64(4), object(6)\n",
      "memory usage: 78.2+ KB\n"
     ]
    }
   ],
   "source": [
    "mark.info()"
   ]
  },
  {
   "cell_type": "code",
   "execution_count": 6,
   "metadata": {},
   "outputs": [
    {
     "data": {
      "text/plain": [
       "Edad          0.0\n",
       "Genero        0.0\n",
       "Vivienda      0.0\n",
       "Ecivil        0.0\n",
       "Ubicacion     0.0\n",
       "Salario       0.0\n",
       "Hijos         0.0\n",
       "Historial    30.3\n",
       "Catalogos     0.0\n",
       "Monto         0.0\n",
       "dtype: float64"
      ]
     },
     "execution_count": 6,
     "metadata": {},
     "output_type": "execute_result"
    }
   ],
   "source": [
    "#Dimensiones de la calidad de datos\n",
    "#Complitud de los datos\n",
    "#no existen valores faltantes\n",
    "mark.isnull().sum()/len(mark)*100"
   ]
  },
  {
   "cell_type": "code",
   "execution_count": 7,
   "metadata": {},
   "outputs": [],
   "source": [
    "#cualitativa: moda, modelo de clasificacion(inputacion supervisada), vecindad\n",
    "\n",
    "#cuantitativas: media, modelo de regresion(inputacion supervisada), vecindad"
   ]
  },
  {
   "cell_type": "code",
   "execution_count": 8,
   "metadata": {},
   "outputs": [],
   "source": [
    "import missingno as msno"
   ]
  },
  {
   "cell_type": "code",
   "execution_count": 9,
   "metadata": {},
   "outputs": [
    {
     "data": {
      "text/plain": [
       "0    Alto\n",
       "Name: Historial, dtype: object"
      ]
     },
     "execution_count": 9,
     "metadata": {},
     "output_type": "execute_result"
    }
   ],
   "source": [
    "mark[\"Historial\"].mode()"
   ]
  },
  {
   "cell_type": "markdown",
   "metadata": {},
   "source": [
    "Variables cualitativas"
   ]
  },
  {
   "cell_type": "code",
   "execution_count": 10,
   "metadata": {},
   "outputs": [],
   "source": [
    "mark[\"Historial\"] = mark[\"Historial\"].fillna((\"Alto\"))#inputa por la moda\n",
    "#fillna() filtra los valores de NA"
   ]
  },
  {
   "cell_type": "code",
   "execution_count": 11,
   "metadata": {},
   "outputs": [
    {
     "name": "stdout",
     "output_type": "stream",
     "text": [
      "<class 'pandas.core.frame.DataFrame'>\n",
      "RangeIndex: 1000 entries, 0 to 999\n",
      "Data columns (total 10 columns):\n",
      " #   Column     Non-Null Count  Dtype \n",
      "---  ------     --------------  ----- \n",
      " 0   Edad       1000 non-null   object\n",
      " 1   Genero     1000 non-null   object\n",
      " 2   Vivienda   1000 non-null   object\n",
      " 3   Ecivil     1000 non-null   object\n",
      " 4   Ubicacion  1000 non-null   object\n",
      " 5   Salario    1000 non-null   int64 \n",
      " 6   Hijos      1000 non-null   int64 \n",
      " 7   Historial  1000 non-null   object\n",
      " 8   Catalogos  1000 non-null   int64 \n",
      " 9   Monto      1000 non-null   int64 \n",
      "dtypes: int64(4), object(6)\n",
      "memory usage: 78.2+ KB\n"
     ]
    }
   ],
   "source": [
    "mark.info()"
   ]
  },
  {
   "cell_type": "code",
   "execution_count": 12,
   "metadata": {},
   "outputs": [
    {
     "data": {
      "text/plain": [
       "Edad         0.0\n",
       "Genero       0.0\n",
       "Vivienda     0.0\n",
       "Ecivil       0.0\n",
       "Ubicacion    0.0\n",
       "Salario      0.0\n",
       "Hijos        0.0\n",
       "Historial    0.0\n",
       "Catalogos    0.0\n",
       "Monto        0.0\n",
       "dtype: float64"
      ]
     },
     "execution_count": 12,
     "metadata": {},
     "output_type": "execute_result"
    }
   ],
   "source": [
    "mark.isnull().sum()/len(mark)*100"
   ]
  },
  {
   "cell_type": "code",
   "execution_count": 13,
   "metadata": {},
   "outputs": [],
   "source": [
    "estado_civil = (mark.groupby(\"Ecivil\").Ecivil.count()/len(mark))*100"
   ]
  },
  {
   "cell_type": "code",
   "execution_count": 14,
   "metadata": {},
   "outputs": [
    {
     "data": {
      "text/plain": [
       "2"
      ]
     },
     "execution_count": 14,
     "metadata": {},
     "output_type": "execute_result"
    }
   ],
   "source": [
    "len(estado_civil)"
   ]
  },
  {
   "cell_type": "code",
   "execution_count": 15,
   "metadata": {},
   "outputs": [],
   "source": [
    "etiqueta = [str(estado_civil[x])+\"%\" for x in range(0,len(estado_civil))]"
   ]
  },
  {
   "cell_type": "code",
   "execution_count": 16,
   "metadata": {},
   "outputs": [],
   "source": [
    "etiqueta[0]= \"Casado\"+etiqueta[0]\n",
    "etiqueta[1] = \"SOltero\"+ etiqueta[1]"
   ]
  },
  {
   "cell_type": "code",
   "execution_count": 17,
   "metadata": {},
   "outputs": [
    {
     "name": "stdout",
     "output_type": "stream",
     "text": [
      "['Casado50.2%', 'SOltero49.8%']\n"
     ]
    }
   ],
   "source": [
    "print(etiqueta)"
   ]
  },
  {
   "cell_type": "code",
   "execution_count": 18,
   "metadata": {},
   "outputs": [
    {
     "data": {
      "image/png": "[encoded data removed]",
      "text/plain": [
       "<Figure size 432x288 with 1 Axes>"
      ]
     },
     "metadata": {},
     "output_type": "display_data"
    }
   ],
   "source": [
    "plt.pie(estado_civil,\n",
    "        labels=etiqueta)\n",
    "plt.title(\"Grafica de sectores de la variables Ecivil\")\n",
    "plt.show()"
   ]
  },
  {
   "cell_type": "code",
   "execution_count": 19,
   "metadata": {},
   "outputs": [],
   "source": [
    "edad_mark = (mark.groupby(\"Edad\").Edad.count()/len(mark))*100"
   ]
  },
  {
   "cell_type": "code",
   "execution_count": 20,
   "metadata": {},
   "outputs": [
    {
     "data": {
      "text/plain": [
       "Edad\n",
       "Adulta    20.5\n",
       "Joven     28.7\n",
       "Media     50.8\n",
       "Name: Edad, dtype: float64"
      ]
     },
     "execution_count": 20,
     "metadata": {},
     "output_type": "execute_result"
    }
   ],
   "source": [
    "edad_mark"
   ]
  },
  {
   "cell_type": "code",
   "execution_count": 21,
   "metadata": {},
   "outputs": [
    {
     "name": "stdout",
     "output_type": "stream",
     "text": [
      "<class 'pandas.core.series.Series'>\n",
      "Index: 3 entries, Adulta to Media\n",
      "Series name: Edad\n",
      "Non-Null Count  Dtype  \n",
      "--------------  -----  \n",
      "3 non-null      float64\n",
      "dtypes: float64(1)\n",
      "memory usage: 156.0+ bytes\n"
     ]
    }
   ],
   "source": [
    "edad_mark.info()"
   ]
  },
  {
   "cell_type": "code",
   "execution_count": 22,
   "metadata": {},
   "outputs": [
    {
     "data": {
      "image/png": "[encoded data removed]",
      "text/plain": [
       "<Figure size 432x288 with 1 Axes>"
      ]
     },
     "metadata": {
      "needs_background": "light"
     },
     "output_type": "display_data"
    }
   ],
   "source": [
    "edad_mark.sort_values(ascending=False).plot(kind = \"bar\",\n",
    "                                            title=\"grafico de barras\",\n",
    "                                            rot = 45,\n",
    "                                            color = [\"blue\",\"red\",\"green\"])\n",
    "\n",
    "plt.show()"
   ]
  },
  {
   "cell_type": "markdown",
   "metadata": {},
   "source": [
    "Variables cuantitativas"
   ]
  },
  {
   "cell_type": "code",
   "execution_count": 23,
   "metadata": {},
   "outputs": [
    {
     "data": {
      "image/png": "[encoded data removed]",
      "text/plain": [
       "<Figure size 432x288 with 1 Axes>"
      ]
     },
     "metadata": {
      "needs_background": "light"
     },
     "output_type": "display_data"
    }
   ],
   "source": [
    "sns.boxplot(x = list(mark[\"Salario\"]) )\n",
    "plt.show()"
   ]
  },
  {
   "cell_type": "code",
   "execution_count": 24,
   "metadata": {},
   "outputs": [
    {
     "data": {
      "text/plain": [
       "<AxesSubplot:>"
      ]
     },
     "execution_count": 24,
     "metadata": {},
     "output_type": "execute_result"
    },
    {
     "data": {
      "image/png": "[encoded data removed]",
      "text/plain": [
       "<Figure size 432x288 with 1 Axes>"
      ]
     },
     "metadata": {
      "needs_background": "light"
     },
     "output_type": "display_data"
    }
   ],
   "source": [
    "mark[\"Salario\"].hist()"
   ]
  },
  {
   "cell_type": "code",
   "execution_count": 25,
   "metadata": {},
   "outputs": [
    {
     "data": {
      "text/plain": [
       "53700.0"
      ]
     },
     "execution_count": 25,
     "metadata": {},
     "output_type": "execute_result"
    }
   ],
   "source": [
    "mark.Salario.quantile(0.5)"
   ]
  },
  {
   "cell_type": "code",
   "execution_count": 26,
   "metadata": {},
   "outputs": [
    {
     "data": {
      "text/plain": [
       "23725.0"
      ]
     },
     "execution_count": 26,
     "metadata": {},
     "output_type": "execute_result"
    }
   ],
   "source": [
    "mark[\"Salario\"].quantile(0.5)-mark[\"Salario\"].quantile(0.25)"
   ]
  },
  {
   "cell_type": "code",
   "execution_count": 27,
   "metadata": {},
   "outputs": [
    {
     "data": {
      "text/plain": [
       "23325.0"
      ]
     },
     "execution_count": 27,
     "metadata": {},
     "output_type": "execute_result"
    }
   ],
   "source": [
    "mark[\"Salario\"].quantile(0.75)-mark[\"Salario\"].quantile(0.5)"
   ]
  },
  {
   "cell_type": "code",
   "execution_count": 28,
   "metadata": {},
   "outputs": [
    {
     "data": {
      "image/png": "[encoded data removed]",
      "text/plain": [
       "<Figure size 432x288 with 1 Axes>"
      ]
     },
     "metadata": {
      "needs_background": "light"
     },
     "output_type": "display_data"
    }
   ],
   "source": [
    "sns.boxplot(x=\"Genero\",y=\"Salario\",data=mark)\n",
    "plt.show()"
   ]
  },
  {
   "cell_type": "code",
   "execution_count": 29,
   "metadata": {},
   "outputs": [
    {
     "data": {
      "text/plain": [
       "Salario    64202.42915\n",
       "dtype: float64"
      ]
     },
     "execution_count": 29,
     "metadata": {},
     "output_type": "execute_result"
    }
   ],
   "source": [
    "mark[mark.Genero == \"Masculino\"][[\"Salario\"]].mean()#media de salario masculino"
   ]
  },
  {
   "cell_type": "code",
   "execution_count": 30,
   "metadata": {},
   "outputs": [
    {
     "data": {
      "text/plain": [
       "Salario    48197.43083\n",
       "dtype: float64"
      ]
     },
     "execution_count": 30,
     "metadata": {},
     "output_type": "execute_result"
    }
   ],
   "source": [
    "mark[mark.Genero == \"Femenino\"][[\"Salario\"]].mean()#media del salario femenino"
   ]
  },
  {
   "cell_type": "code",
   "execution_count": 31,
   "metadata": {},
   "outputs": [],
   "source": [
    "from statistics import median"
   ]
  },
  {
   "cell_type": "code",
   "execution_count": 32,
   "metadata": {},
   "outputs": [
    {
     "data": {
      "text/plain": [
       "62800.0"
      ]
     },
     "execution_count": 32,
     "metadata": {},
     "output_type": "execute_result"
    }
   ],
   "source": [
    "median(mark[mark.Genero == \"Masculino\"][\"Salario\"])"
   ]
  },
  {
   "cell_type": "code",
   "execution_count": 33,
   "metadata": {},
   "outputs": [
    {
     "data": {
      "text/plain": [
       "42650.0"
      ]
     },
     "execution_count": 33,
     "metadata": {},
     "output_type": "execute_result"
    }
   ],
   "source": [
    "median(mark[mark.Genero == \"Femenino\"][\"Salario\"])"
   ]
  },
  {
   "cell_type": "code",
   "execution_count": 34,
   "metadata": {},
   "outputs": [
    {
     "data": {
      "image/png": "[encoded data removed]",
      "text/plain": [
       "<Figure size 432x288 with 1 Axes>"
      ]
     },
     "metadata": {
      "needs_background": "light"
     },
     "output_type": "display_data"
    }
   ],
   "source": [
    "mark.plot.scatter(x = \"Salario\",y=\"Monto\")\n",
    "plt.show()\n",
    "#la grafica de dispercion nos permite conocer la relacion de 2 variables"
   ]
  },
  {
   "cell_type": "code",
   "execution_count": 35,
   "metadata": {},
   "outputs": [
    {
     "data": {
      "image/png": "[encoded data removed]",
      "text/plain": [
       "<Figure size 576x576 with 6 Axes>"
      ]
     },
     "metadata": {
      "needs_background": "light"
     },
     "output_type": "display_data"
    }
   ],
   "source": [
    "sns.pairplot(mark[[\"Salario\",\"Monto\"]], height=4)\n",
    "plt.show()"
   ]
  },
  {
   "cell_type": "code",
   "execution_count": 36,
   "metadata": {},
   "outputs": [
    {
     "data": {
      "text/plain": [
       "array([ 755, 1318,  296, 2436, 1304,  495,  782, 1155,  158, 3034,  927,\n",
       "       2065,  704, 2136, 5564, 2766, 3010, 1956,  542,  410,  194,  827,\n",
       "       2328,  808,  521,  655,  707, 2075,  769,  774,  573, 2082, 2446,\n",
       "       2636, 2226,  183, 1595,  584,  982,  576,  410, 3082, 2437, 3655,\n",
       "        844, 2510,  983, 1215, 2000, 2574, 1116, 3604, 3360,  530,  906,\n",
       "       2764, 1263, 1084, 1051,  614,  704,  449,  136,  468,  565, 1310,\n",
       "       2595,  358, 1424, 4182,  468, 2924,  964,  615,   38, 1006,  307,\n",
       "       1648,  220,  280, 1647,  704,  920,  258, 1821, 1587,  528,  867,\n",
       "        643,  107, 1513, 4558,  741,  805,  470,  278, 1093,  470, 1856,\n",
       "       1688,  708, 1753, 3044,  855,  550, 2265, 2452, 1184, 2150, 1575,\n",
       "       1822, 1153, 1877,  450,  873,  209, 1472, 1702, 1857,  451,  344,\n",
       "       1492, 2098, 3505,  127,  436, 2524,  189,  607,  202, 1554,  633,\n",
       "        176, 3079, 2038, 1203,  326,  235, 3688,  332,  143, 3104, 2339,\n",
       "        123,  879,  498, 3596, 2925, 1081,  312, 1297,  218, 4279, 1642,\n",
       "        581,  223,  474, 1790,  143, 3237, 2316,  458,  646, 1217,  238,\n",
       "       1293, 2749, 2408, 2624, 4894,  621,  701,  780, 1365, 2693, 1582,\n",
       "        724,  830, 1594, 1826,  473, 1161,  703, 1892,  489, 1813, 1457,\n",
       "        292,  613, 2681,  437,  708, 1093,  213,  202, 1298, 3273, 1790,\n",
       "        247,  183, 3491, 1985, 1721, 2104,  252,  202,  962,  459,  848,\n",
       "        161, 1857, 1699,  308,  500, 1162, 2551, 5830,  381,  856, 1720,\n",
       "        759, 3305, 1257, 1583, 1102,  186,  229, 2599,  774,  638,  378,\n",
       "       1552,  979, 2479,  450, 2763, 1560, 1037,  690,  770,  643, 1512,\n",
       "       1485,  570, 1165, 1926, 2243,  342, 1654,  363,  222,  677,  482,\n",
       "        385, 1443, 1789,  991,  536, 2183,  494,  503,   87,  917, 1976,\n",
       "        316, 1634, 2035, 3293,  143,  635,  979, 1838,  264,  719, 1308,\n",
       "       3378,  400,  847,  357, 1276, 2492, 1512,  870,  938, 1584, 1148,\n",
       "       2840,  827,  428,  183,  818,  731, 2163, 1081, 1085, 1212, 1422,\n",
       "       2238, 1615,  713,  607,  735,  139, 1357,  858,  408, 1553, 2070,\n",
       "        922, 2502,  426, 2321,  862, 2555, 1186, 2842,  886, 1420,  821,\n",
       "        242,  472, 1231,  881,  435,  108,  576, 1314,  296,  584, 1156,\n",
       "       2464,  915, 2091, 1690, 1274, 1012,  950,  333,  679,  607, 3398,\n",
       "        859, 2444, 1078, 2537,  616,  508,  297, 1583,   79,  657, 2149,\n",
       "       3632, 2230,  448,  301, 1968,  490, 3063,  193,  544, 2666, 1846,\n",
       "       1255, 1081,  199, 3916,  357,  983, 1194, 2224,   90,  587, 1088,\n",
       "        617, 1227,  662,  622, 1477,  236, 1830, 1583,  610,  193, 1052,\n",
       "        307, 3671, 2206,  748, 1481, 1607,  632,  303,  264, 1575,  881,\n",
       "       1439,  452,   93,  292, 1426,  330, 3120, 5151, 3941, 2141,  106,\n",
       "        530,  500, 2837, 1246,  798, 1544, 2644,  192,  865, 1159, 1480,\n",
       "       1426, 3048,  276, 1910,  157,  236,  576,  794, 1474,  250,  788,\n",
       "       1694, 1985, 1252,  827,  314,  880,  466,  210,  902, 1274, 1631,\n",
       "       1220,  801, 1090, 1699,  273,  523, 1437, 1888,  476, 2632,  326,\n",
       "        446, 1071, 1699,  966,  567, 1658,  173, 3344, 1029,  345,  712,\n",
       "       1841,  409, 2710,  592, 2101, 1473,  715, 2233,  921,  216, 1781,\n",
       "        418,  268, 1252,  140,  992, 1388,  233, 2304, 2177, 1127,  721,\n",
       "        438,  393, 1666, 2448, 2563, 1763,  184,  166, 1014, 1140, 1021,\n",
       "       1431, 5878,  321, 1974, 1640, 1175,  364,  417, 1060, 2176,  200,\n",
       "        513,  857,  224,  371,  687,  809, 2090, 1479,  534, 1172,  968,\n",
       "        753,  242,  515, 2119,  491,  286, 3069,  281, 1608,  736,  170,\n",
       "        245, 3052, 1786,   47, 1645,  274, 1001, 1944, 2585,  260, 1414,\n",
       "        341,  268, 1237,  589,  368,  940,  232,  678,  324,  147,  694,\n",
       "        526,  586,  491, 1436, 1280, 2107,  860, 1624,  230,  164,  157,\n",
       "         62,  223,  438, 2705,  371,  201, 1213,  586, 2693, 1404, 2784,\n",
       "        275,  794,  964, 1598, 2838,  619,  392, 1850, 1506, 3126, 1325,\n",
       "       1541, 2491, 1177, 1487,  322,  647, 1322, 1534,  583, 1705,  191,\n",
       "        239,  568,  571,  919, 1398, 1025,  909,  209,  245, 2362, 3380,\n",
       "        424, 1272, 1909,  340, 1355,  472,  303, 1079,  981,  160,  613,\n",
       "        662,  177,  785,  349,  213, 1578,  258,  192,  289, 1821,  905,\n",
       "        188, 1405, 2381,  184, 1364,  414,  387,  504,  574,  984, 5209,\n",
       "        422, 1594, 1087,  163,  427,  624,  788,  414, 3001,  863, 1517,\n",
       "        836, 1152, 1408, 1082, 1162,  358,  304,  360, 1162,  348,  206,\n",
       "        114,  932,  446, 2466,  576,  428, 2247,  716, 1017,  613,  580,\n",
       "        841,  737, 1162,  895,  205, 2340,  630,  407, 2122,  227, 1149,\n",
       "        669, 2935, 1444, 1384, 1557,  802, 1611, 2047, 1175, 1011, 1062,\n",
       "        271, 2690,  918, 2438, 1307, 1185,  180, 1198, 1001, 1355,  989,\n",
       "       1803, 2840, 1909,  247,  814,  216,  365,  163,  933,  654,  153,\n",
       "       1668, 1009, 1659, 1905,  521,  826, 2610, 1194, 1181,  362,  768,\n",
       "        381, 1811, 1218, 1413, 1748,  639, 1582,  376, 1757,  105, 2631,\n",
       "        486,  412,  716,  653,  224,  705, 4984,  197, 2450, 2561,  563,\n",
       "        546, 3384,  416,  685, 1931,  573, 1553,  362,  907,  445, 1342,\n",
       "        457, 1598, 1861, 4109, 3278,  421,  275, 1475, 1779, 1634, 1500,\n",
       "       1348,  962,  328,  747, 1713, 1006, 2523, 2458,  742, 1639,  843,\n",
       "        886, 2746,  550, 2098,  954, 1041,  535, 1369, 2545,  329, 1351,\n",
       "        582,  578,  195,  777, 1133, 1566, 1651, 3168,  699, 2034, 1457,\n",
       "        395,  541, 2844,  225,  210,   43,  243, 1120,  975, 2904,  927,\n",
       "       3167,  241,   65,  858, 2191, 1946, 2581,  172,  824,  556,  167,\n",
       "       2104, 1332,  829,  229, 3442, 1893,  690,  486, 2290,  934,  517,\n",
       "       2216, 1521, 1523, 1364,  952,  871,  295,  642,  317, 1078,  961,\n",
       "       1241, 1999,  571,  329, 1984, 1061, 1955,  580,  883, 1195, 2318,\n",
       "        640, 2644, 1320,  502, 2419,  661, 2723, 1588,  581, 1432,  929,\n",
       "        212, 2546, 1344,  947, 2145,  757,  451, 2975,  406,  158,  534,\n",
       "        401, 1753,  659,  726, 1166, 1197,  411, 2258, 1913,  893,  421,\n",
       "       1138, 1804, 1418, 1104, 2796, 1403, 3230, 1352, 2004,  403, 3995,\n",
       "        390,  770,  963,  833,  869,  926, 3780, 1023,  791, 1473, 1597,\n",
       "       1150,  304, 1693,  269, 1430, 2729, 1760, 1271,  356, 1024,  524,\n",
       "       1211,  636,  645,  472, 1512, 1634,  182, 1042, 1714,  966,  829,\n",
       "        680,  636,  182, 1773, 2902,  348,  548, 2034, 2296,  395,  850,\n",
       "        512, 1622,  865,  673,  422,  529, 1932, 1853, 1224,  666, 1685,\n",
       "       1476,  319,  232, 1543,  506,  172, 1001,  606,  591, 1389, 2177,\n",
       "       2279, 2702,  510, 1047,  538, 1546,  754, 1504, 1849, 3072, 1046,\n",
       "       1800,  700,  514,  320, 1692, 2057, 2299, 1507, 6217,  405, 3785,\n",
       "       3537,  540,  941, 5503,  273,  384, 1073, 1417,  671,  973])"
      ]
     },
     "execution_count": 36,
     "metadata": {},
     "output_type": "execute_result"
    }
   ],
   "source": [
    "mark.iloc[0:,9].values"
   ]
  },
  {
   "cell_type": "code",
   "execution_count": 37,
   "metadata": {},
   "outputs": [
    {
     "data": {
      "text/plain": [
       "numpy.ndarray"
      ]
     },
     "execution_count": 37,
     "metadata": {},
     "output_type": "execute_result"
    }
   ],
   "source": [
    "type(mark.iloc[0:,9].values)#tipo de dato arreglo de numpy"
   ]
  },
  {
   "cell_type": "code",
   "execution_count": 38,
   "metadata": {},
   "outputs": [
    {
     "data": {
      "text/html": [
       "<div>\n",
       "<style scoped>\n",
       "    .dataframe tbody tr th:only-of-type {\n",
       "        vertical-align: middle;\n",
       "    }\n",
       "\n",
       "    .dataframe tbody tr th {\n",
       "        vertical-align: top;\n",
       "    }\n",
       "\n",
       "    .dataframe thead th {\n",
       "        text-align: right;\n",
       "    }\n",
       "</style>\n",
       "<table border=\"1\" class=\"dataframe\">\n",
       "  <thead>\n",
       "    <tr style=\"text-align: right;\">\n",
       "      <th></th>\n",
       "      <th>Salario</th>\n",
       "    </tr>\n",
       "  </thead>\n",
       "  <tbody>\n",
       "    <tr>\n",
       "      <th>1</th>\n",
       "      <td>63600</td>\n",
       "    </tr>\n",
       "    <tr>\n",
       "      <th>3</th>\n",
       "      <td>85600</td>\n",
       "    </tr>\n",
       "    <tr>\n",
       "      <th>5</th>\n",
       "      <td>30400</td>\n",
       "    </tr>\n",
       "    <tr>\n",
       "      <th>7</th>\n",
       "      <td>68400</td>\n",
       "    </tr>\n",
       "    <tr>\n",
       "      <th>9</th>\n",
       "      <td>80700</td>\n",
       "    </tr>\n",
       "    <tr>\n",
       "      <th>...</th>\n",
       "      <td>...</td>\n",
       "    </tr>\n",
       "    <tr>\n",
       "      <th>994</th>\n",
       "      <td>17600</td>\n",
       "    </tr>\n",
       "    <tr>\n",
       "      <th>996</th>\n",
       "      <td>40500</td>\n",
       "    </tr>\n",
       "    <tr>\n",
       "      <th>997</th>\n",
       "      <td>44800</td>\n",
       "    </tr>\n",
       "    <tr>\n",
       "      <th>998</th>\n",
       "      <td>79000</td>\n",
       "    </tr>\n",
       "    <tr>\n",
       "      <th>999</th>\n",
       "      <td>53600</td>\n",
       "    </tr>\n",
       "  </tbody>\n",
       "</table>\n",
       "<p>494 rows × 1 columns</p>\n",
       "</div>"
      ],
      "text/plain": [
       "     Salario\n",
       "1      63600\n",
       "3      85600\n",
       "5      30400\n",
       "7      68400\n",
       "9      80700\n",
       "..       ...\n",
       "994    17600\n",
       "996    40500\n",
       "997    44800\n",
       "998    79000\n",
       "999    53600\n",
       "\n",
       "[494 rows x 1 columns]"
      ]
     },
     "execution_count": 38,
     "metadata": {},
     "output_type": "execute_result"
    }
   ],
   "source": [
    "mark[mark.Genero == \"Masculino\"][[\"Salario\"]]#tipo de dato dataframe   "
   ]
  },
  {
   "cell_type": "code",
   "execution_count": 39,
   "metadata": {},
   "outputs": [
    {
     "data": {
      "text/html": [
       "<div>\n",
       "<style scoped>\n",
       "    .dataframe tbody tr th:only-of-type {\n",
       "        vertical-align: middle;\n",
       "    }\n",
       "\n",
       "    .dataframe tbody tr th {\n",
       "        vertical-align: top;\n",
       "    }\n",
       "\n",
       "    .dataframe thead th {\n",
       "        text-align: right;\n",
       "    }\n",
       "</style>\n",
       "<table border=\"1\" class=\"dataframe\">\n",
       "  <thead>\n",
       "    <tr style=\"text-align: right;\">\n",
       "      <th></th>\n",
       "      <th>Edad</th>\n",
       "      <th>Genero</th>\n",
       "      <th>Vivienda</th>\n",
       "      <th>Ecivil</th>\n",
       "      <th>Ubicacion</th>\n",
       "      <th>Salario</th>\n",
       "      <th>Hijos</th>\n",
       "      <th>Historial</th>\n",
       "      <th>Catalogos</th>\n",
       "      <th>Monto</th>\n",
       "    </tr>\n",
       "  </thead>\n",
       "  <tbody>\n",
       "    <tr>\n",
       "      <th>0</th>\n",
       "      <td>Adulta</td>\n",
       "      <td>Femenino</td>\n",
       "      <td>Propia</td>\n",
       "      <td>Soltero</td>\n",
       "      <td>Lejos</td>\n",
       "      <td>47500</td>\n",
       "      <td>0</td>\n",
       "      <td>Alto</td>\n",
       "      <td>6</td>\n",
       "      <td>755</td>\n",
       "    </tr>\n",
       "    <tr>\n",
       "      <th>1</th>\n",
       "      <td>Media</td>\n",
       "      <td>Masculino</td>\n",
       "      <td>Alquilada</td>\n",
       "      <td>Soltero</td>\n",
       "      <td>Cerca</td>\n",
       "      <td>63600</td>\n",
       "      <td>0</td>\n",
       "      <td>Alto</td>\n",
       "      <td>6</td>\n",
       "      <td>1318</td>\n",
       "    </tr>\n",
       "    <tr>\n",
       "      <th>2</th>\n",
       "      <td>Joven</td>\n",
       "      <td>Femenino</td>\n",
       "      <td>Alquilada</td>\n",
       "      <td>Soltero</td>\n",
       "      <td>Cerca</td>\n",
       "      <td>13500</td>\n",
       "      <td>0</td>\n",
       "      <td>Bajo</td>\n",
       "      <td>18</td>\n",
       "      <td>296</td>\n",
       "    </tr>\n",
       "    <tr>\n",
       "      <th>3</th>\n",
       "      <td>Media</td>\n",
       "      <td>Masculino</td>\n",
       "      <td>Propia</td>\n",
       "      <td>Casado</td>\n",
       "      <td>Cerca</td>\n",
       "      <td>85600</td>\n",
       "      <td>1</td>\n",
       "      <td>Alto</td>\n",
       "      <td>18</td>\n",
       "      <td>2436</td>\n",
       "    </tr>\n",
       "    <tr>\n",
       "      <th>4</th>\n",
       "      <td>Media</td>\n",
       "      <td>Femenino</td>\n",
       "      <td>Propia</td>\n",
       "      <td>Soltero</td>\n",
       "      <td>Cerca</td>\n",
       "      <td>68400</td>\n",
       "      <td>0</td>\n",
       "      <td>Alto</td>\n",
       "      <td>12</td>\n",
       "      <td>1304</td>\n",
       "    </tr>\n",
       "  </tbody>\n",
       "</table>\n",
       "</div>"
      ],
      "text/plain": [
       "     Edad     Genero   Vivienda   Ecivil Ubicacion  Salario  Hijos Historial  \\\n",
       "0  Adulta   Femenino     Propia  Soltero     Lejos    47500      0      Alto   \n",
       "1   Media  Masculino  Alquilada  Soltero     Cerca    63600      0      Alto   \n",
       "2   Joven   Femenino  Alquilada  Soltero     Cerca    13500      0      Bajo   \n",
       "3   Media  Masculino     Propia   Casado     Cerca    85600      1      Alto   \n",
       "4   Media   Femenino     Propia  Soltero     Cerca    68400      0      Alto   \n",
       "\n",
       "   Catalogos  Monto  \n",
       "0          6    755  \n",
       "1          6   1318  \n",
       "2         18    296  \n",
       "3         18   2436  \n",
       "4         12   1304  "
      ]
     },
     "execution_count": 39,
     "metadata": {},
     "output_type": "execute_result"
    }
   ],
   "source": [
    "mark.head()"
   ]
  },
  {
   "cell_type": "code",
   "execution_count": 40,
   "metadata": {},
   "outputs": [
    {
     "name": "stdout",
     "output_type": "stream",
     "text": [
      "<class 'pandas.core.frame.DataFrame'>\n",
      "RangeIndex: 1000 entries, 0 to 999\n",
      "Data columns (total 10 columns):\n",
      " #   Column     Non-Null Count  Dtype \n",
      "---  ------     --------------  ----- \n",
      " 0   Edad       1000 non-null   object\n",
      " 1   Genero     1000 non-null   object\n",
      " 2   Vivienda   1000 non-null   object\n",
      " 3   Ecivil     1000 non-null   object\n",
      " 4   Ubicacion  1000 non-null   object\n",
      " 5   Salario    1000 non-null   int64 \n",
      " 6   Hijos      1000 non-null   int64 \n",
      " 7   Historial  1000 non-null   object\n",
      " 8   Catalogos  1000 non-null   int64 \n",
      " 9   Monto      1000 non-null   int64 \n",
      "dtypes: int64(4), object(6)\n",
      "memory usage: 78.2+ KB\n"
     ]
    }
   ],
   "source": [
    "mark.info()"
   ]
  },
  {
   "cell_type": "markdown",
   "metadata": {},
   "source": [
    "Codificacion de datos tipo Object"
   ]
  },
  {
   "cell_type": "code",
   "execution_count": 41,
   "metadata": {},
   "outputs": [],
   "source": [
    "from collections import defaultdict\n",
    "from sklearn import preprocessing"
   ]
  },
  {
   "cell_type": "code",
   "execution_count": 42,
   "metadata": {},
   "outputs": [],
   "source": [
    "d = defaultdict(preprocessing.LabelEncoder)"
   ]
  },
  {
   "cell_type": "code",
   "execution_count": 43,
   "metadata": {},
   "outputs": [
    {
     "data": {
      "text/plain": [
       "collections.defaultdict"
      ]
     },
     "execution_count": 43,
     "metadata": {},
     "output_type": "execute_result"
    }
   ],
   "source": [
    "type(d)"
   ]
  },
  {
   "cell_type": "code",
   "execution_count": 44,
   "metadata": {},
   "outputs": [
    {
     "data": {
      "text/plain": [
       "Edad              Edad\n",
       "Genero          Genero\n",
       "Vivienda      Vivienda\n",
       "Ecivil          Ecivil\n",
       "Ubicacion    Ubicacion\n",
       "Salario        Salario\n",
       "Hijos            Hijos\n",
       "Historial    Historial\n",
       "Catalogos    Catalogos\n",
       "Monto            Monto\n",
       "dtype: object"
      ]
     },
     "execution_count": 44,
     "metadata": {},
     "output_type": "execute_result"
    }
   ],
   "source": [
    "mark.columns.to_series()"
   ]
  },
  {
   "cell_type": "code",
   "execution_count": 45,
   "metadata": {},
   "outputs": [],
   "source": [
    "grupos = mark.columns.to_series().groupby(mark.dtypes).groups"
   ]
  },
  {
   "cell_type": "code",
   "execution_count": 46,
   "metadata": {},
   "outputs": [
    {
     "data": {
      "text/plain": [
       "{int64: ['Salario', 'Hijos', 'Catalogos', 'Monto'], object: ['Edad', 'Genero', 'Vivienda', 'Ecivil', 'Ubicacion', 'Historial']}"
      ]
     },
     "execution_count": 46,
     "metadata": {},
     "output_type": "execute_result"
    }
   ],
   "source": [
    "grupos"
   ]
  },
  {
   "cell_type": "code",
   "execution_count": 47,
   "metadata": {},
   "outputs": [],
   "source": [
    "object_list = list(grupos[np.dtype(\"object\")])#combierte a lista"
   ]
  },
  {
   "cell_type": "code",
   "execution_count": 48,
   "metadata": {},
   "outputs": [
    {
     "data": {
      "text/plain": [
       "['Edad', 'Genero', 'Vivienda', 'Ecivil', 'Ubicacion', 'Historial']"
      ]
     },
     "execution_count": 48,
     "metadata": {},
     "output_type": "execute_result"
    }
   ],
   "source": [
    "object_list#se selecciono solo las variables tipo object"
   ]
  },
  {
   "cell_type": "code",
   "execution_count": 49,
   "metadata": {},
   "outputs": [],
   "source": [
    "mark2 = mark.apply(lambda x: d[x.name].fit_transform(x) if x.name in object_list else x) "
   ]
  },
  {
   "cell_type": "markdown",
   "metadata": {},
   "source": [
    "- fit(): aprendizaje\n",
    "- fit_transform(): aprendizaje mas transformacion\n",
    "- tranform(): realiza la transformacion sobre los ya aprendido"
   ]
  },
  {
   "cell_type": "code",
   "execution_count": 50,
   "metadata": {},
   "outputs": [
    {
     "data": {
      "text/html": [
       "<div>\n",
       "<style scoped>\n",
       "    .dataframe tbody tr th:only-of-type {\n",
       "        vertical-align: middle;\n",
       "    }\n",
       "\n",
       "    .dataframe tbody tr th {\n",
       "        vertical-align: top;\n",
       "    }\n",
       "\n",
       "    .dataframe thead th {\n",
       "        text-align: right;\n",
       "    }\n",
       "</style>\n",
       "<table border=\"1\" class=\"dataframe\">\n",
       "  <thead>\n",
       "    <tr style=\"text-align: right;\">\n",
       "      <th></th>\n",
       "      <th>Edad</th>\n",
       "      <th>Genero</th>\n",
       "      <th>Vivienda</th>\n",
       "      <th>Ecivil</th>\n",
       "      <th>Ubicacion</th>\n",
       "      <th>Salario</th>\n",
       "      <th>Hijos</th>\n",
       "      <th>Historial</th>\n",
       "      <th>Catalogos</th>\n",
       "      <th>Monto</th>\n",
       "    </tr>\n",
       "  </thead>\n",
       "  <tbody>\n",
       "    <tr>\n",
       "      <th>0</th>\n",
       "      <td>0</td>\n",
       "      <td>0</td>\n",
       "      <td>1</td>\n",
       "      <td>1</td>\n",
       "      <td>1</td>\n",
       "      <td>47500</td>\n",
       "      <td>0</td>\n",
       "      <td>0</td>\n",
       "      <td>6</td>\n",
       "      <td>755</td>\n",
       "    </tr>\n",
       "    <tr>\n",
       "      <th>1</th>\n",
       "      <td>2</td>\n",
       "      <td>1</td>\n",
       "      <td>0</td>\n",
       "      <td>1</td>\n",
       "      <td>0</td>\n",
       "      <td>63600</td>\n",
       "      <td>0</td>\n",
       "      <td>0</td>\n",
       "      <td>6</td>\n",
       "      <td>1318</td>\n",
       "    </tr>\n",
       "    <tr>\n",
       "      <th>2</th>\n",
       "      <td>1</td>\n",
       "      <td>0</td>\n",
       "      <td>0</td>\n",
       "      <td>1</td>\n",
       "      <td>0</td>\n",
       "      <td>13500</td>\n",
       "      <td>0</td>\n",
       "      <td>1</td>\n",
       "      <td>18</td>\n",
       "      <td>296</td>\n",
       "    </tr>\n",
       "    <tr>\n",
       "      <th>3</th>\n",
       "      <td>2</td>\n",
       "      <td>1</td>\n",
       "      <td>1</td>\n",
       "      <td>0</td>\n",
       "      <td>0</td>\n",
       "      <td>85600</td>\n",
       "      <td>1</td>\n",
       "      <td>0</td>\n",
       "      <td>18</td>\n",
       "      <td>2436</td>\n",
       "    </tr>\n",
       "    <tr>\n",
       "      <th>4</th>\n",
       "      <td>2</td>\n",
       "      <td>0</td>\n",
       "      <td>1</td>\n",
       "      <td>1</td>\n",
       "      <td>0</td>\n",
       "      <td>68400</td>\n",
       "      <td>0</td>\n",
       "      <td>0</td>\n",
       "      <td>12</td>\n",
       "      <td>1304</td>\n",
       "    </tr>\n",
       "  </tbody>\n",
       "</table>\n",
       "</div>"
      ],
      "text/plain": [
       "   Edad  Genero  Vivienda  Ecivil  Ubicacion  Salario  Hijos  Historial  \\\n",
       "0     0       0         1       1          1    47500      0          0   \n",
       "1     2       1         0       1          0    63600      0          0   \n",
       "2     1       0         0       1          0    13500      0          1   \n",
       "3     2       1         1       0          0    85600      1          0   \n",
       "4     2       0         1       1          0    68400      0          0   \n",
       "\n",
       "   Catalogos  Monto  \n",
       "0          6    755  \n",
       "1          6   1318  \n",
       "2         18    296  \n",
       "3         18   2436  \n",
       "4         12   1304  "
      ]
     },
     "execution_count": 50,
     "metadata": {},
     "output_type": "execute_result"
    }
   ],
   "source": [
    "mark2.head()"
   ]
  },
  {
   "cell_type": "code",
   "execution_count": 51,
   "metadata": {},
   "outputs": [
    {
     "name": "stdout",
     "output_type": "stream",
     "text": [
      "['Femenino', 'Masculino']\n"
     ]
    }
   ],
   "source": [
    "genero = list(d[\"Genero\"].classes_); print(genero)"
   ]
  },
  {
   "cell_type": "code",
   "execution_count": 52,
   "metadata": {},
   "outputs": [
    {
     "name": "stdout",
     "output_type": "stream",
     "text": [
      "[0, 1]\n"
     ]
    }
   ],
   "source": [
    "cod_genero = list(d[\"Genero\"].transform(genero)); print(cod_genero)"
   ]
  },
  {
   "cell_type": "code",
   "execution_count": 53,
   "metadata": {},
   "outputs": [
    {
     "data": {
      "text/html": [
       "<div>\n",
       "<style scoped>\n",
       "    .dataframe tbody tr th:only-of-type {\n",
       "        vertical-align: middle;\n",
       "    }\n",
       "\n",
       "    .dataframe tbody tr th {\n",
       "        vertical-align: top;\n",
       "    }\n",
       "\n",
       "    .dataframe thead th {\n",
       "        text-align: right;\n",
       "    }\n",
       "</style>\n",
       "<table border=\"1\" class=\"dataframe\">\n",
       "  <thead>\n",
       "    <tr style=\"text-align: right;\">\n",
       "      <th></th>\n",
       "      <th>genero</th>\n",
       "      <th>cod_genero</th>\n",
       "    </tr>\n",
       "  </thead>\n",
       "  <tbody>\n",
       "    <tr>\n",
       "      <th>0</th>\n",
       "      <td>Femenino</td>\n",
       "      <td>0</td>\n",
       "    </tr>\n",
       "    <tr>\n",
       "      <th>1</th>\n",
       "      <td>Masculino</td>\n",
       "      <td>1</td>\n",
       "    </tr>\n",
       "  </tbody>\n",
       "</table>\n",
       "</div>"
      ],
      "text/plain": [
       "      genero  cod_genero\n",
       "0   Femenino           0\n",
       "1  Masculino           1"
      ]
     },
     "execution_count": 53,
     "metadata": {},
     "output_type": "execute_result"
    }
   ],
   "source": [
    "dicc_de_variables = pd.DataFrame({\"genero\":genero,\"cod_genero\":cod_genero})\n",
    "dicc_de_variables"
   ]
  },
  {
   "cell_type": "markdown",
   "metadata": {},
   "source": [
    "- -->train (para aprender) datos que son utiles para desarrollar modelos de fit_transform()\n",
    "- -->test (para probar o evaluar ) datos que son utiles para testear el modelo desarrollado transform()"
   ]
  },
  {
   "cell_type": "markdown",
   "metadata": {},
   "source": [
    "Particionamiento de Datos"
   ]
  },
  {
   "cell_type": "code",
   "execution_count": 54,
   "metadata": {},
   "outputs": [],
   "source": [
    "import os "
   ]
  },
  {
   "cell_type": "code",
   "execution_count": 55,
   "metadata": {},
   "outputs": [],
   "source": [
    "os.chdir('/home/erik/Documentos/cursos/Data-Science/Data')"
   ]
  },
  {
   "cell_type": "code",
   "execution_count": 56,
   "metadata": {},
   "outputs": [
    {
     "data": {
      "text/plain": [
       "'/home/erik/Documentos/cursos/Data-Science/Data'"
      ]
     },
     "execution_count": 56,
     "metadata": {},
     "output_type": "execute_result"
    }
   ],
   "source": [
    "os.getcwd()"
   ]
  },
  {
   "cell_type": "code",
   "execution_count": 57,
   "metadata": {},
   "outputs": [],
   "source": [
    "bank = pd.read_csv(\"bank.csv\",\n",
    "                    sep=\";\")"
   ]
  },
  {
   "cell_type": "code",
   "execution_count": 58,
   "metadata": {},
   "outputs": [
    {
     "data": {
      "text/html": [
       "<div>\n",
       "<style scoped>\n",
       "    .dataframe tbody tr th:only-of-type {\n",
       "        vertical-align: middle;\n",
       "    }\n",
       "\n",
       "    .dataframe tbody tr th {\n",
       "        vertical-align: top;\n",
       "    }\n",
       "\n",
       "    .dataframe thead th {\n",
       "        text-align: right;\n",
       "    }\n",
       "</style>\n",
       "<table border=\"1\" class=\"dataframe\">\n",
       "  <thead>\n",
       "    <tr style=\"text-align: right;\">\n",
       "      <th></th>\n",
       "      <th>age</th>\n",
       "      <th>job</th>\n",
       "      <th>marital</th>\n",
       "      <th>education</th>\n",
       "      <th>default</th>\n",
       "      <th>balance</th>\n",
       "      <th>housing</th>\n",
       "      <th>loan</th>\n",
       "      <th>contact</th>\n",
       "      <th>day</th>\n",
       "      <th>month</th>\n",
       "      <th>duration</th>\n",
       "      <th>campaign</th>\n",
       "      <th>pdays</th>\n",
       "      <th>previous</th>\n",
       "      <th>poutcome</th>\n",
       "      <th>y</th>\n",
       "    </tr>\n",
       "  </thead>\n",
       "  <tbody>\n",
       "    <tr>\n",
       "      <th>0</th>\n",
       "      <td>30</td>\n",
       "      <td>unemployed</td>\n",
       "      <td>married</td>\n",
       "      <td>primary</td>\n",
       "      <td>no</td>\n",
       "      <td>1787</td>\n",
       "      <td>no</td>\n",
       "      <td>no</td>\n",
       "      <td>cellular</td>\n",
       "      <td>19</td>\n",
       "      <td>oct</td>\n",
       "      <td>79</td>\n",
       "      <td>1</td>\n",
       "      <td>-1</td>\n",
       "      <td>0</td>\n",
       "      <td>unknown</td>\n",
       "      <td>no</td>\n",
       "    </tr>\n",
       "    <tr>\n",
       "      <th>1</th>\n",
       "      <td>33</td>\n",
       "      <td>services</td>\n",
       "      <td>married</td>\n",
       "      <td>secondary</td>\n",
       "      <td>no</td>\n",
       "      <td>4789</td>\n",
       "      <td>yes</td>\n",
       "      <td>yes</td>\n",
       "      <td>cellular</td>\n",
       "      <td>11</td>\n",
       "      <td>may</td>\n",
       "      <td>220</td>\n",
       "      <td>1</td>\n",
       "      <td>339</td>\n",
       "      <td>4</td>\n",
       "      <td>failure</td>\n",
       "      <td>no</td>\n",
       "    </tr>\n",
       "    <tr>\n",
       "      <th>2</th>\n",
       "      <td>35</td>\n",
       "      <td>management</td>\n",
       "      <td>single</td>\n",
       "      <td>tertiary</td>\n",
       "      <td>no</td>\n",
       "      <td>1350</td>\n",
       "      <td>yes</td>\n",
       "      <td>no</td>\n",
       "      <td>cellular</td>\n",
       "      <td>16</td>\n",
       "      <td>apr</td>\n",
       "      <td>185</td>\n",
       "      <td>1</td>\n",
       "      <td>330</td>\n",
       "      <td>1</td>\n",
       "      <td>failure</td>\n",
       "      <td>no</td>\n",
       "    </tr>\n",
       "    <tr>\n",
       "      <th>3</th>\n",
       "      <td>30</td>\n",
       "      <td>management</td>\n",
       "      <td>married</td>\n",
       "      <td>tertiary</td>\n",
       "      <td>no</td>\n",
       "      <td>1476</td>\n",
       "      <td>yes</td>\n",
       "      <td>yes</td>\n",
       "      <td>unknown</td>\n",
       "      <td>3</td>\n",
       "      <td>jun</td>\n",
       "      <td>199</td>\n",
       "      <td>4</td>\n",
       "      <td>-1</td>\n",
       "      <td>0</td>\n",
       "      <td>unknown</td>\n",
       "      <td>no</td>\n",
       "    </tr>\n",
       "    <tr>\n",
       "      <th>4</th>\n",
       "      <td>59</td>\n",
       "      <td>blue-collar</td>\n",
       "      <td>married</td>\n",
       "      <td>secondary</td>\n",
       "      <td>no</td>\n",
       "      <td>0</td>\n",
       "      <td>yes</td>\n",
       "      <td>no</td>\n",
       "      <td>unknown</td>\n",
       "      <td>5</td>\n",
       "      <td>may</td>\n",
       "      <td>226</td>\n",
       "      <td>1</td>\n",
       "      <td>-1</td>\n",
       "      <td>0</td>\n",
       "      <td>unknown</td>\n",
       "      <td>no</td>\n",
       "    </tr>\n",
       "  </tbody>\n",
       "</table>\n",
       "</div>"
      ],
      "text/plain": [
       "   age          job  marital  education default  balance housing loan  \\\n",
       "0   30   unemployed  married    primary      no     1787      no   no   \n",
       "1   33     services  married  secondary      no     4789     yes  yes   \n",
       "2   35   management   single   tertiary      no     1350     yes   no   \n",
       "3   30   management  married   tertiary      no     1476     yes  yes   \n",
       "4   59  blue-collar  married  secondary      no        0     yes   no   \n",
       "\n",
       "    contact  day month  duration  campaign  pdays  previous poutcome   y  \n",
       "0  cellular   19   oct        79         1     -1         0  unknown  no  \n",
       "1  cellular   11   may       220         1    339         4  failure  no  \n",
       "2  cellular   16   apr       185         1    330         1  failure  no  \n",
       "3   unknown    3   jun       199         4     -1         0  unknown  no  \n",
       "4   unknown    5   may       226         1     -1         0  unknown  no  "
      ]
     },
     "execution_count": 58,
     "metadata": {},
     "output_type": "execute_result"
    }
   ],
   "source": [
    "bank.head()"
   ]
  },
  {
   "cell_type": "code",
   "execution_count": 59,
   "metadata": {},
   "outputs": [
    {
     "data": {
      "text/plain": [
       "array([['no'],\n",
       "       ['no'],\n",
       "       ['no'],\n",
       "       ...,\n",
       "       ['no'],\n",
       "       ['no'],\n",
       "       ['no']], dtype=object)"
      ]
     },
     "execution_count": 59,
     "metadata": {},
     "output_type": "execute_result"
    }
   ],
   "source": [
    "bank[[\"y\"]].values"
   ]
  },
  {
   "cell_type": "code",
   "execution_count": 60,
   "metadata": {},
   "outputs": [
    {
     "data": {
      "text/plain": [
       "no     4000\n",
       "yes     521\n",
       "Name: y, dtype: int64"
      ]
     },
     "execution_count": 60,
     "metadata": {},
     "output_type": "execute_result"
    }
   ],
   "source": [
    "pd.value_counts(bank[\"y\"])"
   ]
  },
  {
   "cell_type": "code",
   "execution_count": 61,
   "metadata": {},
   "outputs": [
    {
     "data": {
      "text/plain": [
       "no     88.476001\n",
       "yes    11.523999\n",
       "Name: y, dtype: float64"
      ]
     },
     "execution_count": 61,
     "metadata": {},
     "output_type": "execute_result"
    }
   ],
   "source": [
    "pd.value_counts(bank[\"y\"])/len(bank[\"y\"])*100 #porcentaje"
   ]
  },
  {
   "cell_type": "code",
   "execution_count": 62,
   "metadata": {},
   "outputs": [
    {
     "data": {
      "text/plain": [
       "<AxesSubplot:>"
      ]
     },
     "execution_count": 62,
     "metadata": {},
     "output_type": "execute_result"
    },
    {
     "data": {
      "image/png": "[encoded data removed]",
      "text/plain": [
       "<Figure size 432x288 with 1 Axes>"
      ]
     },
     "metadata": {
      "needs_background": "light"
     },
     "output_type": "display_data"
    }
   ],
   "source": [
    "pd.value_counts(bank[\"y\"]).plot(kind=\"bar\")"
   ]
  },
  {
   "cell_type": "code",
   "execution_count": 63,
   "metadata": {},
   "outputs": [],
   "source": [
    "from sklearn.model_selection import train_test_split"
   ]
  },
  {
   "cell_type": "code",
   "execution_count": 64,
   "metadata": {},
   "outputs": [],
   "source": [
    "x = bank.iloc[:,0:16].values\n",
    "y = bank.iloc[:,16].values"
   ]
  },
  {
   "cell_type": "code",
   "execution_count": 65,
   "metadata": {},
   "outputs": [],
   "source": [
    "x_train, x_test, y_train, y_test = train_test_split(x,\n",
    "                                                    y,\n",
    "                                                    test_size = 0.3,\n",
    "                                                    random_state = 2021)"
   ]
  },
  {
   "cell_type": "code",
   "execution_count": 66,
   "metadata": {},
   "outputs": [
    {
     "data": {
      "text/plain": [
       "3164"
      ]
     },
     "execution_count": 66,
     "metadata": {},
     "output_type": "execute_result"
    }
   ],
   "source": [
    "len(x_train)"
   ]
  },
  {
   "cell_type": "code",
   "execution_count": 67,
   "metadata": {},
   "outputs": [
    {
     "data": {
      "text/plain": [
       "1357"
      ]
     },
     "execution_count": 67,
     "metadata": {},
     "output_type": "execute_result"
    }
   ],
   "source": [
    "len(x_test)"
   ]
  },
  {
   "cell_type": "markdown",
   "metadata": {},
   "source": [
    "Imputacion de datos - Reemplazar los valores faltantes por los calculados"
   ]
  },
  {
   "cell_type": "code",
   "execution_count": 68,
   "metadata": {},
   "outputs": [],
   "source": [
    "import os "
   ]
  },
  {
   "cell_type": "code",
   "execution_count": 69,
   "metadata": {},
   "outputs": [],
   "source": [
    "os.chdir('/home/erik/Documentos/cursos/Data-Science/Data')"
   ]
  },
  {
   "cell_type": "code",
   "execution_count": 75,
   "metadata": {},
   "outputs": [],
   "source": [
    "marketing = pd.read_csv(\"MarketingDirecto_2.csv\",\n",
    "                    sep=\";\")"
   ]
  },
  {
   "cell_type": "code",
   "execution_count": 76,
   "metadata": {},
   "outputs": [
    {
     "data": {
      "text/html": [
       "<div>\n",
       "<style scoped>\n",
       "    .dataframe tbody tr th:only-of-type {\n",
       "        vertical-align: middle;\n",
       "    }\n",
       "\n",
       "    .dataframe tbody tr th {\n",
       "        vertical-align: top;\n",
       "    }\n",
       "\n",
       "    .dataframe thead th {\n",
       "        text-align: right;\n",
       "    }\n",
       "</style>\n",
       "<table border=\"1\" class=\"dataframe\">\n",
       "  <thead>\n",
       "    <tr style=\"text-align: right;\">\n",
       "      <th></th>\n",
       "      <th>Edad</th>\n",
       "      <th>Genero</th>\n",
       "      <th>Vivienda</th>\n",
       "      <th>Ecivil</th>\n",
       "      <th>Ubicacion</th>\n",
       "      <th>Salario</th>\n",
       "      <th>Hijos</th>\n",
       "      <th>Historial</th>\n",
       "      <th>Catalogos</th>\n",
       "      <th>Monto</th>\n",
       "    </tr>\n",
       "  </thead>\n",
       "  <tbody>\n",
       "    <tr>\n",
       "      <th>0</th>\n",
       "      <td>Adulta</td>\n",
       "      <td>Femenino</td>\n",
       "      <td>Propia</td>\n",
       "      <td>Soltero</td>\n",
       "      <td>Lejos</td>\n",
       "      <td>47500</td>\n",
       "      <td>0</td>\n",
       "      <td>Alto</td>\n",
       "      <td>6</td>\n",
       "      <td>755.0</td>\n",
       "    </tr>\n",
       "    <tr>\n",
       "      <th>1</th>\n",
       "      <td>Media</td>\n",
       "      <td>Masculino</td>\n",
       "      <td>Alquilada</td>\n",
       "      <td>Soltero</td>\n",
       "      <td>Cerca</td>\n",
       "      <td>63600</td>\n",
       "      <td>0</td>\n",
       "      <td>Alto</td>\n",
       "      <td>6</td>\n",
       "      <td>1318.0</td>\n",
       "    </tr>\n",
       "    <tr>\n",
       "      <th>2</th>\n",
       "      <td>Joven</td>\n",
       "      <td>Femenino</td>\n",
       "      <td>Alquilada</td>\n",
       "      <td>Soltero</td>\n",
       "      <td>Cerca</td>\n",
       "      <td>13500</td>\n",
       "      <td>0</td>\n",
       "      <td>Bajo</td>\n",
       "      <td>18</td>\n",
       "      <td>296.0</td>\n",
       "    </tr>\n",
       "    <tr>\n",
       "      <th>3</th>\n",
       "      <td>Media</td>\n",
       "      <td>Masculino</td>\n",
       "      <td>Propia</td>\n",
       "      <td>Casado</td>\n",
       "      <td>Cerca</td>\n",
       "      <td>85600</td>\n",
       "      <td>1</td>\n",
       "      <td>Alto</td>\n",
       "      <td>18</td>\n",
       "      <td>2436.0</td>\n",
       "    </tr>\n",
       "    <tr>\n",
       "      <th>4</th>\n",
       "      <td>Media</td>\n",
       "      <td>Femenino</td>\n",
       "      <td>Propia</td>\n",
       "      <td>Soltero</td>\n",
       "      <td>Cerca</td>\n",
       "      <td>68400</td>\n",
       "      <td>0</td>\n",
       "      <td>Alto</td>\n",
       "      <td>12</td>\n",
       "      <td>NaN</td>\n",
       "    </tr>\n",
       "  </tbody>\n",
       "</table>\n",
       "</div>"
      ],
      "text/plain": [
       "     Edad     Genero   Vivienda   Ecivil Ubicacion  Salario  Hijos Historial  \\\n",
       "0  Adulta   Femenino     Propia  Soltero     Lejos    47500      0      Alto   \n",
       "1   Media  Masculino  Alquilada  Soltero     Cerca    63600      0      Alto   \n",
       "2   Joven   Femenino  Alquilada  Soltero     Cerca    13500      0      Bajo   \n",
       "3   Media  Masculino     Propia   Casado     Cerca    85600      1      Alto   \n",
       "4   Media   Femenino     Propia  Soltero     Cerca    68400      0      Alto   \n",
       "\n",
       "   Catalogos   Monto  \n",
       "0          6   755.0  \n",
       "1          6  1318.0  \n",
       "2         18   296.0  \n",
       "3         18  2436.0  \n",
       "4         12     NaN  "
      ]
     },
     "execution_count": 76,
     "metadata": {},
     "output_type": "execute_result"
    }
   ],
   "source": [
    "marketing.head()"
   ]
  },
  {
   "cell_type": "code",
   "execution_count": 77,
   "metadata": {},
   "outputs": [
    {
     "data": {
      "text/plain": [
       "Edad          0.0\n",
       "Genero        0.0\n",
       "Vivienda      0.0\n",
       "Ecivil        0.0\n",
       "Ubicacion     0.0\n",
       "Salario       0.0\n",
       "Hijos         0.0\n",
       "Historial    30.3\n",
       "Catalogos     0.0\n",
       "Monto         1.3\n",
       "dtype: float64"
      ]
     },
     "execution_count": 77,
     "metadata": {},
     "output_type": "execute_result"
    }
   ],
   "source": [
    "marketing.isnull().sum()/len(marketing)*100"
   ]
  },
  {
   "cell_type": "markdown",
   "metadata": {},
   "source": [
    "Niveles de perdidad de informacion\n",
    "\n",
    "- 0.1% -1% valores faltantes es trivial\n",
    "- 1% - 5% valores faltantes requieren de una tecnica para recuperar informacion\n",
    "- 5% -20% se requiere metodos sofisticados (supervisados) para recuperar esta informacion"
   ]
  },
  {
   "cell_type": "code",
   "execution_count": 78,
   "metadata": {},
   "outputs": [],
   "source": [
    "from sklearn.impute import SimpleImputer"
   ]
  },
  {
   "cell_type": "markdown",
   "metadata": {},
   "source": [
    "#Parametros en la funcion SimpleImputer\n",
    "\n",
    "strategy() = \n",
    "- promedio o media =\"mean\"\n",
    "- mediana = \"median\"\n",
    "- moda = \"most_frequent\""
   ]
  },
  {
   "cell_type": "code",
   "execution_count": 79,
   "metadata": {},
   "outputs": [],
   "source": [
    "imp_moda = SimpleImputer(missing_values=np.nan,\n",
    "                        strategy=\"most_frequent\")"
   ]
  },
  {
   "cell_type": "code",
   "execution_count": 80,
   "metadata": {},
   "outputs": [],
   "source": [
    "imp_mediana = SimpleImputer(missing_values=np.nan,\n",
    "                            strategy=\"median\")"
   ]
  },
  {
   "cell_type": "code",
   "execution_count": 81,
   "metadata": {},
   "outputs": [],
   "source": [
    "imp_media = SimpleImputer(missing_values=np.nan,\n",
    "                        strategy=\"mean\")"
   ]
  },
  {
   "cell_type": "code",
   "execution_count": 84,
   "metadata": {},
   "outputs": [],
   "source": [
    "marketing[[\"Historial\"]] = imp_moda.fit_transform(marketing[[\"Historial\"]])\n",
    "#la imputacion por la moda ejecutada no es la mas adecuada por que tiene el 30% de valores faltantes"
   ]
  },
  {
   "cell_type": "code",
   "execution_count": 85,
   "metadata": {},
   "outputs": [
    {
     "data": {
      "text/plain": [
       "Edad          0\n",
       "Genero        0\n",
       "Vivienda      0\n",
       "Ecivil        0\n",
       "Ubicacion     0\n",
       "Salario       0\n",
       "Hijos         0\n",
       "Historial     0\n",
       "Catalogos     0\n",
       "Monto        13\n",
       "dtype: int64"
      ]
     },
     "execution_count": 85,
     "metadata": {},
     "output_type": "execute_result"
    }
   ],
   "source": [
    "marketing.isnull().sum()"
   ]
  },
  {
   "cell_type": "code",
   "execution_count": 87,
   "metadata": {},
   "outputs": [],
   "source": [
    "marketing[[\"Monto\"]] = imp_moda.fit_transform(marketing[[\"Monto\"]])"
   ]
  },
  {
   "cell_type": "code",
   "execution_count": 88,
   "metadata": {},
   "outputs": [
    {
     "data": {
      "text/plain": [
       "Edad         0\n",
       "Genero       0\n",
       "Vivienda     0\n",
       "Ecivil       0\n",
       "Ubicacion    0\n",
       "Salario      0\n",
       "Hijos        0\n",
       "Historial    0\n",
       "Catalogos    0\n",
       "Monto        0\n",
       "dtype: int64"
      ]
     },
     "execution_count": 88,
     "metadata": {},
     "output_type": "execute_result"
    }
   ],
   "source": [
    "marketing.isnull().sum()"
   ]
  },
  {
   "cell_type": "markdown",
   "metadata": {},
   "source": [
    "- Imputacion de datos se refiere a la tarea de reemplazar valores faltantes  por valores calculados\n",
    "\n",
    "- cuantitativa continua --> imputacion por la media\n",
    "- cuantitativa discreta --> imputacion por la mediana\n",
    "- cuantitativa --> imputacion por la mediana\n",
    "\n",
    "- formas supervisadas (por que el proceso de imputacion se realiza en funcion de otra variable de imputacion)"
   ]
  },
  {
   "cell_type": "markdown",
   "metadata": {},
   "source": [
    "- cuantitativa & los niveles de perdida es >5% --> imputacion por regresion\n",
    "- cualitativa & los niveles de perdida es >5% --> imputacion por modelo de clasificaion (arboles de desicion)"
   ]
  },
  {
   "cell_type": "code",
   "execution_count": 89,
   "metadata": {},
   "outputs": [],
   "source": [
    "os.chdir('/home/erik/Documentos/cursos/Data-Science/Data')"
   ]
  },
  {
   "cell_type": "code",
   "execution_count": 90,
   "metadata": {},
   "outputs": [],
   "source": [
    "marketing = pd.read_csv(\"MarketingDirecto_2.csv\",\n",
    "                    sep=\";\")"
   ]
  },
  {
   "cell_type": "code",
   "execution_count": 91,
   "metadata": {},
   "outputs": [
    {
     "data": {
      "text/plain": [
       "Edad           0\n",
       "Genero         0\n",
       "Vivienda       0\n",
       "Ecivil         0\n",
       "Ubicacion      0\n",
       "Salario        0\n",
       "Hijos          0\n",
       "Historial    303\n",
       "Catalogos      0\n",
       "Monto         13\n",
       "dtype: int64"
      ]
     },
     "execution_count": 91,
     "metadata": {},
     "output_type": "execute_result"
    }
   ],
   "source": [
    "marketing.isnull().sum()"
   ]
  },
  {
   "cell_type": "code",
   "execution_count": 92,
   "metadata": {},
   "outputs": [
    {
     "data": {
      "image/png": "[encoded data removed]",
      "text/plain": [
       "<Figure size 432x288 with 1 Axes>"
      ]
     },
     "metadata": {
      "needs_background": "light"
     },
     "output_type": "display_data"
    }
   ],
   "source": [
    "marketing.plot.scatter(x=\"Salario\",y=\"Monto\")\n",
    "plt.show()"
   ]
  },
  {
   "cell_type": "code",
   "execution_count": 94,
   "metadata": {},
   "outputs": [
    {
     "data": {
      "text/html": [
       "<div>\n",
       "<style scoped>\n",
       "    .dataframe tbody tr th:only-of-type {\n",
       "        vertical-align: middle;\n",
       "    }\n",
       "\n",
       "    .dataframe tbody tr th {\n",
       "        vertical-align: top;\n",
       "    }\n",
       "\n",
       "    .dataframe thead th {\n",
       "        text-align: right;\n",
       "    }\n",
       "</style>\n",
       "<table border=\"1\" class=\"dataframe\">\n",
       "  <thead>\n",
       "    <tr style=\"text-align: right;\">\n",
       "      <th></th>\n",
       "      <th>Salario</th>\n",
       "      <th>Monto</th>\n",
       "    </tr>\n",
       "  </thead>\n",
       "  <tbody>\n",
       "    <tr>\n",
       "      <th>0</th>\n",
       "      <td>47500</td>\n",
       "      <td>755.0</td>\n",
       "    </tr>\n",
       "    <tr>\n",
       "      <th>1</th>\n",
       "      <td>63600</td>\n",
       "      <td>1318.0</td>\n",
       "    </tr>\n",
       "    <tr>\n",
       "      <th>2</th>\n",
       "      <td>13500</td>\n",
       "      <td>296.0</td>\n",
       "    </tr>\n",
       "    <tr>\n",
       "      <th>3</th>\n",
       "      <td>85600</td>\n",
       "      <td>2436.0</td>\n",
       "    </tr>\n",
       "    <tr>\n",
       "      <th>4</th>\n",
       "      <td>68400</td>\n",
       "      <td>NaN</td>\n",
       "    </tr>\n",
       "  </tbody>\n",
       "</table>\n",
       "</div>"
      ],
      "text/plain": [
       "   Salario   Monto\n",
       "0    47500   755.0\n",
       "1    63600  1318.0\n",
       "2    13500   296.0\n",
       "3    85600  2436.0\n",
       "4    68400     NaN"
      ]
     },
     "execution_count": 94,
     "metadata": {},
     "output_type": "execute_result"
    }
   ],
   "source": [
    "marketing[[\"Salario\",\"Monto\"]].head()"
   ]
  },
  {
   "cell_type": "code",
   "execution_count": null,
   "metadata": {},
   "outputs": [],
   "source": []
  },
  {
   "cell_type": "code",
   "execution_count": null,
   "metadata": {},
   "outputs": [],
   "source": []
  }
 ],
 "metadata": {
  "kernelspec": {
   "display_name": "Python 3.9.12 ('base')",
   "language": "python",
   "name": "python3"
  },
  "language_info": {
   "codemirror_mode": {
    "name": "ipython",
    "version": 3
   },
   "file_extension": ".py",
   "mimetype": "text/x-python",
   "name": "python",
   "nbconvert_exporter": "python",
   "pygments_lexer": "ipython3",
   "version": "3.9.12"
  },
  "orig_nbformat": 4,
  "vscode": {
   "interpreter": {
    "hash": "8c4c8510ef8ebf92c71b12674dd4c6e46a22be7143d6d92cf0443214191cf3c1"
   }
  }
 },
 "nbformat": 4,
 "nbformat_minor": 2
}
